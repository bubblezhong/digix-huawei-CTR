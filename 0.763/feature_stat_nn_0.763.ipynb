{
 "cells": [
  {
   "cell_type": "code",
   "execution_count": 1,
   "metadata": {},
   "outputs": [],
   "source": [
    "import pandas as pd\n",
    "import numpy as np\n",
    "from tqdm import tqdm\n",
    "from sklearn.preprocessing import LabelEncoder\n",
    "import seaborn as sns\n",
    "import matplotlib.pyplot as plt\n",
    "import lightgbm as lgb\n",
    "from sklearn.metrics import roc_auc_score\n",
    "from sklearn.model_selection import KFold\n",
    "from sklearn.model_selection import StratifiedKFold\n",
    "from datetime import timedelta\n",
    "import time as datetime\n",
    "from gensim.models import Word2Vec\n",
    "# from feature_selector import FeatureSelector\n",
    "from gensim.models import Word2Vec\n",
    "\n",
    "from sklearn.metrics import classification_report, f1_score\n",
    "from sklearn.model_selection import StratifiedKFold, KFold\n",
    "from sklearn.decomposition import TruncatedSVD\n",
    "from sklearn.feature_extraction.text import TfidfVectorizer,CountVectorizer\n",
    "\n",
    "\n",
    "from deepctr.models import xDeepFM\n",
    "from sklearn.preprocessing import LabelEncoder,MinMaxScaler\n",
    "from deepctr.feature_column import SparseFeat, DenseFeat, get_feature_names\n",
    "import warnings\n",
    "warnings.filterwarnings('ignore')\n",
    "\n",
    "import gc\n",
    "import os\n",
    "os.environ['CUDA_VISIBLE_DEVICES'] = \"0\""
   ]
  },
  {
   "cell_type": "code",
   "execution_count": null,
   "metadata": {},
   "outputs": [],
   "source": [
    "# data = pd.read_pickle('../data/train_ctr_test.pickle')\n",
    "\n",
    "data = pd.read_pickle('../data/train67_test.pickle')\n"
   ]
  },
  {
   "cell_type": "code",
   "execution_count": null,
   "metadata": {},
   "outputs": [],
   "source": [
    "data.columns"
   ]
  },
  {
   "cell_type": "code",
   "execution_count": null,
   "metadata": {},
   "outputs": [],
   "source": [
    "data.head()"
   ]
  },
  {
   "cell_type": "code",
   "execution_count": null,
   "metadata": {},
   "outputs": [],
   "source": [
    "# 内存压缩\n",
    "def data_compression(df):\n",
    "    \"\"\" iterate through all the columns of a dataframe and modify the data type\n",
    "        to reduce memory usage.        \n",
    "    \"\"\"\n",
    "    start_mem = df.memory_usage().sum() / 1024**2\n",
    "    print('Memory usage of dataframe is {:.2f} MB'.format(start_mem))\n",
    "    \n",
    "    for col in tqdm(df.columns):\n",
    "        col_type = df[col].dtype\n",
    "        \n",
    "        if col_type != object:\n",
    "            c_min = df[col].min()\n",
    "            c_max = df[col].max()\n",
    "            if str(col_type)[:3] == 'int':\n",
    "                if c_min > np.iinfo(np.int8).min and c_max < np.iinfo(np.int8).max:\n",
    "                    df[col] = df[col].astype(np.int8)\n",
    "                elif c_min > np.iinfo(np.int16).min and c_max < np.iinfo(np.int16).max:\n",
    "                    df[col] = df[col].astype(np.int16)\n",
    "                elif c_min > np.iinfo(np.int32).min and c_max < np.iinfo(np.int32).max:\n",
    "                    df[col] = df[col].astype(np.int32)\n",
    "                elif c_min > np.iinfo(np.int64).min and c_max < np.iinfo(np.int64).max:\n",
    "                    df[col] = df[col].astype(np.int64)  \n",
    "            else:\n",
    "                if c_min > np.finfo(np.float16).min and c_max < np.finfo(np.float16).max:\n",
    "                    df[col] = df[col].astype(np.float16)\n",
    "                elif c_min > np.finfo(np.float32).min and c_max < np.finfo(np.float32).max:\n",
    "                    df[col] = df[col].astype(np.float32)\n",
    "                else:\n",
    "                    df[col] = df[col].astype(np.float64)\n",
    "        else:\n",
    "            df[col] = df[col].astype('category')\n",
    "\n",
    "    end_mem = df.memory_usage().sum() / 1024**2\n",
    "    print('Memory usage after optimization is: {:.2f} MB'.format(end_mem))\n",
    "    print('Decreased by {:.1f}%'.format(100 * (start_mem - end_mem) / start_mem))\n",
    "    \n",
    "    return df"
   ]
  },
  {
   "cell_type": "code",
   "execution_count": 5,
   "metadata": {},
   "outputs": [],
   "source": [
    "train = data[~data['label'].isna()]\n",
    "test = data[data['label'].isna()]"
   ]
  },
  {
   "cell_type": "markdown",
   "metadata": {},
   "source": [
    "# Target Encoder\n"
   ]
  },
  {
   "cell_type": "code",
   "execution_count": 6,
   "metadata": {},
   "outputs": [],
   "source": [
    "#  对ID特征进行 Target Encoder\n",
    "def kfold_stats_feature(train,test,feats,k):\n",
    "    folds = StratifiedKFold(n_splits=k,shuffle=True,random_state=2020)\n",
    "    train['fold'] = None\n",
    "    for fold_,(trn_idx, val_idx) in enumerate(folds.split(train,train['label'])):\n",
    "        train.loc[val_idx,'fold'] = fold_\n",
    "        \n",
    "    kfold_features = []\n",
    "    for feat in tqdm(feats):\n",
    "        nums_columns = ['label']\n",
    "        for f in nums_columns:\n",
    "            colname = feat + '_' + f + '_kfold_mean'\n",
    "            kfold_features.append(colname)\n",
    "            train[colname] = None\n",
    "            for fold_,(trn_idx,val_idx) in enumerate(folds.split(train,train['label'])):\n",
    "                order_label = train.iloc[trn_idx].groupby([feat])[f].mean()\n",
    "                train.loc[train.fold == fold_, colname] = train.loc[train.fold == fold_, [feat]][feat].map(order_label)\n",
    "                \n",
    "                # fillna\n",
    "                global_mean = train[f].mean()\n",
    "                train.loc[train.fold == fold_, colname] = train.loc[train.fold == fold_, colname].fillna(global_mean)\n",
    "            train[colname] = train[colname].astype(float)\n",
    "            \n",
    "            \n",
    "        for f in nums_columns:\n",
    "            colname = feat + '_' + f + '_kfold_mean'\n",
    "            test[colname] = None\n",
    "            order_label = train.groupby([feat])[f].mean()\n",
    "            test[colname] = test[feat].map(order_label)\n",
    "            test[colname] = test[colname].astype(float)        \n",
    "    del train['fold']\n",
    "    return train,test"
   ]
  },
  {
   "cell_type": "code",
   "execution_count": 7,
   "metadata": {},
   "outputs": [
    {
     "name": "stderr",
     "output_type": "stream",
     "text": [
      "100%|██████████████████████████████████████████████████████████████████████████████████| 10/10 [08:39<00:00, 51.99s/it]\n"
     ]
    }
   ],
   "source": [
    "target_encode_cols = ['task_id', 'adv_id', 'creat_type_cd', 'adv_prim_id', \n",
    "                  \t  'dev_id', 'inter_type_cd', 'slot_id', 'spread_app_id', 'tags', 'app_first_class',]\n",
    "train,test =kfold_stats_feature(train,test,target_encode_cols,5)"
   ]
  },
  {
   "cell_type": "code",
   "execution_count": 9,
   "metadata": {},
   "outputs": [
    {
     "data": {
      "text/plain": [
       "(12027161, 1000000)"
      ]
     },
     "execution_count": 9,
     "metadata": {},
     "output_type": "execute_result"
    }
   ],
   "source": [
    "len(train),len(test)"
   ]
  },
  {
   "cell_type": "markdown",
   "metadata": {},
   "source": [
    "（1）组合点击率特征\n",
    "（2）slot_id的分布，\n",
    "（3）下一次点击网络变化\n",
    "df_feature['next_netmodel'] = df_feature.groupby(['deviceid'])[ 'netmodel'].shift(-1)\n",
    "（4） 对uid 进行分组，得到每个task_id对应的多个u_id，word2vec,得到每个广告的vec表示形式\n",
    "（5) 每个gender age  career  city city_rank device_name点击的广告行业的均值"
   ]
  },
  {
   "cell_type": "code",
   "execution_count": 10,
   "metadata": {},
   "outputs": [],
   "source": [
    "#  对ID特征进行 Target Encoder\n",
    "def mix_kfold_stats_feature(train,test,mix_1,mix_2,k):\n",
    "    folds = StratifiedKFold(n_splits=k,shuffle=True,random_state=2020)\n",
    "    train['fold'] = None\n",
    "    for fold_,(trn_idx, val_idx) in enumerate(folds.split(train,train['label'])):\n",
    "        train.loc[val_idx,'fold'] = fold_\n",
    "        \n",
    "    kfold_features = []\n",
    "    for feat_1 in tqdm(mix_1):\n",
    "        for feat_2 in mix_2:\n",
    "            nums_columns = ['label']\n",
    "            for f in nums_columns:\n",
    "                mix1_mix_2_col = feat_1 +'_'+ feat_2\n",
    "                colname = feat_1 +'_'+ feat_2 + '_' + f + '_kfold_mean'\n",
    "                kfold_features.append(colname)\n",
    "                train[colname] = None\n",
    "                train[mix1_mix_2_col] =  train[feat_1].astype(str) + '_'+ train[feat_2].astype(str)\n",
    "                test[mix1_mix_2_col] =  test[feat_1].astype(str) + '_'+ test[feat_2].astype(str)\n",
    "\n",
    "                for fold_,(trn_idx,val_idx) in enumerate(folds.split(train,train['label'])):\n",
    "                    order_label = train[[mix1_mix_2_col,f]].iloc[trn_idx].groupby([mix1_mix_2_col])[f].mean()\n",
    "#                     print(order_label.reset_index())\n",
    "                    train.loc[train.fold == fold_, colname] =\\\n",
    "                            train.loc[train.fold == fold_, [mix1_mix_2_col]][mix1_mix_2_col].map(order_label)\n",
    "\n",
    "#                     # fillna\n",
    "                    global_mean = train[f].mean()\n",
    "                    train.loc[train.fold == fold_, colname] = train.loc[train.fold == fold_, colname].fillna(global_mean)\n",
    "                train[colname] = train[colname].astype(float)\n",
    "\n",
    "\n",
    "            for f in nums_columns:\n",
    "                colname = feat_1 +'_'+ feat_2 + '_' + f + '_kfold_mean'\n",
    "                test[colname] = None\n",
    "                order_label = train[[mix1_mix_2_col,f]].groupby([mix1_mix_2_col])[f].mean()\n",
    "                test[colname] = test[mix1_mix_2_col].map(order_label)\n",
    "                test[colname] = test[colname].astype(float)\n",
    "            del train[mix1_mix_2_col]\n",
    "            del test[mix1_mix_2_col]\n",
    "    del train['fold']\n",
    "    del order_label\n",
    "    gc.collect()\n",
    "    return train,test"
   ]
  },
  {
   "cell_type": "code",
   "execution_count": 11,
   "metadata": {
    "scrolled": true
   },
   "outputs": [
    {
     "name": "stderr",
     "output_type": "stream",
     "text": [
      "100%|█████████████████████████████████████████████████████████████████████████████████| 8/8 [1:19:01<00:00, 592.70s/it]\n"
     ]
    }
   ],
   "source": [
    "# 组合交叉点击率\n",
    "# task_id(广告id) / ndu_name(广告行业) /adv_prim_id(广告主) 与gender age  career  city city_rank device_name\n",
    "mix_1_traget_encode_cols = ['task_id','adv_id','indu_name','adv_prim_id','spread_app_id','tags','app_first_class','app_second_class']\n",
    "mix_2_traget_encode_cols = ['age','gender','career','city','city_rank','device_name','device_size','residence','his_app_size']\n",
    "train,test = mix_kfold_stats_feature(train,test,mix_1_traget_encode_cols,mix_2_traget_encode_cols,5)\n"
   ]
  },
  {
   "cell_type": "code",
   "execution_count": 15,
   "metadata": {},
   "outputs": [],
   "source": [
    "data = pd.concat([train,test],sort=False).reset_index(drop=True)"
   ]
  },
  {
   "cell_type": "code",
   "execution_count": 16,
   "metadata": {},
   "outputs": [
    {
     "data": {
      "text/plain": [
       "(13027161, 118)"
      ]
     },
     "execution_count": 16,
     "metadata": {},
     "output_type": "execute_result"
    }
   ],
   "source": [
    "data.shape"
   ]
  },
  {
   "cell_type": "code",
   "execution_count": 23,
   "metadata": {},
   "outputs": [
    {
     "data": {
      "text/html": [
       "<div>\n",
       "<style scoped>\n",
       "    .dataframe tbody tr th:only-of-type {\n",
       "        vertical-align: middle;\n",
       "    }\n",
       "\n",
       "    .dataframe tbody tr th {\n",
       "        vertical-align: top;\n",
       "    }\n",
       "\n",
       "    .dataframe thead th {\n",
       "        text-align: right;\n",
       "    }\n",
       "</style>\n",
       "<table border=\"1\" class=\"dataframe\">\n",
       "  <thead>\n",
       "    <tr style=\"text-align: right;\">\n",
       "      <th></th>\n",
       "      <th>label</th>\n",
       "      <th>uid</th>\n",
       "      <th>task_id</th>\n",
       "      <th>adv_id</th>\n",
       "      <th>creat_type_cd</th>\n",
       "      <th>adv_prim_id</th>\n",
       "      <th>dev_id</th>\n",
       "      <th>inter_type_cd</th>\n",
       "      <th>slot_id</th>\n",
       "      <th>spread_app_id</th>\n",
       "      <th>...</th>\n",
       "      <th>app_first_class_his_app_size_label_kfold_mean</th>\n",
       "      <th>app_second_class_age_label_kfold_mean</th>\n",
       "      <th>app_second_class_gender_label_kfold_mean</th>\n",
       "      <th>app_second_class_career_label_kfold_mean</th>\n",
       "      <th>app_second_class_city_label_kfold_mean</th>\n",
       "      <th>app_second_class_city_rank_label_kfold_mean</th>\n",
       "      <th>app_second_class_device_name_label_kfold_mean</th>\n",
       "      <th>app_second_class_device_size_label_kfold_mean</th>\n",
       "      <th>app_second_class_residence_label_kfold_mean</th>\n",
       "      <th>app_second_class_his_app_size_label_kfold_mean</th>\n",
       "    </tr>\n",
       "  </thead>\n",
       "  <tbody>\n",
       "    <tr>\n",
       "      <th>13027156</th>\n",
       "      <td>NaN</td>\n",
       "      <td>1759244</td>\n",
       "      <td>2847</td>\n",
       "      <td>6231</td>\n",
       "      <td>6</td>\n",
       "      <td>112</td>\n",
       "      <td>60</td>\n",
       "      <td>3</td>\n",
       "      <td>17</td>\n",
       "      <td>78</td>\n",
       "      <td>...</td>\n",
       "      <td>0.020524</td>\n",
       "      <td>0.017155</td>\n",
       "      <td>0.019356</td>\n",
       "      <td>0.018434</td>\n",
       "      <td>0.017828</td>\n",
       "      <td>0.022030</td>\n",
       "      <td>0.015815</td>\n",
       "      <td>0.014989</td>\n",
       "      <td>0.019632</td>\n",
       "      <td>0.019863</td>\n",
       "    </tr>\n",
       "    <tr>\n",
       "      <th>13027157</th>\n",
       "      <td>NaN</td>\n",
       "      <td>1009170</td>\n",
       "      <td>3382</td>\n",
       "      <td>5695</td>\n",
       "      <td>6</td>\n",
       "      <td>209</td>\n",
       "      <td>60</td>\n",
       "      <td>3</td>\n",
       "      <td>11</td>\n",
       "      <td>78</td>\n",
       "      <td>...</td>\n",
       "      <td>0.020524</td>\n",
       "      <td>0.017500</td>\n",
       "      <td>0.019356</td>\n",
       "      <td>0.018434</td>\n",
       "      <td>0.020690</td>\n",
       "      <td>0.022030</td>\n",
       "      <td>0.016237</td>\n",
       "      <td>0.019806</td>\n",
       "      <td>0.023406</td>\n",
       "      <td>0.019863</td>\n",
       "    </tr>\n",
       "    <tr>\n",
       "      <th>13027158</th>\n",
       "      <td>NaN</td>\n",
       "      <td>2052980</td>\n",
       "      <td>4190</td>\n",
       "      <td>4425</td>\n",
       "      <td>8</td>\n",
       "      <td>142</td>\n",
       "      <td>60</td>\n",
       "      <td>5</td>\n",
       "      <td>12</td>\n",
       "      <td>80</td>\n",
       "      <td>...</td>\n",
       "      <td>0.020524</td>\n",
       "      <td>0.018463</td>\n",
       "      <td>0.025812</td>\n",
       "      <td>0.026042</td>\n",
       "      <td>0.028051</td>\n",
       "      <td>0.026682</td>\n",
       "      <td>0.020186</td>\n",
       "      <td>0.022671</td>\n",
       "      <td>0.025631</td>\n",
       "      <td>0.023153</td>\n",
       "    </tr>\n",
       "    <tr>\n",
       "      <th>13027159</th>\n",
       "      <td>NaN</td>\n",
       "      <td>1721002</td>\n",
       "      <td>5362</td>\n",
       "      <td>6801</td>\n",
       "      <td>7</td>\n",
       "      <td>104</td>\n",
       "      <td>37</td>\n",
       "      <td>5</td>\n",
       "      <td>17</td>\n",
       "      <td>50</td>\n",
       "      <td>...</td>\n",
       "      <td>0.040085</td>\n",
       "      <td>0.038182</td>\n",
       "      <td>0.041787</td>\n",
       "      <td>0.051700</td>\n",
       "      <td>0.039499</td>\n",
       "      <td>0.039060</td>\n",
       "      <td>0.033092</td>\n",
       "      <td>0.032404</td>\n",
       "      <td>0.041509</td>\n",
       "      <td>0.037365</td>\n",
       "    </tr>\n",
       "    <tr>\n",
       "      <th>13027160</th>\n",
       "      <td>NaN</td>\n",
       "      <td>2019155</td>\n",
       "      <td>1397</td>\n",
       "      <td>6167</td>\n",
       "      <td>7</td>\n",
       "      <td>162</td>\n",
       "      <td>60</td>\n",
       "      <td>5</td>\n",
       "      <td>17</td>\n",
       "      <td>70</td>\n",
       "      <td>...</td>\n",
       "      <td>0.020524</td>\n",
       "      <td>0.033163</td>\n",
       "      <td>0.040778</td>\n",
       "      <td>0.033345</td>\n",
       "      <td>0.035259</td>\n",
       "      <td>0.042065</td>\n",
       "      <td>0.033304</td>\n",
       "      <td>0.038918</td>\n",
       "      <td>0.035626</td>\n",
       "      <td>0.016770</td>\n",
       "    </tr>\n",
       "  </tbody>\n",
       "</table>\n",
       "<p>5 rows × 118 columns</p>\n",
       "</div>"
      ],
      "text/plain": [
       "          label      uid  task_id  adv_id  creat_type_cd  adv_prim_id  dev_id  \\\n",
       "13027156    NaN  1759244     2847    6231              6          112      60   \n",
       "13027157    NaN  1009170     3382    5695              6          209      60   \n",
       "13027158    NaN  2052980     4190    4425              8          142      60   \n",
       "13027159    NaN  1721002     5362    6801              7          104      37   \n",
       "13027160    NaN  2019155     1397    6167              7          162      60   \n",
       "\n",
       "          inter_type_cd  slot_id  spread_app_id  ...  \\\n",
       "13027156              3       17             78  ...   \n",
       "13027157              3       11             78  ...   \n",
       "13027158              5       12             80  ...   \n",
       "13027159              5       17             50  ...   \n",
       "13027160              5       17             70  ...   \n",
       "\n",
       "          app_first_class_his_app_size_label_kfold_mean  \\\n",
       "13027156                                       0.020524   \n",
       "13027157                                       0.020524   \n",
       "13027158                                       0.020524   \n",
       "13027159                                       0.040085   \n",
       "13027160                                       0.020524   \n",
       "\n",
       "          app_second_class_age_label_kfold_mean  \\\n",
       "13027156                               0.017155   \n",
       "13027157                               0.017500   \n",
       "13027158                               0.018463   \n",
       "13027159                               0.038182   \n",
       "13027160                               0.033163   \n",
       "\n",
       "          app_second_class_gender_label_kfold_mean  \\\n",
       "13027156                                  0.019356   \n",
       "13027157                                  0.019356   \n",
       "13027158                                  0.025812   \n",
       "13027159                                  0.041787   \n",
       "13027160                                  0.040778   \n",
       "\n",
       "          app_second_class_career_label_kfold_mean  \\\n",
       "13027156                                  0.018434   \n",
       "13027157                                  0.018434   \n",
       "13027158                                  0.026042   \n",
       "13027159                                  0.051700   \n",
       "13027160                                  0.033345   \n",
       "\n",
       "          app_second_class_city_label_kfold_mean  \\\n",
       "13027156                                0.017828   \n",
       "13027157                                0.020690   \n",
       "13027158                                0.028051   \n",
       "13027159                                0.039499   \n",
       "13027160                                0.035259   \n",
       "\n",
       "          app_second_class_city_rank_label_kfold_mean  \\\n",
       "13027156                                     0.022030   \n",
       "13027157                                     0.022030   \n",
       "13027158                                     0.026682   \n",
       "13027159                                     0.039060   \n",
       "13027160                                     0.042065   \n",
       "\n",
       "          app_second_class_device_name_label_kfold_mean  \\\n",
       "13027156                                       0.015815   \n",
       "13027157                                       0.016237   \n",
       "13027158                                       0.020186   \n",
       "13027159                                       0.033092   \n",
       "13027160                                       0.033304   \n",
       "\n",
       "          app_second_class_device_size_label_kfold_mean  \\\n",
       "13027156                                       0.014989   \n",
       "13027157                                       0.019806   \n",
       "13027158                                       0.022671   \n",
       "13027159                                       0.032404   \n",
       "13027160                                       0.038918   \n",
       "\n",
       "          app_second_class_residence_label_kfold_mean  \\\n",
       "13027156                                     0.019632   \n",
       "13027157                                     0.023406   \n",
       "13027158                                     0.025631   \n",
       "13027159                                     0.041509   \n",
       "13027160                                     0.035626   \n",
       "\n",
       "          app_second_class_his_app_size_label_kfold_mean  \n",
       "13027156                                        0.019863  \n",
       "13027157                                        0.019863  \n",
       "13027158                                        0.023153  \n",
       "13027159                                        0.037365  \n",
       "13027160                                        0.016770  \n",
       "\n",
       "[5 rows x 118 columns]"
      ]
     },
     "execution_count": 23,
     "metadata": {},
     "output_type": "execute_result"
    }
   ],
   "source": [
    "data.tail()"
   ]
  },
  {
   "cell_type": "code",
   "execution_count": 22,
   "metadata": {},
   "outputs": [
    {
     "data": {
      "text/plain": [
       "56"
      ]
     },
     "execution_count": 22,
     "metadata": {},
     "output_type": "execute_result"
    }
   ],
   "source": [
    "del train\n",
    "del test \n",
    "gc.collect()"
   ]
  },
  {
   "cell_type": "markdown",
   "metadata": {},
   "source": [
    "#  Count Encoder"
   ]
  },
  {
   "cell_type": "code",
   "execution_count": 24,
   "metadata": {
    "scrolled": true
   },
   "outputs": [
    {
     "name": "stderr",
     "output_type": "stream",
     "text": [
      "100%|██████████████████████████████████████████████████████████████████████████████████| 33/33 [03:06<00:00,  5.65s/it]\n"
     ]
    }
   ],
   "source": [
    "# Count Encoder\n",
    "to_count = [['task_id'], ['adv_id'], ['creat_type_cd'], ['adv_prim_id'], \n",
    "            ['dev_id'], ['inter_type_cd'], ['slot_id'], ['spread_app_id'], ['tags'], ['app_first_class'],\n",
    "            ['app_second_class'], ['age'], ['city'], ['city_rank'], ['device_name'], ['device_size'],\n",
    "            ['career'], ['gender'], ['net_type'], ['residence'], ['his_app_size'], ['his_on_shelf_time'],\n",
    "            ['app_score'], ['emui_dev'], ['list_time'], ['device_price'], ['up_life_duration'], ['up_membership_grade'],\n",
    "            ['membership_life_duration'], ['consume_purchase'], ['communication_onlinerate'], ['communication_avgonline_30d'],\n",
    "            ['indu_name']]\n",
    "\n",
    "for i in tqdm(to_count):\n",
    "    data['{}_count'.format('_'.join(i))] = data[i].groupby(i)[i].transform('count')\n",
    "    "
   ]
  },
  {
   "cell_type": "code",
   "execution_count": 25,
   "metadata": {},
   "outputs": [
    {
     "name": "stdout",
     "output_type": "stream",
     "text": [
      "<class 'pandas.core.frame.DataFrame'>\n",
      "RangeIndex: 13027161 entries, 0 to 13027160\n",
      "Columns: 151 entries, label to indu_name_count\n",
      "dtypes: float64(83), int64(67), object(1)\n",
      "memory usage: 14.7+ GB\n"
     ]
    }
   ],
   "source": [
    "data.info()"
   ]
  },
  {
   "cell_type": "code",
   "execution_count": 27,
   "metadata": {},
   "outputs": [
    {
     "name": "stderr",
     "output_type": "stream",
     "text": [
      "\r",
      "  0%|                                                                                          | 0/151 [00:00<?, ?it/s]"
     ]
    },
    {
     "name": "stdout",
     "output_type": "stream",
     "text": [
      "Memory usage of dataframe is 15007.79 MB\n"
     ]
    },
    {
     "name": "stderr",
     "output_type": "stream",
     "text": [
      "100%|████████████████████████████████████████████████████████████████████████████████| 151/151 [05:58<00:00,  2.38s/it]"
     ]
    },
    {
     "name": "stdout",
     "output_type": "stream",
     "text": [
      "Memory usage after optimization is: 4248.99 MB\n",
      "Decreased by 71.7%\n"
     ]
    },
    {
     "name": "stderr",
     "output_type": "stream",
     "text": [
      "\n"
     ]
    }
   ],
   "source": [
    "# 压缩内存\n",
    "data = data_compression(data)"
   ]
  },
  {
   "cell_type": "code",
   "execution_count": 30,
   "metadata": {},
   "outputs": [
    {
     "name": "stdout",
     "output_type": "stream",
     "text": [
      "<class 'pandas.core.frame.DataFrame'>\n",
      "RangeIndex: 13027161 entries, 0 to 13027160\n",
      "Columns: 151 entries, label to indu_name_count\n",
      "dtypes: category(1), float16(83), int16(5), int32(34), int8(28)\n",
      "memory usage: 4.1 GB\n"
     ]
    }
   ],
   "source": [
    "# data.isna().sum()\n",
    "gc.collect()\n",
    "data.info()"
   ]
  },
  {
   "cell_type": "code",
   "execution_count": 31,
   "metadata": {},
   "outputs": [
    {
     "name": "stderr",
     "output_type": "stream",
     "text": [
      "100%|██████████████████████████████████████████████████████████████████████████████████| 10/10 [00:06<00:00,  1.60it/s]\n"
     ]
    }
   ],
   "source": [
    "# task_id分组（交叉） Count Encoder\n",
    "to_count_1 = ['adv_id','creat_type_cd','adv_prim_id','dev_id','spread_app_id','tags','app_first_class','app_second_class','indu_name','inter_type_cd']\n",
    "for col in tqdm(to_count_1):\n",
    "    data[\"{}_count\".format(\"_\".join(i))] = data[['task_id',col]].groupby(['task_id'])[col].transform('count')\n"
   ]
  },
  {
   "cell_type": "code",
   "execution_count": 32,
   "metadata": {},
   "outputs": [],
   "source": [
    "# u_id 分组（交叉） Count Encoder\n",
    "# 同一个广告推荐给用户的次数\n",
    "data['uid_adv_id_cnt'] = data[['uid','adv_id']].groupby(['uid','adv_id'])['adv_id'].transform('count')"
   ]
  },
  {
   "cell_type": "code",
   "execution_count": 33,
   "metadata": {},
   "outputs": [
    {
     "name": "stderr",
     "output_type": "stream",
     "text": [
      "100%|████████████████████████████████████████████████████████████████████████████████████| 8/8 [05:50<00:00, 43.79s/it]\n"
     ]
    }
   ],
   "source": [
    "# 每个广告在不同地区，age的推荐次数\n",
    "mix_1_count_cols = ['task_id','adv_id','indu_name','adv_prim_id','spread_app_id','tags','app_first_class','app_second_class']\n",
    "mix_2_count_cols = ['age','gender','career','city','city_rank','device_name','device_size','residence','his_app_size']\n",
    "for i in tqdm(mix_1_count_cols):\n",
    "    for j in mix_2_count_cols:\n",
    "         data[i+'_'+j+'_'+'cnt'] = data[[i,j]].groupby([i,j])[j].transform('count')"
   ]
  },
  {
   "cell_type": "code",
   "execution_count": 34,
   "metadata": {},
   "outputs": [
    {
     "name": "stdout",
     "output_type": "stream",
     "text": [
      "<class 'pandas.core.frame.DataFrame'>\n",
      "RangeIndex: 13027161 entries, 0 to 13027160\n",
      "Columns: 224 entries, label to app_second_class_his_app_size_cnt\n",
      "dtypes: category(1), float16(83), int16(5), int32(33), int64(74), int8(28)\n",
      "memory usage: 11.3 GB\n"
     ]
    }
   ],
   "source": [
    "data.info()"
   ]
  },
  {
   "cell_type": "code",
   "execution_count": 35,
   "metadata": {},
   "outputs": [],
   "source": [
    "data.to_feather('../data/tmp/1.feathher')"
   ]
  },
  {
   "cell_type": "code",
   "execution_count": 38,
   "metadata": {},
   "outputs": [
    {
     "data": {
      "text/plain": [
       "'communication_onlinerate'"
      ]
     },
     "execution_count": 38,
     "metadata": {},
     "output_type": "execute_result"
    }
   ],
   "source": [
    "data.columns[32]"
   ]
  },
  {
   "cell_type": "code",
   "execution_count": 39,
   "metadata": {},
   "outputs": [],
   "source": [
    "del data['communication_onlinerate']"
   ]
  },
  {
   "cell_type": "code",
   "execution_count": 40,
   "metadata": {},
   "outputs": [
    {
     "name": "stderr",
     "output_type": "stream",
     "text": [
      "\r",
      "  0%|                                                                                          | 0/223 [00:00<?, ?it/s]"
     ]
    },
    {
     "name": "stdout",
     "output_type": "stream",
     "text": [
      "Memory usage of dataframe is 11529.16 MB\n"
     ]
    },
    {
     "name": "stderr",
     "output_type": "stream",
     "text": [
      "100%|████████████████████████████████████████████████████████████████████████████████| 223/223 [02:56<00:00,  1.26it/s]"
     ]
    },
    {
     "name": "stdout",
     "output_type": "stream",
     "text": [
      "Memory usage after optimization is: 7665.40 MB\n",
      "Decreased by 33.5%\n"
     ]
    },
    {
     "name": "stderr",
     "output_type": "stream",
     "text": [
      "\n"
     ]
    }
   ],
   "source": [
    "# 压缩内存\n",
    "data = data_compression(data)"
   ]
  },
  {
   "cell_type": "code",
   "execution_count": 41,
   "metadata": {},
   "outputs": [],
   "source": [
    "data.to_feather('../data/tmp/1_reduce.feathher')"
   ]
  },
  {
   "cell_type": "code",
   "execution_count": 43,
   "metadata": {},
   "outputs": [
    {
     "data": {
      "text/plain": [
       "Index(['label', 'uid', 'task_id', 'adv_id', 'creat_type_cd', 'adv_prim_id',\n",
       "       'dev_id', 'inter_type_cd', 'slot_id', 'spread_app_id',\n",
       "       ...\n",
       "       'COUNT-2order_uid_app_first_class', 'STAT_uid_city_nunique_1',\n",
       "       'STAT_uid_city_nunique_2', 'COUNT-2order_uid_city',\n",
       "       'STAT_uid_device_name_nunique_1', 'STAT_uid_device_name_nunique_2',\n",
       "       'COUNT-2order_uid_device_name', 'STAT_uid_net_type_nunique_1',\n",
       "       'STAT_uid_net_type_nunique_2', 'COUNT-2order_uid_net_type'],\n",
       "      dtype='object', length=253)"
      ]
     },
     "execution_count": 43,
     "metadata": {},
     "output_type": "execute_result"
    }
   ],
   "source": [
    "data.columns"
   ]
  },
  {
   "cell_type": "markdown",
   "metadata": {},
   "source": [
    "# Nunique Encoder"
   ]
  },
  {
   "cell_type": "code",
   "execution_count": null,
   "metadata": {},
   "outputs": [],
   "source": [
    "# Count Encoder\n",
    "# ['uid','communication_onlinerate'],\n",
    "to_group = [\n",
    "    ['uid','task_id'], ['uid','adv_id'], ['uid','adv_prim_id'], ['uid','dev_id'], ['uid','slot_id'],\n",
    "    ['uid','spread_app_id'], ['uid','app_first_class'], ['uid','city'], ['uid','device_name'], ['uid', 'net_type'],\n",
    "     ['uid','list_time']\n",
    "]\n",
    "\n",
    "feature = pd.DataFrame()\n",
    "for i in tqdm(to_group):\n",
    "    data[\"STAT_{}_nunique_1\".format(\"_\".join(i))] = data[i].groupby(i[1])[i[0]].transform('nunique')\n",
    "    data[\"STAT_{}_nunique_2\".format(\"_\".join(i))] = data[i].groupby(i[0])[i[1]].transform('nunique')\n",
    "    data[\"COUNT-2order_{}\".format(\"_\".join(i))] = data[i].groupby(i)[i[0]].transform(\"count\")"
   ]
  },
  {
   "cell_type": "code",
   "execution_count": null,
   "metadata": {},
   "outputs": [],
   "source": []
  },
  {
   "cell_type": "code",
   "execution_count": 45,
   "metadata": {},
   "outputs": [
    {
     "data": {
      "text/plain": [
       "Index(['label', 'uid', 'task_id', 'adv_id', 'creat_type_cd', 'adv_prim_id',\n",
       "       'dev_id', 'inter_type_cd', 'slot_id', 'spread_app_id',\n",
       "       ...\n",
       "       'COUNT-2order_uid_city', 'STAT_uid_device_name_nunique_1',\n",
       "       'STAT_uid_device_name_nunique_2', 'COUNT-2order_uid_device_name',\n",
       "       'STAT_uid_net_type_nunique_1', 'STAT_uid_net_type_nunique_2',\n",
       "       'COUNT-2order_uid_net_type', 'STAT_uid_list_time_nunique_1',\n",
       "       'STAT_uid_list_time_nunique_2', 'COUNT-2order_uid_list_time'],\n",
       "      dtype='object', length=256)"
      ]
     },
     "execution_count": 45,
     "metadata": {},
     "output_type": "execute_result"
    }
   ],
   "source": [
    "data.columns "
   ]
  },
  {
   "cell_type": "code",
   "execution_count": 47,
   "metadata": {
    "scrolled": true
   },
   "outputs": [
    {
     "name": "stderr",
     "output_type": "stream",
     "text": [
      "\n",
      "  0%|                                                                                          | 0/256 [00:00<?, ?it/s]\u001b[A"
     ]
    },
    {
     "name": "stdout",
     "output_type": "stream",
     "text": [
      "Memory usage of dataframe is 9491.68 MB\n"
     ]
    },
    {
     "name": "stderr",
     "output_type": "stream",
     "text": [
      "\n",
      "  0%|▎                                                                                 | 1/256 [00:00<00:57,  4.47it/s]\u001b[A\n",
      "  1%|▋                                                                                 | 2/256 [00:00<00:51,  4.96it/s]\u001b[A\n",
      "  2%|█▎                                                                                | 4/256 [00:00<00:42,  5.92it/s]\u001b[A\n",
      "  2%|█▉                                                                                | 6/256 [00:00<00:35,  7.01it/s]\u001b[A\n",
      "  3%|██▌                                                                               | 8/256 [00:00<00:30,  8.26it/s]\u001b[A\n",
      "  4%|███▏                                                                             | 10/256 [00:01<00:26,  9.43it/s]\u001b[A\n",
      "  5%|███▊                                                                             | 12/256 [00:01<00:23, 10.48it/s]\u001b[A\n",
      "  5%|████▍                                                                            | 14/256 [00:01<00:21, 11.26it/s]\u001b[A\n",
      "  6%|█████                                                                            | 16/256 [00:01<00:20, 11.57it/s]\u001b[A\n",
      "  7%|█████▋                                                                           | 18/256 [00:01<00:20, 11.76it/s]\u001b[A\n",
      "  8%|██████▎                                                                          | 20/256 [00:01<00:19, 12.41it/s]\u001b[A\n",
      "  9%|██████▉                                                                          | 22/256 [00:01<00:18, 12.83it/s]\u001b[A\n",
      "  9%|███████▌                                                                         | 24/256 [00:02<00:17, 13.08it/s]\u001b[A\n",
      " 10%|████████▏                                                                        | 26/256 [00:02<00:17, 13.35it/s]\u001b[A\n",
      " 11%|████████▊                                                                        | 28/256 [00:02<00:16, 13.61it/s]\u001b[A\n",
      " 12%|█████████▍                                                                       | 30/256 [00:02<00:16, 13.72it/s]\u001b[A\n",
      " 12%|██████████▏                                                                      | 32/256 [00:02<00:16, 13.84it/s]\u001b[A\n",
      " 13%|██████████▊                                                                      | 34/256 [00:02<00:15, 13.94it/s]\u001b[A\n",
      " 14%|███████████▍                                                                     | 36/256 [00:03<00:21, 10.37it/s]\u001b[A\n",
      " 15%|████████████                                                                     | 38/256 [00:03<00:29,  7.44it/s]\u001b[A\n",
      " 15%|████████████▎                                                                    | 39/256 [00:03<00:35,  6.13it/s]\u001b[A\n",
      " 16%|████████████▋                                                                    | 40/256 [00:03<00:39,  5.47it/s]\u001b[A\n",
      " 16%|████████████▉                                                                    | 41/256 [00:04<00:41,  5.17it/s]\u001b[A\n",
      " 16%|█████████████▎                                                                   | 42/256 [00:04<00:44,  4.80it/s]\u001b[A\n",
      " 17%|█████████████▌                                                                   | 43/256 [00:04<00:46,  4.61it/s]\u001b[A\n",
      " 17%|█████████████▉                                                                   | 44/256 [00:04<00:46,  4.58it/s]\u001b[A\n",
      " 18%|██████████████▏                                                                  | 45/256 [00:05<00:46,  4.54it/s]\u001b[A\n",
      " 18%|██████████████▌                                                                  | 46/256 [00:05<00:46,  4.52it/s]\u001b[A\n",
      " 18%|██████████████▊                                                                  | 47/256 [00:05<00:46,  4.49it/s]\u001b[A\n",
      " 19%|███████████████▏                                                                 | 48/256 [00:05<00:47,  4.38it/s]\u001b[A\n",
      " 19%|███████████████▌                                                                 | 49/256 [00:06<00:47,  4.40it/s]\u001b[A\n",
      " 20%|███████████████▊                                                                 | 50/256 [00:06<00:46,  4.39it/s]\u001b[A\n",
      " 20%|████████████████▏                                                                | 51/256 [00:06<00:48,  4.24it/s]\u001b[A\n",
      " 20%|████████████████▍                                                                | 52/256 [00:06<00:48,  4.21it/s]\u001b[A\n",
      " 21%|████████████████▊                                                                | 53/256 [00:06<00:47,  4.25it/s]\u001b[A\n",
      " 21%|█████████████████                                                                | 54/256 [00:07<00:47,  4.30it/s]\u001b[A\n",
      " 21%|█████████████████▍                                                               | 55/256 [00:07<00:46,  4.30it/s]\u001b[A\n",
      " 22%|█████████████████▋                                                               | 56/256 [00:07<00:46,  4.32it/s]\u001b[A\n",
      " 22%|██████████████████                                                               | 57/256 [00:07<00:46,  4.30it/s]\u001b[A\n",
      " 23%|██████████████████▎                                                              | 58/256 [00:08<00:46,  4.27it/s]\u001b[A\n",
      " 23%|██████████████████▋                                                              | 59/256 [00:08<00:45,  4.30it/s]\u001b[A\n",
      " 23%|██████████████████▉                                                              | 60/256 [00:08<00:45,  4.32it/s]\u001b[A\n",
      " 24%|███████████████████▎                                                             | 61/256 [00:08<00:45,  4.32it/s]\u001b[A\n",
      " 24%|███████████████████▌                                                             | 62/256 [00:09<00:44,  4.33it/s]\u001b[A\n",
      " 25%|███████████████████▉                                                             | 63/256 [00:09<00:45,  4.27it/s]\u001b[A\n",
      " 25%|████████████████████▎                                                            | 64/256 [00:09<00:44,  4.32it/s]\u001b[A\n",
      " 25%|████████████████████▌                                                            | 65/256 [00:09<00:43,  4.37it/s]\u001b[A\n",
      " 26%|████████████████████▉                                                            | 66/256 [00:09<00:43,  4.40it/s]\u001b[A\n",
      " 26%|█████████████████████▏                                                           | 67/256 [00:10<00:44,  4.28it/s]\u001b[A\n",
      " 27%|█████████████████████▌                                                           | 68/256 [00:10<00:43,  4.33it/s]\u001b[A\n",
      " 27%|█████████████████████▊                                                           | 69/256 [00:10<00:43,  4.34it/s]\u001b[A\n",
      " 27%|██████████████████████▏                                                          | 70/256 [00:10<00:42,  4.37it/s]\u001b[A\n",
      " 28%|██████████████████████▍                                                          | 71/256 [00:11<00:42,  4.38it/s]\u001b[A\n",
      " 28%|██████████████████████▊                                                          | 72/256 [00:11<00:41,  4.38it/s]\u001b[A\n",
      " 29%|███████████████████████                                                          | 73/256 [00:11<00:42,  4.35it/s]\u001b[A\n",
      " 29%|███████████████████████▍                                                         | 74/256 [00:11<00:41,  4.36it/s]\u001b[A\n",
      " 29%|███████████████████████▋                                                         | 75/256 [00:12<00:41,  4.37it/s]\u001b[A\n",
      " 30%|████████████████████████                                                         | 76/256 [00:12<00:41,  4.38it/s]\u001b[A\n",
      " 30%|████████████████████████▎                                                        | 77/256 [00:12<00:41,  4.34it/s]\u001b[A\n",
      " 30%|████████████████████████▋                                                        | 78/256 [00:12<00:40,  4.37it/s]\u001b[A\n",
      " 31%|████████████████████████▉                                                        | 79/256 [00:12<00:40,  4.35it/s]\u001b[A\n",
      " 31%|█████████████████████████▎                                                       | 80/256 [00:13<00:41,  4.28it/s]\u001b[A\n",
      " 32%|█████████████████████████▋                                                       | 81/256 [00:13<00:40,  4.35it/s]\u001b[A\n",
      " 32%|█████████████████████████▉                                                       | 82/256 [00:13<00:40,  4.32it/s]\u001b[A\n",
      " 32%|██████████████████████████▎                                                      | 83/256 [00:13<00:40,  4.28it/s]\u001b[A\n",
      " 33%|██████████████████████████▌                                                      | 84/256 [00:14<00:40,  4.29it/s]\u001b[A\n",
      " 33%|██████████████████████████▉                                                      | 85/256 [00:14<00:39,  4.32it/s]\u001b[A\n",
      " 34%|███████████████████████████▏                                                     | 86/256 [00:14<00:39,  4.31it/s]\u001b[A\n",
      " 34%|███████████████████████████▌                                                     | 87/256 [00:14<00:38,  4.34it/s]\u001b[A\n",
      " 34%|███████████████████████████▊                                                     | 88/256 [00:15<00:39,  4.29it/s]\u001b[A\n",
      " 35%|████████████████████████████▏                                                    | 89/256 [00:15<00:38,  4.33it/s]\u001b[A\n",
      " 35%|████████████████████████████▍                                                    | 90/256 [00:15<00:38,  4.33it/s]\u001b[A\n",
      " 36%|████████████████████████████▊                                                    | 91/256 [00:15<00:38,  4.32it/s]\u001b[A\n",
      " 36%|█████████████████████████████                                                    | 92/256 [00:15<00:37,  4.36it/s]\u001b[A\n",
      " 36%|█████████████████████████████▍                                                   | 93/256 [00:16<00:37,  4.32it/s]\u001b[A\n",
      " 37%|█████████████████████████████▋                                                   | 94/256 [00:16<00:37,  4.34it/s]\u001b[A\n",
      " 37%|██████████████████████████████                                                   | 95/256 [00:16<00:36,  4.37it/s]\u001b[A\n",
      " 38%|██████████████████████████████▍                                                  | 96/256 [00:16<00:36,  4.35it/s]\u001b[A\n",
      " 38%|██████████████████████████████▋                                                  | 97/256 [00:17<00:36,  4.34it/s]\u001b[A\n",
      " 38%|███████████████████████████████                                                  | 98/256 [00:17<00:36,  4.34it/s]\u001b[A\n",
      " 39%|███████████████████████████████▎                                                 | 99/256 [00:17<00:36,  4.34it/s]\u001b[A\n",
      " 39%|███████████████████████████████▎                                                | 100/256 [00:17<00:35,  4.34it/s]\u001b[A\n",
      " 39%|███████████████████████████████▌                                                | 101/256 [00:18<00:35,  4.38it/s]\u001b[A\n",
      " 40%|███████████████████████████████▉                                                | 102/256 [00:18<00:35,  4.36it/s]\u001b[A\n",
      " 40%|████████████████████████████████▏                                               | 103/256 [00:18<00:35,  4.32it/s]\u001b[A\n",
      " 41%|████████████████████████████████▌                                               | 104/256 [00:18<00:35,  4.28it/s]\u001b[A\n",
      " 41%|████████████████████████████████▊                                               | 105/256 [00:18<00:34,  4.32it/s]\u001b[A\n",
      " 41%|█████████████████████████████████▏                                              | 106/256 [00:19<00:34,  4.38it/s]\u001b[A\n",
      " 42%|█████████████████████████████████▍                                              | 107/256 [00:19<00:33,  4.42it/s]\u001b[A\n",
      " 42%|█████████████████████████████████▊                                              | 108/256 [00:19<00:33,  4.44it/s]\u001b[A\n",
      " 43%|██████████████████████████████████                                              | 109/256 [00:19<00:33,  4.45it/s]\u001b[A\n",
      " 43%|██████████████████████████████████▍                                             | 110/256 [00:20<00:32,  4.48it/s]\u001b[A\n",
      " 43%|██████████████████████████████████▋                                             | 111/256 [00:20<00:32,  4.48it/s]\u001b[A\n",
      " 44%|███████████████████████████████████                                             | 112/256 [00:20<00:32,  4.41it/s]\u001b[A\n",
      " 44%|███████████████████████████████████▎                                            | 113/256 [00:20<00:32,  4.42it/s]\u001b[A\n",
      " 45%|███████████████████████████████████▋                                            | 114/256 [00:21<00:32,  4.36it/s]\u001b[A\n",
      " 45%|███████████████████████████████████▉                                            | 115/256 [00:21<00:32,  4.37it/s]\u001b[A\n",
      " 45%|████████████████████████████████████▎                                           | 116/256 [00:21<00:31,  4.38it/s]\u001b[A\n",
      " 46%|████████████████████████████████████▌                                           | 117/256 [00:21<00:32,  4.33it/s]\u001b[A\n",
      " 46%|████████████████████████████████████▉                                           | 118/256 [00:21<00:28,  4.89it/s]\u001b[A\n",
      " 46%|█████████████████████████████████████▏                                          | 119/256 [00:21<00:25,  5.41it/s]\u001b[A\n",
      " 47%|█████████████████████████████████████▌                                          | 120/256 [00:22<00:23,  5.78it/s]\u001b[A\n",
      " 47%|█████████████████████████████████████▊                                          | 121/256 [00:22<00:22,  6.12it/s]\u001b[A\n",
      " 48%|██████████████████████████████████████▏                                         | 122/256 [00:22<00:21,  6.35it/s]\u001b[A\n",
      " 48%|██████████████████████████████████████▍                                         | 123/256 [00:22<00:20,  6.49it/s]\u001b[A\n",
      " 48%|██████████████████████████████████████▊                                         | 124/256 [00:22<00:19,  6.65it/s]\u001b[A\n",
      " 49%|███████████████████████████████████████                                         | 125/256 [00:22<00:19,  6.76it/s]\u001b[A\n",
      " 49%|███████████████████████████████████████▍                                        | 126/256 [00:22<00:19,  6.80it/s]\u001b[A\n",
      " 50%|███████████████████████████████████████▋                                        | 127/256 [00:23<00:18,  6.91it/s]\u001b[A\n",
      " 50%|████████████████████████████████████████                                        | 128/256 [00:23<00:18,  6.95it/s]\u001b[A\n",
      " 50%|████████████████████████████████████████▎                                       | 129/256 [00:23<00:18,  6.98it/s]\u001b[A\n",
      " 51%|████████████████████████████████████████▋                                       | 130/256 [00:23<00:17,  7.01it/s]\u001b[A\n",
      " 51%|████████████████████████████████████████▉                                       | 131/256 [00:23<00:17,  6.99it/s]\u001b[A\n",
      " 52%|█████████████████████████████████████████▎                                      | 132/256 [00:23<00:17,  7.04it/s]\u001b[A\n",
      " 52%|█████████████████████████████████████████▌                                      | 133/256 [00:23<00:17,  7.08it/s]\u001b[A\n",
      " 52%|█████████████████████████████████████████▉                                      | 134/256 [00:24<00:17,  7.12it/s]\u001b[A\n",
      " 53%|██████████████████████████████████████████▏                                     | 135/256 [00:24<00:17,  7.06it/s]\u001b[A\n",
      " 53%|██████████████████████████████████████████▌                                     | 136/256 [00:24<00:16,  7.09it/s]\u001b[A\n",
      " 54%|██████████████████████████████████████████▊                                     | 137/256 [00:24<00:17,  6.99it/s]\u001b[A\n",
      " 54%|███████████████████████████████████████████▏                                    | 138/256 [00:24<00:16,  6.98it/s]\u001b[A\n",
      " 54%|███████████████████████████████████████████▍                                    | 139/256 [00:24<00:16,  6.96it/s]\u001b[A\n",
      " 55%|███████████████████████████████████████████▊                                    | 140/256 [00:24<00:16,  6.98it/s]\u001b[A\n",
      " 55%|████████████████████████████████████████████                                    | 141/256 [00:25<00:16,  6.79it/s]\u001b[A\n",
      " 55%|████████████████████████████████████████████▍                                   | 142/256 [00:25<00:16,  6.75it/s]\u001b[A\n",
      " 56%|████████████████████████████████████████████▋                                   | 143/256 [00:25<00:16,  6.80it/s]\u001b[A\n",
      " 56%|█████████████████████████████████████████████                                   | 144/256 [00:25<00:16,  6.78it/s]\u001b[A\n",
      " 57%|█████████████████████████████████████████████▎                                  | 145/256 [00:25<00:16,  6.59it/s]\u001b[A\n",
      " 57%|█████████████████████████████████████████████▋                                  | 146/256 [00:25<00:16,  6.63it/s]\u001b[A\n",
      " 57%|█████████████████████████████████████████████▉                                  | 147/256 [00:26<00:16,  6.73it/s]\u001b[A\n",
      " 58%|██████████████████████████████████████████████▎                                 | 148/256 [00:26<00:15,  6.78it/s]\u001b[A\n",
      " 58%|██████████████████████████████████████████████▌                                 | 149/256 [00:26<00:15,  6.86it/s]\u001b[A\n",
      " 59%|██████████████████████████████████████████████▉                                 | 150/256 [00:26<00:15,  6.86it/s]\u001b[A\n"
     ]
    },
    {
     "name": "stderr",
     "output_type": "stream",
     "text": [
      " 59%|███████████████████████████████████████████████▌                                | 152/256 [00:26<00:14,  7.41it/s]\u001b[A\n",
      " 60%|███████████████████████████████████████████████▊                                | 153/256 [00:26<00:14,  7.24it/s]\u001b[A\n",
      " 60%|████████████████████████████████████████████████▏                               | 154/256 [00:26<00:14,  7.12it/s]\u001b[A\n",
      " 61%|████████████████████████████████████████████████▊                               | 156/256 [00:27<00:13,  7.47it/s]\u001b[A\n",
      " 62%|█████████████████████████████████████████████████▍                              | 158/256 [00:27<00:12,  7.71it/s]\u001b[A\n",
      " 62%|██████████████████████████████████████████████████                              | 160/256 [00:27<00:12,  7.87it/s]\u001b[A\n",
      " 63%|██████████████████████████████████████████████████▎                             | 161/256 [00:27<00:12,  7.50it/s]\u001b[A\n",
      " 63%|██████████████████████████████████████████████████▋                             | 162/256 [00:28<00:13,  7.08it/s]\u001b[A\n",
      " 64%|██████████████████████████████████████████████████▉                             | 163/256 [00:28<00:13,  7.03it/s]\u001b[A\n",
      " 64%|███████████████████████████████████████████████████▌                            | 165/256 [00:28<00:12,  7.35it/s]\u001b[A\n",
      " 65%|████████████████████████████████████████████████████▏                           | 167/256 [00:28<00:11,  7.68it/s]\u001b[A\n",
      " 66%|████████████████████████████████████████████████████▊                           | 169/256 [00:28<00:11,  7.89it/s]\u001b[A\n",
      " 66%|█████████████████████████████████████████████████████▏                          | 170/256 [00:29<00:11,  7.51it/s]\u001b[A\n",
      " 67%|█████████████████████████████████████████████████████▍                          | 171/256 [00:29<00:11,  7.27it/s]\u001b[A\n",
      " 67%|█████████████████████████████████████████████████████▊                          | 172/256 [00:29<00:11,  7.12it/s]\u001b[A\n",
      " 68%|██████████████████████████████████████████████████████                          | 173/256 [00:29<00:11,  7.03it/s]\u001b[A\n",
      " 68%|██████████████████████████████████████████████████████▍                         | 174/256 [00:29<00:11,  6.94it/s]\u001b[A\n",
      " 68%|██████████████████████████████████████████████████████▋                         | 175/256 [00:29<00:11,  6.90it/s]\u001b[A\n",
      " 69%|███████████████████████████████████████████████████████                         | 176/256 [00:29<00:11,  6.84it/s]\u001b[A\n",
      " 69%|███████████████████████████████████████████████████████▎                        | 177/256 [00:30<00:11,  6.86it/s]\u001b[A\n",
      " 70%|███████████████████████████████████████████████████████▋                        | 178/256 [00:30<00:11,  6.88it/s]\u001b[A\n",
      " 70%|███████████████████████████████████████████████████████▉                        | 179/256 [00:30<00:11,  6.82it/s]\u001b[A\n",
      " 70%|████████████████████████████████████████████████████████▎                       | 180/256 [00:30<00:11,  6.88it/s]\u001b[A\n",
      " 71%|████████████████████████████████████████████████████████▌                       | 181/256 [00:30<00:11,  6.78it/s]\u001b[A\n",
      " 71%|████████████████████████████████████████████████████████▉                       | 182/256 [00:30<00:10,  6.84it/s]\u001b[A\n",
      " 71%|█████████████████████████████████████████████████████████▏                      | 183/256 [00:30<00:10,  6.76it/s]\u001b[A\n",
      " 72%|█████████████████████████████████████████████████████████▌                      | 184/256 [00:31<00:10,  6.82it/s]\u001b[A\n",
      " 72%|█████████████████████████████████████████████████████████▊                      | 185/256 [00:31<00:10,  6.68it/s]\u001b[A\n",
      " 73%|██████████████████████████████████████████████████████████▏                     | 186/256 [00:31<00:10,  6.77it/s]\u001b[A\n",
      " 73%|██████████████████████████████████████████████████████████▍                     | 187/256 [00:31<00:10,  6.77it/s]\u001b[A\n",
      " 73%|██████████████████████████████████████████████████████████▊                     | 188/256 [00:31<00:10,  6.80it/s]\u001b[A\n",
      " 74%|███████████████████████████████████████████████████████████                     | 189/256 [00:31<00:09,  6.76it/s]\u001b[A\n",
      " 74%|███████████████████████████████████████████████████████████▍                    | 190/256 [00:31<00:09,  6.72it/s]\u001b[A\n",
      " 75%|███████████████████████████████████████████████████████████▋                    | 191/256 [00:32<00:09,  6.78it/s]\u001b[A\n",
      " 75%|████████████████████████████████████████████████████████████                    | 192/256 [00:32<00:09,  6.82it/s]\u001b[A\n",
      " 75%|████████████████████████████████████████████████████████████▎                   | 193/256 [00:32<00:09,  6.88it/s]\u001b[A\n",
      " 76%|████████████████████████████████████████████████████████████▋                   | 194/256 [00:32<00:09,  6.84it/s]\u001b[A\n",
      " 76%|████████████████████████████████████████████████████████████▉                   | 195/256 [00:32<00:08,  6.91it/s]\u001b[A\n",
      " 77%|█████████████████████████████████████████████████████████████▎                  | 196/256 [00:32<00:08,  6.84it/s]\u001b[A\n",
      " 77%|█████████████████████████████████████████████████████████████▌                  | 197/256 [00:32<00:08,  6.87it/s]\u001b[A\n",
      " 77%|█████████████████████████████████████████████████████████████▉                  | 198/256 [00:33<00:08,  6.88it/s]\u001b[A\n",
      " 78%|██████████████████████████████████████████████████████████████▏                 | 199/256 [00:33<00:08,  6.93it/s]\u001b[A\n",
      " 78%|██████████████████████████████████████████████████████████████▌                 | 200/256 [00:33<00:08,  6.93it/s]\u001b[A\n",
      " 79%|██████████████████████████████████████████████████████████████▊                 | 201/256 [00:33<00:07,  6.92it/s]\u001b[A\n",
      " 79%|███████████████████████████████████████████████████████████████▏                | 202/256 [00:33<00:07,  6.92it/s]\u001b[A\n",
      " 79%|███████████████████████████████████████████████████████████████▍                | 203/256 [00:33<00:07,  6.87it/s]\u001b[A\n",
      " 80%|███████████████████████████████████████████████████████████████▊                | 204/256 [00:33<00:07,  6.92it/s]\u001b[A\n",
      " 80%|████████████████████████████████████████████████████████████████                | 205/256 [00:34<00:07,  6.98it/s]\u001b[A\n",
      " 80%|████████████████████████████████████████████████████████████████▍               | 206/256 [00:34<00:07,  6.95it/s]\u001b[A\n",
      " 81%|████████████████████████████████████████████████████████████████▋               | 207/256 [00:34<00:07,  6.91it/s]\u001b[A\n",
      " 81%|█████████████████████████████████████████████████████████████████               | 208/256 [00:34<00:06,  6.91it/s]\u001b[A\n",
      " 82%|█████████████████████████████████████████████████████████████████▎              | 209/256 [00:34<00:06,  6.92it/s]\u001b[A\n",
      " 82%|█████████████████████████████████████████████████████████████████▋              | 210/256 [00:34<00:06,  6.88it/s]\u001b[A\n",
      " 82%|█████████████████████████████████████████████████████████████████▉              | 211/256 [00:34<00:06,  6.96it/s]\u001b[A\n",
      " 83%|██████████████████████████████████████████████████████████████████▎             | 212/256 [00:35<00:06,  6.90it/s]\u001b[A\n",
      " 83%|██████████████████████████████████████████████████████████████████▌             | 213/256 [00:35<00:06,  6.94it/s]\u001b[A\n",
      " 84%|██████████████████████████████████████████████████████████████████▉             | 214/256 [00:35<00:06,  6.96it/s]\u001b[A\n",
      " 84%|███████████████████████████████████████████████████████████████████▏            | 215/256 [00:35<00:05,  7.02it/s]\u001b[A\n",
      " 84%|███████████████████████████████████████████████████████████████████▌            | 216/256 [00:35<00:05,  7.07it/s]\u001b[A\n",
      " 85%|███████████████████████████████████████████████████████████████████▊            | 217/256 [00:35<00:05,  7.02it/s]\u001b[A\n",
      " 85%|████████████████████████████████████████████████████████████████████▏           | 218/256 [00:35<00:05,  7.08it/s]\u001b[A\n",
      " 86%|████████████████████████████████████████████████████████████████████▍           | 219/256 [00:36<00:05,  7.08it/s]\u001b[A\n",
      " 86%|████████████████████████████████████████████████████████████████████▊           | 220/256 [00:36<00:05,  7.01it/s]\u001b[A\n",
      " 86%|█████████████████████████████████████████████████████████████████████           | 221/256 [00:36<00:05,  6.88it/s]\u001b[A\n",
      " 87%|█████████████████████████████████████████████████████████████████████▍          | 222/256 [00:36<00:04,  6.81it/s]\u001b[A\n",
      " 87%|█████████████████████████████████████████████████████████████████████▋          | 223/256 [00:36<00:04,  6.78it/s]\u001b[A\n",
      " 88%|██████████████████████████████████████████████████████████████████████          | 224/256 [00:36<00:04,  6.75it/s]\u001b[A\n",
      " 88%|██████████████████████████████████████████████████████████████████████▋         | 226/256 [00:37<00:05,  5.08it/s]\u001b[A\n",
      " 89%|██████████████████████████████████████████████████████████████████████▉         | 227/256 [00:37<00:05,  5.47it/s]\u001b[A\n",
      " 89%|███████████████████████████████████████████████████████████████████████▌        | 229/256 [00:38<00:05,  4.65it/s]\u001b[A\n",
      " 90%|███████████████████████████████████████████████████████████████████████▉        | 230/256 [00:38<00:05,  5.14it/s]\u001b[A\n",
      " 90%|████████████████████████████████████████████████████████████████████████▏       | 231/256 [00:38<00:05,  4.90it/s]\u001b[A\n",
      " 91%|████████████████████████████████████████████████████████████████████████▌       | 232/256 [00:39<00:06,  3.55it/s]\u001b[A\n",
      " 91%|████████████████████████████████████████████████████████████████████████▊       | 233/256 [00:39<00:05,  4.14it/s]\u001b[A\n",
      " 92%|█████████████████████████████████████████████████████████████████████████▍      | 235/256 [00:39<00:05,  4.15it/s]\u001b[A\n",
      " 92%|█████████████████████████████████████████████████████████████████████████▊      | 236/256 [00:39<00:04,  4.69it/s]\u001b[A\n",
      " 93%|██████████████████████████████████████████████████████████████████████████▍     | 238/256 [00:40<00:03,  4.63it/s]\u001b[A\n",
      " 93%|██████████████████████████████████████████████████████████████████████████▋     | 239/256 [00:40<00:03,  5.11it/s]\u001b[A\n",
      " 94%|███████████████████████████████████████████████████████████████████████████▎    | 241/256 [00:40<00:02,  5.05it/s]\u001b[A\n",
      " 95%|███████████████████████████████████████████████████████████████████████████▋    | 242/256 [00:40<00:02,  5.45it/s]\u001b[A\n",
      " 95%|████████████████████████████████████████████████████████████████████████████▎   | 244/256 [00:41<00:02,  5.44it/s]\u001b[A\n",
      " 96%|████████████████████████████████████████████████████████████████████████████▌   | 245/256 [00:41<00:01,  5.71it/s]\u001b[A\n",
      " 96%|████████████████████████████████████████████████████████████████████████████▉   | 246/256 [00:41<00:01,  5.30it/s]\u001b[A\n",
      " 96%|█████████████████████████████████████████████████████████████████████████████▏  | 247/256 [00:41<00:01,  4.79it/s]\u001b[A\n",
      " 97%|█████████████████████████████████████████████████████████████████████████████▌  | 248/256 [00:42<00:01,  5.28it/s]\u001b[A\n",
      " 98%|██████████████████████████████████████████████████████████████████████████████▏ | 250/256 [00:42<00:01,  5.69it/s]\u001b[A\n",
      " 98%|██████████████████████████████████████████████████████████████████████████████▍ | 251/256 [00:42<00:00,  5.95it/s]\u001b[A\n",
      " 99%|███████████████████████████████████████████████████████████████████████████████ | 253/256 [00:42<00:00,  6.55it/s]\u001b[A\n",
      " 99%|███████████████████████████████████████████████████████████████████████████████▍| 254/256 [00:42<00:00,  6.55it/s]\u001b[A\n",
      "100%|████████████████████████████████████████████████████████████████████████████████| 256/256 [00:43<00:00,  5.93it/s]\u001b[A"
     ]
    },
    {
     "name": "stdout",
     "output_type": "stream",
     "text": [
      "Memory usage after optimization is: 8622.03 MB\n",
      "Decreased by 9.2%\n"
     ]
    },
    {
     "name": "stderr",
     "output_type": "stream",
     "text": [
      "\n"
     ]
    }
   ],
   "source": [
    "# 压缩内存\n",
    "data = data_compression(data)"
   ]
  },
  {
   "cell_type": "code",
   "execution_count": 5,
   "metadata": {},
   "outputs": [],
   "source": [
    "# data.to_feather('../data/tmp/2_reduce.feathher')"
   ]
  },
  {
   "cell_type": "code",
   "execution_count": null,
   "metadata": {},
   "outputs": [],
   "source": []
  },
  {
   "cell_type": "code",
   "execution_count": 6,
   "metadata": {},
   "outputs": [
    {
     "data": {
      "text/plain": [
       "74"
      ]
     },
     "execution_count": 6,
     "metadata": {},
     "output_type": "execute_result"
    }
   ],
   "source": []
  },
  {
   "cell_type": "code",
   "execution_count": 2,
   "metadata": {},
   "outputs": [
    {
     "name": "stdout",
     "output_type": "stream",
     "text": [
      "Wall time: 8.67 s\n",
      "Wall time: 8.67 s\n",
      "Wall time: 8.67 s\n"
     ]
    }
   ],
   "source": [
    "%time data = pd.read_feather('../data/tmp/2_reduce.feathher')"
   ]
  },
  {
   "cell_type": "markdown",
   "metadata": {},
   "source": [
    "# 统计特征"
   ]
  },
  {
   "cell_type": "code",
   "execution_count": null,
   "metadata": {},
   "outputs": [],
   "source": [
    "# to_group = [['task_id'], ['dev_id'], ['adv_prim_id'], ['adv_id'], ['inter_type_cd'], ['slot_id'], ['tags'], ['app_first_class']]\n",
    "# to_inter =  [ 'age', 'city_rank', 'career', 'his_app_size', 'his_on_shelf_time', 'app_score', 'emui_dev', 'device_price', 'up_life_duration', 'communication_avgonline_30d']\n",
    "# # to_calc = ['std','mean','min','max',lambda x:np.std(np.fft.fft(x))]\n",
    "# to_calc = ['std','mean','min','max']\n",
    "\n",
    "# for i in tqdm(to_group):\n",
    "#     for j in to_inter:\n",
    "#         for k in to_calc:\n",
    "#             data['STAT_{}_{}_{}'.format('_'.join(i),j,k)] = data[i + [j]].groupby(i)[j].transform(k)\n",
    "\n"
   ]
  },
  {
   "cell_type": "code",
   "execution_count": 3,
   "metadata": {
    "scrolled": true
   },
   "outputs": [
    {
     "name": "stderr",
     "output_type": "stream",
     "text": [
      "100%|████████████████████████████████████████████████████████████████████████████████████| 4/4 [06:36<00:00, 99.21s/it]\n",
      "100%|████████████████████████████████████████████████████████████████████████████████████| 4/4 [06:36<00:00, 99.21s/it]\n",
      "100%|████████████████████████████████████████████████████████████████████████████████████| 4/4 [06:36<00:00, 99.21s/it]\n"
     ]
    }
   ],
   "source": [
    "to_group = [['task_id'], ['dev_id'], ['adv_prim_id'], ['adv_id']]\n",
    "to_inter =  [ 'age', 'city_rank', 'career', 'his_app_size', 'his_on_shelf_time', 'app_score', 'emui_dev', 'device_price', 'up_life_duration', 'communication_avgonline_30d']\n",
    "# to_calc = ['std','mean','min','max',lambda x:np.std(np.fft.fft(x))]\n",
    "to_calc = ['std','mean']\n",
    "\n",
    "for i in tqdm(to_group):\n",
    "    for j in to_inter:\n",
    "        for k in to_calc:\n",
    "            data['STAT_{}_{}_{}'.format('_'.join(i),j,k)] = data[i + [j]].groupby(i)[j].transform(k)\n",
    "\n"
   ]
  },
  {
   "cell_type": "code",
   "execution_count": 6,
   "metadata": {},
   "outputs": [
    {
     "name": "stderr",
     "output_type": "stream",
     "text": [
      "  0%|                                                                                          | 0/336 [00:00<?, ?it/s]"
     ]
    },
    {
     "name": "stdout",
     "output_type": "stream",
     "text": [
      "Memory usage of dataframe is 16399.24 MB\n",
      "Memory usage of dataframe is 16399.24 MB\n",
      "Memory usage of dataframe is 16399.24 MB\n"
     ]
    },
    {
     "name": "stderr",
     "output_type": "stream",
     "text": [
      "100%|████████████████████████████████████████████████████████████████████████████████| 336/336 [04:09<00:00,  1.35it/s]\n",
      "\n",
      "\n"
     ]
    },
    {
     "name": "stdout",
     "output_type": "stream",
     "text": [
      "Memory usage after optimization is: 10584.97 MB\n",
      "Decreased by 35.5%\n",
      "Memory usage after optimization is: 10584.97 MB\n",
      "Decreased by 35.5%\n"
     ]
    },
    {
     "data": {
      "text/plain": [
       "0"
      ]
     },
     "execution_count": 6,
     "metadata": {},
     "output_type": "execute_result"
    },
    {
     "name": "stdout",
     "output_type": "stream",
     "text": [
      "Memory usage after optimization is: 10584.97 MB\n",
      "Decreased by 35.5%\n"
     ]
    },
    {
     "data": {
      "text/plain": [
       "0"
      ]
     },
     "execution_count": 6,
     "metadata": {},
     "output_type": "execute_result"
    },
    {
     "data": {
      "text/plain": [
       "0"
      ]
     },
     "execution_count": 6,
     "metadata": {},
     "output_type": "execute_result"
    }
   ],
   "source": [
    "# 压缩\n",
    "data = data_compression(data)\n",
    "import gc\n",
    "gc.collect()"
   ]
  },
  {
   "cell_type": "code",
   "execution_count": 8,
   "metadata": {},
   "outputs": [],
   "source": [
    "data.to_feather('../data/tmp/3_reducer.feather')"
   ]
  },
  {
   "cell_type": "code",
   "execution_count": 9,
   "metadata": {},
   "outputs": [
    {
     "name": "stderr",
     "output_type": "stream",
     "text": [
      "100%|███████████████████████████████████████████████████████████████████████████████████| 4/4 [06:43<00:00, 103.13s/it]\n",
      "100%|███████████████████████████████████████████████████████████████████████████████████| 4/4 [06:43<00:00, 100.79s/it]\n",
      "\n"
     ]
    }
   ],
   "source": [
    "to_group = [['inter_type_cd'], ['slot_id'], ['tags'], ['app_first_class']]\n",
    "to_inter =  [ 'age', 'city_rank', 'career', 'his_app_size', 'his_on_shelf_time', 'app_score', 'emui_dev', 'device_price', 'up_life_duration', 'communication_avgonline_30d']\n",
    "# to_calc = ['std','mean','min','max',lambda x:np.std(np.fft.fft(x))]\n",
    "to_calc = ['std','mean']\n",
    "\n",
    "for i in tqdm(to_group):\n",
    "    for j in to_inter:\n",
    "        for k in to_calc:\n",
    "            data['STAT_{}_{}_{}'.format('_'.join(i),j,k)] = data[i + [j]].groupby(i)[j].transform(k)\n",
    "\n"
   ]
  },
  {
   "cell_type": "code",
   "execution_count": 10,
   "metadata": {},
   "outputs": [
    {
     "name": "stderr",
     "output_type": "stream",
     "text": [
      "  0%|                                                                                          | 0/416 [00:00<?, ?it/s]"
     ]
    },
    {
     "name": "stdout",
     "output_type": "stream",
     "text": [
      "Memory usage of dataframe is 18536.11 MB\n",
      "Memory usage of dataframe is 18536.11 MB\n",
      "Memory usage of dataframe is 18536.11 MB\n"
     ]
    },
    {
     "name": "stderr",
     "output_type": "stream",
     "text": [
      "100%|████████████████████████████████████████████████████████████████████████████████| 416/416 [05:32<00:00,  1.25it/s]\n",
      "\n",
      "\n"
     ]
    },
    {
     "name": "stdout",
     "output_type": "stream",
     "text": [
      "Memory usage after optimization is: 12572.75 MB\n",
      "Decreased by 32.2%\n",
      "Memory usage after optimization is: 12572.75 MB\n",
      "Decreased by 32.2%\n"
     ]
    },
    {
     "data": {
      "text/plain": [
       "15"
      ]
     },
     "execution_count": 10,
     "metadata": {},
     "output_type": "execute_result"
    },
    {
     "name": "stdout",
     "output_type": "stream",
     "text": [
      "Memory usage after optimization is: 12572.75 MB\n",
      "Decreased by 32.2%\n"
     ]
    },
    {
     "data": {
      "text/plain": [
       "15"
      ]
     },
     "execution_count": 10,
     "metadata": {},
     "output_type": "execute_result"
    },
    {
     "data": {
      "text/plain": [
       "15"
      ]
     },
     "execution_count": 10,
     "metadata": {},
     "output_type": "execute_result"
    }
   ],
   "source": [
    "# 压缩\n",
    "data = data_compression(data)\n",
    "import gc\n",
    "gc.collect()"
   ]
  },
  {
   "cell_type": "code",
   "execution_count": 12,
   "metadata": {},
   "outputs": [
    {
     "data": {
      "text/html": [
       "<div>\n",
       "<style scoped>\n",
       "    .dataframe tbody tr th:only-of-type {\n",
       "        vertical-align: middle;\n",
       "    }\n",
       "\n",
       "    .dataframe tbody tr th {\n",
       "        vertical-align: top;\n",
       "    }\n",
       "\n",
       "    .dataframe thead th {\n",
       "        text-align: right;\n",
       "    }\n",
       "</style>\n",
       "<table border=\"1\" class=\"dataframe\">\n",
       "  <thead>\n",
       "    <tr style=\"text-align: right;\">\n",
       "      <th></th>\n",
       "      <th>label</th>\n",
       "      <th>uid</th>\n",
       "      <th>task_id</th>\n",
       "      <th>adv_id</th>\n",
       "      <th>creat_type_cd</th>\n",
       "      <th>adv_prim_id</th>\n",
       "      <th>dev_id</th>\n",
       "      <th>inter_type_cd</th>\n",
       "      <th>slot_id</th>\n",
       "      <th>spread_app_id</th>\n",
       "      <th>...</th>\n",
       "      <th>STAT_app_first_class_app_score_std</th>\n",
       "      <th>STAT_app_first_class_app_score_mean</th>\n",
       "      <th>STAT_app_first_class_emui_dev_std</th>\n",
       "      <th>STAT_app_first_class_emui_dev_mean</th>\n",
       "      <th>STAT_app_first_class_device_price_std</th>\n",
       "      <th>STAT_app_first_class_device_price_mean</th>\n",
       "      <th>STAT_app_first_class_up_life_duration_std</th>\n",
       "      <th>STAT_app_first_class_up_life_duration_mean</th>\n",
       "      <th>STAT_app_first_class_communication_avgonline_30d_std</th>\n",
       "      <th>STAT_app_first_class_communication_avgonline_30d_mean</th>\n",
       "    </tr>\n",
       "  </thead>\n",
       "  <tbody>\n",
       "    <tr>\n",
       "      <th>0</th>\n",
       "      <td>0.0</td>\n",
       "      <td>2162947</td>\n",
       "      <td>5936</td>\n",
       "      <td>2934</td>\n",
       "      <td>6</td>\n",
       "      <td>126</td>\n",
       "      <td>19</td>\n",
       "      <td>5</td>\n",
       "      <td>18</td>\n",
       "      <td>57</td>\n",
       "      <td>...</td>\n",
       "      <td>0.0</td>\n",
       "      <td>2.0</td>\n",
       "      <td>4.507812</td>\n",
       "      <td>19.1875</td>\n",
       "      <td>1.168945</td>\n",
       "      <td>3.376953</td>\n",
       "      <td>9.117188</td>\n",
       "      <td>12.34375</td>\n",
       "      <td>1.620117</td>\n",
       "      <td>11.15625</td>\n",
       "    </tr>\n",
       "    <tr>\n",
       "      <th>1</th>\n",
       "      <td>0.0</td>\n",
       "      <td>1802604</td>\n",
       "      <td>4189</td>\n",
       "      <td>6509</td>\n",
       "      <td>7</td>\n",
       "      <td>122</td>\n",
       "      <td>18</td>\n",
       "      <td>5</td>\n",
       "      <td>16</td>\n",
       "      <td>56</td>\n",
       "      <td>...</td>\n",
       "      <td>0.0</td>\n",
       "      <td>2.0</td>\n",
       "      <td>4.507812</td>\n",
       "      <td>19.1875</td>\n",
       "      <td>1.168945</td>\n",
       "      <td>3.376953</td>\n",
       "      <td>9.117188</td>\n",
       "      <td>12.34375</td>\n",
       "      <td>1.620117</td>\n",
       "      <td>11.15625</td>\n",
       "    </tr>\n",
       "    <tr>\n",
       "      <th>2</th>\n",
       "      <td>0.0</td>\n",
       "      <td>2221433</td>\n",
       "      <td>1689</td>\n",
       "      <td>2069</td>\n",
       "      <td>3</td>\n",
       "      <td>142</td>\n",
       "      <td>36</td>\n",
       "      <td>5</td>\n",
       "      <td>12</td>\n",
       "      <td>80</td>\n",
       "      <td>...</td>\n",
       "      <td>0.0</td>\n",
       "      <td>2.0</td>\n",
       "      <td>4.507812</td>\n",
       "      <td>19.1875</td>\n",
       "      <td>1.168945</td>\n",
       "      <td>3.376953</td>\n",
       "      <td>9.117188</td>\n",
       "      <td>12.34375</td>\n",
       "      <td>1.620117</td>\n",
       "      <td>11.15625</td>\n",
       "    </tr>\n",
       "    <tr>\n",
       "      <th>3</th>\n",
       "      <td>1.0</td>\n",
       "      <td>2100689</td>\n",
       "      <td>2926</td>\n",
       "      <td>4168</td>\n",
       "      <td>3</td>\n",
       "      <td>142</td>\n",
       "      <td>36</td>\n",
       "      <td>5</td>\n",
       "      <td>12</td>\n",
       "      <td>80</td>\n",
       "      <td>...</td>\n",
       "      <td>0.0</td>\n",
       "      <td>2.0</td>\n",
       "      <td>4.507812</td>\n",
       "      <td>19.1875</td>\n",
       "      <td>1.168945</td>\n",
       "      <td>3.376953</td>\n",
       "      <td>9.117188</td>\n",
       "      <td>12.34375</td>\n",
       "      <td>1.620117</td>\n",
       "      <td>11.15625</td>\n",
       "    </tr>\n",
       "    <tr>\n",
       "      <th>4</th>\n",
       "      <td>0.0</td>\n",
       "      <td>2101862</td>\n",
       "      <td>1086</td>\n",
       "      <td>1219</td>\n",
       "      <td>5</td>\n",
       "      <td>142</td>\n",
       "      <td>36</td>\n",
       "      <td>5</td>\n",
       "      <td>18</td>\n",
       "      <td>80</td>\n",
       "      <td>...</td>\n",
       "      <td>0.0</td>\n",
       "      <td>2.0</td>\n",
       "      <td>4.507812</td>\n",
       "      <td>19.1875</td>\n",
       "      <td>1.168945</td>\n",
       "      <td>3.376953</td>\n",
       "      <td>9.117188</td>\n",
       "      <td>12.34375</td>\n",
       "      <td>1.620117</td>\n",
       "      <td>11.15625</td>\n",
       "    </tr>\n",
       "  </tbody>\n",
       "</table>\n",
       "<p>5 rows × 416 columns</p>\n",
       "</div>"
      ],
      "text/plain": [
       "   label      uid  task_id  adv_id  creat_type_cd  adv_prim_id  dev_id  \\\n",
       "0    0.0  2162947     5936    2934              6          126      19   \n",
       "1    0.0  1802604     4189    6509              7          122      18   \n",
       "2    0.0  2221433     1689    2069              3          142      36   \n",
       "3    1.0  2100689     2926    4168              3          142      36   \n",
       "4    0.0  2101862     1086    1219              5          142      36   \n",
       "\n",
       "   inter_type_cd  slot_id  spread_app_id  ...  \\\n",
       "0              5       18             57  ...   \n",
       "1              5       16             56  ...   \n",
       "2              5       12             80  ...   \n",
       "3              5       12             80  ...   \n",
       "4              5       18             80  ...   \n",
       "\n",
       "   STAT_app_first_class_app_score_std  STAT_app_first_class_app_score_mean  \\\n",
       "0                                 0.0                                  2.0   \n",
       "1                                 0.0                                  2.0   \n",
       "2                                 0.0                                  2.0   \n",
       "3                                 0.0                                  2.0   \n",
       "4                                 0.0                                  2.0   \n",
       "\n",
       "   STAT_app_first_class_emui_dev_std  STAT_app_first_class_emui_dev_mean  \\\n",
       "0                           4.507812                             19.1875   \n",
       "1                           4.507812                             19.1875   \n",
       "2                           4.507812                             19.1875   \n",
       "3                           4.507812                             19.1875   \n",
       "4                           4.507812                             19.1875   \n",
       "\n",
       "   STAT_app_first_class_device_price_std  \\\n",
       "0                               1.168945   \n",
       "1                               1.168945   \n",
       "2                               1.168945   \n",
       "3                               1.168945   \n",
       "4                               1.168945   \n",
       "\n",
       "   STAT_app_first_class_device_price_mean  \\\n",
       "0                                3.376953   \n",
       "1                                3.376953   \n",
       "2                                3.376953   \n",
       "3                                3.376953   \n",
       "4                                3.376953   \n",
       "\n",
       "   STAT_app_first_class_up_life_duration_std  \\\n",
       "0                                   9.117188   \n",
       "1                                   9.117188   \n",
       "2                                   9.117188   \n",
       "3                                   9.117188   \n",
       "4                                   9.117188   \n",
       "\n",
       "   STAT_app_first_class_up_life_duration_mean  \\\n",
       "0                                    12.34375   \n",
       "1                                    12.34375   \n",
       "2                                    12.34375   \n",
       "3                                    12.34375   \n",
       "4                                    12.34375   \n",
       "\n",
       "   STAT_app_first_class_communication_avgonline_30d_std  \\\n",
       "0                                           1.620117      \n",
       "1                                           1.620117      \n",
       "2                                           1.620117      \n",
       "3                                           1.620117      \n",
       "4                                           1.620117      \n",
       "\n",
       "   STAT_app_first_class_communication_avgonline_30d_mean  \n",
       "0                                           11.15625      \n",
       "1                                           11.15625      \n",
       "2                                           11.15625      \n",
       "3                                           11.15625      \n",
       "4                                           11.15625      \n",
       "\n",
       "[5 rows x 416 columns]"
      ]
     },
     "execution_count": 12,
     "metadata": {},
     "output_type": "execute_result"
    },
    {
     "data": {
      "text/html": [
       "<div>\n",
       "<style scoped>\n",
       "    .dataframe tbody tr th:only-of-type {\n",
       "        vertical-align: middle;\n",
       "    }\n",
       "\n",
       "    .dataframe tbody tr th {\n",
       "        vertical-align: top;\n",
       "    }\n",
       "\n",
       "    .dataframe thead th {\n",
       "        text-align: right;\n",
       "    }\n",
       "</style>\n",
       "<table border=\"1\" class=\"dataframe\">\n",
       "  <thead>\n",
       "    <tr style=\"text-align: right;\">\n",
       "      <th></th>\n",
       "      <th>label</th>\n",
       "      <th>uid</th>\n",
       "      <th>task_id</th>\n",
       "      <th>adv_id</th>\n",
       "      <th>creat_type_cd</th>\n",
       "      <th>adv_prim_id</th>\n",
       "      <th>dev_id</th>\n",
       "      <th>inter_type_cd</th>\n",
       "      <th>slot_id</th>\n",
       "      <th>spread_app_id</th>\n",
       "      <th>...</th>\n",
       "      <th>STAT_app_first_class_app_score_std</th>\n",
       "      <th>STAT_app_first_class_app_score_mean</th>\n",
       "      <th>STAT_app_first_class_emui_dev_std</th>\n",
       "      <th>STAT_app_first_class_emui_dev_mean</th>\n",
       "      <th>STAT_app_first_class_device_price_std</th>\n",
       "      <th>STAT_app_first_class_device_price_mean</th>\n",
       "      <th>STAT_app_first_class_up_life_duration_std</th>\n",
       "      <th>STAT_app_first_class_up_life_duration_mean</th>\n",
       "      <th>STAT_app_first_class_communication_avgonline_30d_std</th>\n",
       "      <th>STAT_app_first_class_communication_avgonline_30d_mean</th>\n",
       "    </tr>\n",
       "  </thead>\n",
       "  <tbody>\n",
       "    <tr>\n",
       "      <th>0</th>\n",
       "      <td>0.0</td>\n",
       "      <td>2162947</td>\n",
       "      <td>5936</td>\n",
       "      <td>2934</td>\n",
       "      <td>6</td>\n",
       "      <td>126</td>\n",
       "      <td>19</td>\n",
       "      <td>5</td>\n",
       "      <td>18</td>\n",
       "      <td>57</td>\n",
       "      <td>...</td>\n",
       "      <td>0.0</td>\n",
       "      <td>2.0</td>\n",
       "      <td>4.507812</td>\n",
       "      <td>19.1875</td>\n",
       "      <td>1.168945</td>\n",
       "      <td>3.376953</td>\n",
       "      <td>9.117188</td>\n",
       "      <td>12.34375</td>\n",
       "      <td>1.620117</td>\n",
       "      <td>11.15625</td>\n",
       "    </tr>\n",
       "    <tr>\n",
       "      <th>1</th>\n",
       "      <td>0.0</td>\n",
       "      <td>1802604</td>\n",
       "      <td>4189</td>\n",
       "      <td>6509</td>\n",
       "      <td>7</td>\n",
       "      <td>122</td>\n",
       "      <td>18</td>\n",
       "      <td>5</td>\n",
       "      <td>16</td>\n",
       "      <td>56</td>\n",
       "      <td>...</td>\n",
       "      <td>0.0</td>\n",
       "      <td>2.0</td>\n",
       "      <td>4.507812</td>\n",
       "      <td>19.1875</td>\n",
       "      <td>1.168945</td>\n",
       "      <td>3.376953</td>\n",
       "      <td>9.117188</td>\n",
       "      <td>12.34375</td>\n",
       "      <td>1.620117</td>\n",
       "      <td>11.15625</td>\n",
       "    </tr>\n",
       "    <tr>\n",
       "      <th>2</th>\n",
       "      <td>0.0</td>\n",
       "      <td>2221433</td>\n",
       "      <td>1689</td>\n",
       "      <td>2069</td>\n",
       "      <td>3</td>\n",
       "      <td>142</td>\n",
       "      <td>36</td>\n",
       "      <td>5</td>\n",
       "      <td>12</td>\n",
       "      <td>80</td>\n",
       "      <td>...</td>\n",
       "      <td>0.0</td>\n",
       "      <td>2.0</td>\n",
       "      <td>4.507812</td>\n",
       "      <td>19.1875</td>\n",
       "      <td>1.168945</td>\n",
       "      <td>3.376953</td>\n",
       "      <td>9.117188</td>\n",
       "      <td>12.34375</td>\n",
       "      <td>1.620117</td>\n",
       "      <td>11.15625</td>\n",
       "    </tr>\n",
       "    <tr>\n",
       "      <th>3</th>\n",
       "      <td>1.0</td>\n",
       "      <td>2100689</td>\n",
       "      <td>2926</td>\n",
       "      <td>4168</td>\n",
       "      <td>3</td>\n",
       "      <td>142</td>\n",
       "      <td>36</td>\n",
       "      <td>5</td>\n",
       "      <td>12</td>\n",
       "      <td>80</td>\n",
       "      <td>...</td>\n",
       "      <td>0.0</td>\n",
       "      <td>2.0</td>\n",
       "      <td>4.507812</td>\n",
       "      <td>19.1875</td>\n",
       "      <td>1.168945</td>\n",
       "      <td>3.376953</td>\n",
       "      <td>9.117188</td>\n",
       "      <td>12.34375</td>\n",
       "      <td>1.620117</td>\n",
       "      <td>11.15625</td>\n",
       "    </tr>\n",
       "    <tr>\n",
       "      <th>4</th>\n",
       "      <td>0.0</td>\n",
       "      <td>2101862</td>\n",
       "      <td>1086</td>\n",
       "      <td>1219</td>\n",
       "      <td>5</td>\n",
       "      <td>142</td>\n",
       "      <td>36</td>\n",
       "      <td>5</td>\n",
       "      <td>18</td>\n",
       "      <td>80</td>\n",
       "      <td>...</td>\n",
       "      <td>0.0</td>\n",
       "      <td>2.0</td>\n",
       "      <td>4.507812</td>\n",
       "      <td>19.1875</td>\n",
       "      <td>1.168945</td>\n",
       "      <td>3.376953</td>\n",
       "      <td>9.117188</td>\n",
       "      <td>12.34375</td>\n",
       "      <td>1.620117</td>\n",
       "      <td>11.15625</td>\n",
       "    </tr>\n",
       "  </tbody>\n",
       "</table>\n",
       "<p>5 rows × 416 columns</p>\n",
       "</div>"
      ],
      "text/plain": [
       "   label      uid  task_id  adv_id  creat_type_cd  adv_prim_id  dev_id  \\\n",
       "0    0.0  2162947     5936    2934              6          126      19   \n",
       "1    0.0  1802604     4189    6509              7          122      18   \n",
       "2    0.0  2221433     1689    2069              3          142      36   \n",
       "3    1.0  2100689     2926    4168              3          142      36   \n",
       "4    0.0  2101862     1086    1219              5          142      36   \n",
       "\n",
       "   inter_type_cd  slot_id  spread_app_id  ...  \\\n",
       "0              5       18             57  ...   \n",
       "1              5       16             56  ...   \n",
       "2              5       12             80  ...   \n",
       "3              5       12             80  ...   \n",
       "4              5       18             80  ...   \n",
       "\n",
       "   STAT_app_first_class_app_score_std  STAT_app_first_class_app_score_mean  \\\n",
       "0                                 0.0                                  2.0   \n",
       "1                                 0.0                                  2.0   \n",
       "2                                 0.0                                  2.0   \n",
       "3                                 0.0                                  2.0   \n",
       "4                                 0.0                                  2.0   \n",
       "\n",
       "   STAT_app_first_class_emui_dev_std  STAT_app_first_class_emui_dev_mean  \\\n",
       "0                           4.507812                             19.1875   \n",
       "1                           4.507812                             19.1875   \n",
       "2                           4.507812                             19.1875   \n",
       "3                           4.507812                             19.1875   \n",
       "4                           4.507812                             19.1875   \n",
       "\n",
       "   STAT_app_first_class_device_price_std  \\\n",
       "0                               1.168945   \n",
       "1                               1.168945   \n",
       "2                               1.168945   \n",
       "3                               1.168945   \n",
       "4                               1.168945   \n",
       "\n",
       "   STAT_app_first_class_device_price_mean  \\\n",
       "0                                3.376953   \n",
       "1                                3.376953   \n",
       "2                                3.376953   \n",
       "3                                3.376953   \n",
       "4                                3.376953   \n",
       "\n",
       "   STAT_app_first_class_up_life_duration_std  \\\n",
       "0                                   9.117188   \n",
       "1                                   9.117188   \n",
       "2                                   9.117188   \n",
       "3                                   9.117188   \n",
       "4                                   9.117188   \n",
       "\n",
       "   STAT_app_first_class_up_life_duration_mean  \\\n",
       "0                                    12.34375   \n",
       "1                                    12.34375   \n",
       "2                                    12.34375   \n",
       "3                                    12.34375   \n",
       "4                                    12.34375   \n",
       "\n",
       "   STAT_app_first_class_communication_avgonline_30d_std  \\\n",
       "0                                           1.620117      \n",
       "1                                           1.620117      \n",
       "2                                           1.620117      \n",
       "3                                           1.620117      \n",
       "4                                           1.620117      \n",
       "\n",
       "   STAT_app_first_class_communication_avgonline_30d_mean  \n",
       "0                                           11.15625      \n",
       "1                                           11.15625      \n",
       "2                                           11.15625      \n",
       "3                                           11.15625      \n",
       "4                                           11.15625      \n",
       "\n",
       "[5 rows x 416 columns]"
      ]
     },
     "execution_count": 12,
     "metadata": {},
     "output_type": "execute_result"
    },
    {
     "data": {
      "text/html": [
       "<div>\n",
       "<style scoped>\n",
       "    .dataframe tbody tr th:only-of-type {\n",
       "        vertical-align: middle;\n",
       "    }\n",
       "\n",
       "    .dataframe tbody tr th {\n",
       "        vertical-align: top;\n",
       "    }\n",
       "\n",
       "    .dataframe thead th {\n",
       "        text-align: right;\n",
       "    }\n",
       "</style>\n",
       "<table border=\"1\" class=\"dataframe\">\n",
       "  <thead>\n",
       "    <tr style=\"text-align: right;\">\n",
       "      <th></th>\n",
       "      <th>label</th>\n",
       "      <th>uid</th>\n",
       "      <th>task_id</th>\n",
       "      <th>adv_id</th>\n",
       "      <th>creat_type_cd</th>\n",
       "      <th>adv_prim_id</th>\n",
       "      <th>dev_id</th>\n",
       "      <th>inter_type_cd</th>\n",
       "      <th>slot_id</th>\n",
       "      <th>spread_app_id</th>\n",
       "      <th>...</th>\n",
       "      <th>STAT_app_first_class_app_score_std</th>\n",
       "      <th>STAT_app_first_class_app_score_mean</th>\n",
       "      <th>STAT_app_first_class_emui_dev_std</th>\n",
       "      <th>STAT_app_first_class_emui_dev_mean</th>\n",
       "      <th>STAT_app_first_class_device_price_std</th>\n",
       "      <th>STAT_app_first_class_device_price_mean</th>\n",
       "      <th>STAT_app_first_class_up_life_duration_std</th>\n",
       "      <th>STAT_app_first_class_up_life_duration_mean</th>\n",
       "      <th>STAT_app_first_class_communication_avgonline_30d_std</th>\n",
       "      <th>STAT_app_first_class_communication_avgonline_30d_mean</th>\n",
       "    </tr>\n",
       "  </thead>\n",
       "  <tbody>\n",
       "    <tr>\n",
       "      <th>0</th>\n",
       "      <td>0.0</td>\n",
       "      <td>2162947</td>\n",
       "      <td>5936</td>\n",
       "      <td>2934</td>\n",
       "      <td>6</td>\n",
       "      <td>126</td>\n",
       "      <td>19</td>\n",
       "      <td>5</td>\n",
       "      <td>18</td>\n",
       "      <td>57</td>\n",
       "      <td>...</td>\n",
       "      <td>0.0</td>\n",
       "      <td>2.0</td>\n",
       "      <td>4.507812</td>\n",
       "      <td>19.1875</td>\n",
       "      <td>1.168945</td>\n",
       "      <td>3.376953</td>\n",
       "      <td>9.117188</td>\n",
       "      <td>12.34375</td>\n",
       "      <td>1.620117</td>\n",
       "      <td>11.15625</td>\n",
       "    </tr>\n",
       "    <tr>\n",
       "      <th>1</th>\n",
       "      <td>0.0</td>\n",
       "      <td>1802604</td>\n",
       "      <td>4189</td>\n",
       "      <td>6509</td>\n",
       "      <td>7</td>\n",
       "      <td>122</td>\n",
       "      <td>18</td>\n",
       "      <td>5</td>\n",
       "      <td>16</td>\n",
       "      <td>56</td>\n",
       "      <td>...</td>\n",
       "      <td>0.0</td>\n",
       "      <td>2.0</td>\n",
       "      <td>4.507812</td>\n",
       "      <td>19.1875</td>\n",
       "      <td>1.168945</td>\n",
       "      <td>3.376953</td>\n",
       "      <td>9.117188</td>\n",
       "      <td>12.34375</td>\n",
       "      <td>1.620117</td>\n",
       "      <td>11.15625</td>\n",
       "    </tr>\n",
       "    <tr>\n",
       "      <th>2</th>\n",
       "      <td>0.0</td>\n",
       "      <td>2221433</td>\n",
       "      <td>1689</td>\n",
       "      <td>2069</td>\n",
       "      <td>3</td>\n",
       "      <td>142</td>\n",
       "      <td>36</td>\n",
       "      <td>5</td>\n",
       "      <td>12</td>\n",
       "      <td>80</td>\n",
       "      <td>...</td>\n",
       "      <td>0.0</td>\n",
       "      <td>2.0</td>\n",
       "      <td>4.507812</td>\n",
       "      <td>19.1875</td>\n",
       "      <td>1.168945</td>\n",
       "      <td>3.376953</td>\n",
       "      <td>9.117188</td>\n",
       "      <td>12.34375</td>\n",
       "      <td>1.620117</td>\n",
       "      <td>11.15625</td>\n",
       "    </tr>\n",
       "    <tr>\n",
       "      <th>3</th>\n",
       "      <td>1.0</td>\n",
       "      <td>2100689</td>\n",
       "      <td>2926</td>\n",
       "      <td>4168</td>\n",
       "      <td>3</td>\n",
       "      <td>142</td>\n",
       "      <td>36</td>\n",
       "      <td>5</td>\n",
       "      <td>12</td>\n",
       "      <td>80</td>\n",
       "      <td>...</td>\n",
       "      <td>0.0</td>\n",
       "      <td>2.0</td>\n",
       "      <td>4.507812</td>\n",
       "      <td>19.1875</td>\n",
       "      <td>1.168945</td>\n",
       "      <td>3.376953</td>\n",
       "      <td>9.117188</td>\n",
       "      <td>12.34375</td>\n",
       "      <td>1.620117</td>\n",
       "      <td>11.15625</td>\n",
       "    </tr>\n",
       "    <tr>\n",
       "      <th>4</th>\n",
       "      <td>0.0</td>\n",
       "      <td>2101862</td>\n",
       "      <td>1086</td>\n",
       "      <td>1219</td>\n",
       "      <td>5</td>\n",
       "      <td>142</td>\n",
       "      <td>36</td>\n",
       "      <td>5</td>\n",
       "      <td>18</td>\n",
       "      <td>80</td>\n",
       "      <td>...</td>\n",
       "      <td>0.0</td>\n",
       "      <td>2.0</td>\n",
       "      <td>4.507812</td>\n",
       "      <td>19.1875</td>\n",
       "      <td>1.168945</td>\n",
       "      <td>3.376953</td>\n",
       "      <td>9.117188</td>\n",
       "      <td>12.34375</td>\n",
       "      <td>1.620117</td>\n",
       "      <td>11.15625</td>\n",
       "    </tr>\n",
       "  </tbody>\n",
       "</table>\n",
       "<p>5 rows × 416 columns</p>\n",
       "</div>"
      ],
      "text/plain": [
       "   label      uid  task_id  adv_id  creat_type_cd  adv_prim_id  dev_id  \\\n",
       "0    0.0  2162947     5936    2934              6          126      19   \n",
       "1    0.0  1802604     4189    6509              7          122      18   \n",
       "2    0.0  2221433     1689    2069              3          142      36   \n",
       "3    1.0  2100689     2926    4168              3          142      36   \n",
       "4    0.0  2101862     1086    1219              5          142      36   \n",
       "\n",
       "   inter_type_cd  slot_id  spread_app_id  ...  \\\n",
       "0              5       18             57  ...   \n",
       "1              5       16             56  ...   \n",
       "2              5       12             80  ...   \n",
       "3              5       12             80  ...   \n",
       "4              5       18             80  ...   \n",
       "\n",
       "   STAT_app_first_class_app_score_std  STAT_app_first_class_app_score_mean  \\\n",
       "0                                 0.0                                  2.0   \n",
       "1                                 0.0                                  2.0   \n",
       "2                                 0.0                                  2.0   \n",
       "3                                 0.0                                  2.0   \n",
       "4                                 0.0                                  2.0   \n",
       "\n",
       "   STAT_app_first_class_emui_dev_std  STAT_app_first_class_emui_dev_mean  \\\n",
       "0                           4.507812                             19.1875   \n",
       "1                           4.507812                             19.1875   \n",
       "2                           4.507812                             19.1875   \n",
       "3                           4.507812                             19.1875   \n",
       "4                           4.507812                             19.1875   \n",
       "\n",
       "   STAT_app_first_class_device_price_std  \\\n",
       "0                               1.168945   \n",
       "1                               1.168945   \n",
       "2                               1.168945   \n",
       "3                               1.168945   \n",
       "4                               1.168945   \n",
       "\n",
       "   STAT_app_first_class_device_price_mean  \\\n",
       "0                                3.376953   \n",
       "1                                3.376953   \n",
       "2                                3.376953   \n",
       "3                                3.376953   \n",
       "4                                3.376953   \n",
       "\n",
       "   STAT_app_first_class_up_life_duration_std  \\\n",
       "0                                   9.117188   \n",
       "1                                   9.117188   \n",
       "2                                   9.117188   \n",
       "3                                   9.117188   \n",
       "4                                   9.117188   \n",
       "\n",
       "   STAT_app_first_class_up_life_duration_mean  \\\n",
       "0                                    12.34375   \n",
       "1                                    12.34375   \n",
       "2                                    12.34375   \n",
       "3                                    12.34375   \n",
       "4                                    12.34375   \n",
       "\n",
       "   STAT_app_first_class_communication_avgonline_30d_std  \\\n",
       "0                                           1.620117      \n",
       "1                                           1.620117      \n",
       "2                                           1.620117      \n",
       "3                                           1.620117      \n",
       "4                                           1.620117      \n",
       "\n",
       "   STAT_app_first_class_communication_avgonline_30d_mean  \n",
       "0                                           11.15625      \n",
       "1                                           11.15625      \n",
       "2                                           11.15625      \n",
       "3                                           11.15625      \n",
       "4                                           11.15625      \n",
       "\n",
       "[5 rows x 416 columns]"
      ]
     },
     "execution_count": 12,
     "metadata": {},
     "output_type": "execute_result"
    }
   ],
   "source": [
    "data.head()"
   ]
  },
  {
   "cell_type": "code",
   "execution_count": 14,
   "metadata": {},
   "outputs": [
    {
     "name": "stderr",
     "output_type": "stream",
     "text": [
      "100%|████████████████████████████████████████████████████████████████████████████████| 413/413 [01:43<00:00,  3.99it/s]\n",
      "100%|████████████████████████████████████████████████████████████████████████████████| 413/413 [01:43<00:00,  3.99it/s]\n",
      "\n"
     ]
    }
   ],
   "source": [
    "# 特征选择\n",
    "data_len = len(data)\n",
    "drop_feat = ['label','id','uid','pt_d']\n",
    "feature_name = [i for i in data.columns if i not in drop_feat]\n",
    "useless_col = []\n",
    "for col in tqdm(feature_name):\n",
    "    if (data[col].value_counts().iloc[0] / data_len) > 0.95:\n",
    "        useless_col.append(col)"
   ]
  },
  {
   "cell_type": "code",
   "execution_count": 15,
   "metadata": {
    "scrolled": true
   },
   "outputs": [
    {
     "data": {
      "text/plain": [
       "['membership_life_duration',\n",
       " 'membership_life_duration_count',\n",
       " 'STAT_uid_city_nunique_2',\n",
       " 'STAT_uid_device_name_nunique_2',\n",
       " 'STAT_uid_list_time_nunique_2',\n",
       " 'STAT_task_id_his_app_size_std',\n",
       " 'STAT_task_id_his_on_shelf_time_std',\n",
       " 'STAT_task_id_app_score_std',\n",
       " 'STAT_dev_id_his_on_shelf_time_std',\n",
       " 'STAT_dev_id_app_score_std',\n",
       " 'STAT_adv_id_his_app_size_std',\n",
       " 'STAT_adv_id_his_on_shelf_time_std',\n",
       " 'STAT_adv_id_app_score_std',\n",
       " 'STAT_app_first_class_app_score_std']"
      ]
     },
     "execution_count": 15,
     "metadata": {},
     "output_type": "execute_result"
    },
    {
     "data": {
      "text/plain": [
       "['membership_life_duration',\n",
       " 'membership_life_duration_count',\n",
       " 'STAT_uid_city_nunique_2',\n",
       " 'STAT_uid_device_name_nunique_2',\n",
       " 'STAT_uid_list_time_nunique_2',\n",
       " 'STAT_task_id_his_app_size_std',\n",
       " 'STAT_task_id_his_on_shelf_time_std',\n",
       " 'STAT_task_id_app_score_std',\n",
       " 'STAT_dev_id_his_on_shelf_time_std',\n",
       " 'STAT_dev_id_app_score_std',\n",
       " 'STAT_adv_id_his_app_size_std',\n",
       " 'STAT_adv_id_his_on_shelf_time_std',\n",
       " 'STAT_adv_id_app_score_std',\n",
       " 'STAT_app_first_class_app_score_std']"
      ]
     },
     "execution_count": 15,
     "metadata": {},
     "output_type": "execute_result"
    },
    {
     "data": {
      "text/plain": [
       "['membership_life_duration',\n",
       " 'membership_life_duration_count',\n",
       " 'STAT_uid_city_nunique_2',\n",
       " 'STAT_uid_device_name_nunique_2',\n",
       " 'STAT_uid_list_time_nunique_2',\n",
       " 'STAT_task_id_his_app_size_std',\n",
       " 'STAT_task_id_his_on_shelf_time_std',\n",
       " 'STAT_task_id_app_score_std',\n",
       " 'STAT_dev_id_his_on_shelf_time_std',\n",
       " 'STAT_dev_id_app_score_std',\n",
       " 'STAT_adv_id_his_app_size_std',\n",
       " 'STAT_adv_id_his_on_shelf_time_std',\n",
       " 'STAT_adv_id_app_score_std',\n",
       " 'STAT_app_first_class_app_score_std']"
      ]
     },
     "execution_count": 15,
     "metadata": {},
     "output_type": "execute_result"
    }
   ],
   "source": [
    "useless_col"
   ]
  },
  {
   "cell_type": "code",
   "execution_count": 18,
   "metadata": {},
   "outputs": [],
   "source": [
    "data.drop(columns=useless_col,inplace=True)"
   ]
  },
  {
   "cell_type": "code",
   "execution_count": null,
   "metadata": {},
   "outputs": [],
   "source": [
    "# 回调 随机游走"
   ]
  },
  {
   "cell_type": "markdown",
   "metadata": {},
   "source": [
    "嵌入特征\n",
    "['uid', 'task_id'] ->[adv_id，slot_id,tags]\n",
    "逆向思维："
   ]
  },
  {
   "cell_type": "code",
   "execution_count": null,
   "metadata": {},
   "outputs": [],
   "source": []
  },
  {
   "cell_type": "code",
   "execution_count": 20,
   "metadata": {},
   "outputs": [],
   "source": [
    "data.to_feather('../data/tmp/feat_all_reduce.feather')"
   ]
  },
  {
   "cell_type": "code",
   "execution_count": 19,
   "metadata": {},
   "outputs": [
    {
     "name": "stdout",
     "output_type": "stream",
     "text": [
      "<class 'pandas.core.frame.DataFrame'>\n",
      "RangeIndex: 13027161 entries, 0 to 13027160\n",
      "Columns: 402 entries, label to STAT_app_first_class_communication_avgonline_30d_mean\n",
      "dtypes: float16(233), int16(22), int32(110), int8(37)\n",
      "memory usage: 12.0 GB\n",
      "<class 'pandas.core.frame.DataFrame'>\n",
      "RangeIndex: 13027161 entries, 0 to 13027160\n",
      "Columns: 402 entries, label to STAT_app_first_class_communication_avgonline_30d_mean\n",
      "dtypes: float16(233), int16(22), int32(110), int8(37)\n",
      "memory usage: 12.0 GB\n",
      "<class 'pandas.core.frame.DataFrame'>\n",
      "RangeIndex: 13027161 entries, 0 to 13027160\n",
      "Columns: 402 entries, label to STAT_app_first_class_communication_avgonline_30d_mean\n",
      "dtypes: float16(233), int16(22), int32(110), int8(37)\n",
      "memory usage: 12.0 GB\n"
     ]
    }
   ],
   "source": [
    "data.info()"
   ]
  },
  {
   "cell_type": "markdown",
   "metadata": {},
   "source": [
    "# train and test"
   ]
  },
  {
   "cell_type": "code",
   "execution_count": 2,
   "metadata": {},
   "outputs": [
    {
     "name": "stdout",
     "output_type": "stream",
     "text": [
      "Wall time: 51.5 s\n"
     ]
    }
   ],
   "source": [
    "%time data=pd.read_feather('../data/tmp/feat_all_reduce.feather')"
   ]
  },
  {
   "cell_type": "code",
   "execution_count": 4,
   "metadata": {},
   "outputs": [
    {
     "name": "stdout",
     "output_type": "stream",
     "text": [
      "<class 'pandas.core.frame.DataFrame'>\n",
      "RangeIndex: 13027161 entries, 0 to 13027160\n",
      "Columns: 402 entries, label to STAT_app_first_class_communication_avgonline_30d_mean\n",
      "dtypes: float16(233), int16(22), int32(110), int8(37)\n",
      "memory usage: 12.0 GB\n"
     ]
    }
   ],
   "source": [
    "data.info()"
   ]
  },
  {
   "cell_type": "code",
   "execution_count": 2,
   "metadata": {},
   "outputs": [
    {
     "name": "stdout",
     "output_type": "stream",
     "text": [
      "Wall time: 1.35 s\n",
      "Wall time: 13.1 s\n"
     ]
    }
   ],
   "source": [
    "# i_sparse_features = ['uid','task_id', 'adv_id', 'creat_type_cd', 'adv_prim_id',\n",
    "#                    'dev_id', 'inter_type_cd', 'slot_id', 'spread_app_id', 'tags',\n",
    "#                    'app_first_class', 'app_second_class','city', 'city_rank',\n",
    "#                    'device_name','career', 'gender', 'net_type', 'residence', \n",
    "#                    'consume_purchase','indu_name','label']\n",
    "# %time sparse_data = pd.read_feather('../data/data_feat_all_reduce.feather',columns = i_sparse_features)\n",
    "# %time dense_feature_scaler = pd.read_feather('../data/dense_feature_scaler.feather')\n",
    "# pt_d  = pd.read_feather('../data/data_feat_all_reduce.feather',columns = ['pt_d'])\n",
    "# data = pd.concat([sparse_data,dense_feature_scaler],axis=1)\n",
    "# data = pd.concat([data,pt_d],axis=1)\n",
    "\n",
    "# sparse_features = ['task_id', 'adv_id', 'creat_type_cd', 'adv_prim_id',\n",
    "#                    'dev_id', 'inter_type_cd', 'slot_id', 'spread_app_id', 'tags',\n",
    "#                    'app_first_class', 'app_second_class','city', 'city_rank',\n",
    "#                    'device_name','career', 'gender', 'net_type', 'residence', \n",
    "#                    'consume_purchase','indu_name',]\n",
    "# sparse_data[sparse_features] = sparse_data[sparse_features].fillna('-1', )\n",
    "# types_map = sparse_data.dtypes\n",
    "# for feat in sparse_features:\n",
    "#     sparse_data[feat] = LabelEncoder().fit_transform(sparse_data[feat]).astype(types_map[feat])"
   ]
  },
  {
   "cell_type": "code",
   "execution_count": 4,
   "metadata": {},
   "outputs": [],
   "source": []
  },
  {
   "cell_type": "code",
   "execution_count": null,
   "metadata": {},
   "outputs": [],
   "source": []
  },
  {
   "cell_type": "code",
   "execution_count": null,
   "metadata": {},
   "outputs": [],
   "source": []
  },
  {
   "cell_type": "code",
   "execution_count": 5,
   "metadata": {},
   "outputs": [],
   "source": []
  },
  {
   "cell_type": "code",
   "execution_count": null,
   "metadata": {},
   "outputs": [],
   "source": []
  },
  {
   "cell_type": "code",
   "execution_count": 5,
   "metadata": {},
   "outputs": [
    {
     "name": "stdout",
     "output_type": "stream",
     "text": [
      "<class 'pandas.core.frame.DataFrame'>\n",
      "RangeIndex: 6302870 entries, 0 to 6302869\n",
      "Columns: 454 entries, uid to pt_d\n",
      "dtypes: float16(432), int16(4), int32(1), int8(17)\n",
      "memory usage: 5.2 GB\n"
     ]
    }
   ],
   "source": [
    "data.info()"
   ]
  },
  {
   "cell_type": "code",
   "execution_count": 4,
   "metadata": {},
   "outputs": [],
   "source": [
    "drop_feat = ['label','id','uid','pt_d','communication_onlinerate']\n",
    "feature_name = [i for i in data.columns if i not in drop_feat]"
   ]
  },
  {
   "cell_type": "code",
   "execution_count": 5,
   "metadata": {},
   "outputs": [],
   "source": [
    "\n",
    "# membership_life_duration communication_onlinerate\n",
    "sparse_features = ['task_id', 'adv_id', 'creat_type_cd', 'adv_prim_id',\n",
    "                   'dev_id', 'inter_type_cd', 'slot_id', 'spread_app_id', 'tags',\n",
    "                   'app_first_class', 'app_second_class','city', 'city_rank',\n",
    "                   'device_name','career', 'gender', 'net_type', 'residence', \n",
    "                   'consume_purchase','indu_name',]\n",
    "dense_features_1 = ['age', 'device_size',  'his_app_size', 'his_on_shelf_time', 'app_score',\n",
    "                   'emui_dev', 'list_time', 'device_price', 'up_life_duration',\n",
    "                  'communication_avgonline_30d']\n",
    "dense_features_2 = [i for i in feature_name if i not in (sparse_features+dense_features_1)]\n",
    "dense_features = dense_features_2 + dense_features_1\n",
    "target = ['label']\n"
   ]
  },
  {
   "cell_type": "code",
   "execution_count": 8,
   "metadata": {},
   "outputs": [
    {
     "name": "stdout",
     "output_type": "stream",
     "text": [
      "begin fillna....\n"
     ]
    }
   ],
   "source": [
    "print('begin fillna....')\n",
    "data[sparse_features] = data[sparse_features].fillna('-1', )\n",
    "data[dense_features] = data[dense_features].fillna(0,)\n",
    "\n",
    "print('begin labelEncoder....')\n",
    "types_map = data.dtypes\n",
    "for feat in sparse_features:\n",
    "    data[feat] = LabelEncoder().fit_transform(data[feat]).astype(types_map[feat])\n",
    " \n",
    "\n"
   ]
  },
  {
   "cell_type": "code",
   "execution_count": null,
   "metadata": {},
   "outputs": [],
   "source": [
    "tmp_feat = pd.DataFrame()\n",
    "for feat in tqdm(dense_features):\n",
    "    tmp_feat[feat] = MinMaxScaler(feature_range=(0,1)).fit_transform(data[[feat]]).astype(np.float16)[:,0]\n",
    "    del data[feat]\n",
    "    gc.collect()"
   ]
  },
  {
   "cell_type": "code",
   "execution_count": 12,
   "metadata": {},
   "outputs": [
    {
     "name": "stderr",
     "output_type": "stream",
     "text": [
      "100%|██████████████████████████████████████████████████████████████████████████████████| 50/50 [05:09<00:00,  6.18s/it]\n"
     ]
    }
   ],
   "source": []
  },
  {
   "cell_type": "code",
   "execution_count": 13,
   "metadata": {},
   "outputs": [
    {
     "data": {
      "text/plain": [
       "272"
      ]
     },
     "execution_count": 13,
     "metadata": {},
     "output_type": "execute_result"
    }
   ],
   "source": [
    "gc.collect()"
   ]
  },
  {
   "cell_type": "code",
   "execution_count": 31,
   "metadata": {},
   "outputs": [],
   "source": [
    "data = pd.concat([data,tmp_feat],axis=1)"
   ]
  },
  {
   "cell_type": "code",
   "execution_count": 33,
   "metadata": {},
   "outputs": [],
   "source": [
    "# data.to_feather('../data/tmp/feat_all_reduce_scale.feather')"
   ]
  },
  {
   "cell_type": "markdown",
   "metadata": {},
   "source": [
    "# 此处开始\n"
   ]
  },
  {
   "cell_type": "code",
   "execution_count": 3,
   "metadata": {
    "scrolled": false
   },
   "outputs": [
    {
     "name": "stdout",
     "output_type": "stream",
     "text": [
      "Wall time: 1min 27s\n"
     ]
    }
   ],
   "source": [
    "%time data = pd.read_feather('../data/tmp/feat_all_reduce_scale.feather')"
   ]
  },
  {
   "cell_type": "code",
   "execution_count": 3,
   "metadata": {},
   "outputs": [
    {
     "name": "stdout",
     "output_type": "stream",
     "text": [
      "<class 'pandas.core.frame.DataFrame'>\n",
      "RangeIndex: 13027161 entries, 0 to 13027160\n",
      "Columns: 402 entries, label to communication_avgonline_30d\n",
      "dtypes: float16(330), float64(50), int16(4), int32(1), int8(17)\n",
      "memory usage: 13.2 GB\n"
     ]
    }
   ],
   "source": [
    "data.info()"
   ]
  },
  {
   "cell_type": "code",
   "execution_count": 6,
   "metadata": {},
   "outputs": [],
   "source": [
    "fixlen_feature_columns  = [SparseFeat(feat,vocabulary_size=data[feat].nunique(),embedding_dim=4) for feat in sparse_features]\\\n",
    "            + [DenseFeat(feat,1,) for feat in dense_features]"
   ]
  },
  {
   "cell_type": "code",
   "execution_count": 7,
   "metadata": {},
   "outputs": [],
   "source": [
    "# 生成特征列\n",
    "dnn_feature_columns = fixlen_feature_columns\n",
    "linear_feature_columns = fixlen_feature_columns\n",
    "feature_names = get_feature_names(linear_feature_columns + dnn_feature_columns)"
   ]
  },
  {
   "cell_type": "code",
   "execution_count": 8,
   "metadata": {},
   "outputs": [],
   "source": [
    "# train = data[data['pt_d'] == 6].reset_index(drop=True)\n",
    "# val = data[data['pt_d'] == 7].reset_index(drop=True)\n",
    "train = data[data['pt_d'] != 8].reset_index(drop=True)\n",
    "test = data[data['pt_d'] == 8].reset_index(drop=True)"
   ]
  },
  {
   "cell_type": "code",
   "execution_count": 9,
   "metadata": {},
   "outputs": [
    {
     "data": {
      "text/plain": [
       "47"
      ]
     },
     "execution_count": 9,
     "metadata": {},
     "output_type": "execute_result"
    }
   ],
   "source": [
    "del data \n",
    "import gc\n",
    "gc.collect()"
   ]
  },
  {
   "cell_type": "code",
   "execution_count": 10,
   "metadata": {},
   "outputs": [],
   "source": [
    "train_model_input = {name: train[name].values for name in feature_names}\n",
    "# val_model_input = {name: val[name].values for name in feature_names}\n",
    "test_model_input = {name: test[name].values for name in feature_names}"
   ]
  },
  {
   "cell_type": "code",
   "execution_count": null,
   "metadata": {},
   "outputs": [],
   "source": []
  },
  {
   "cell_type": "code",
   "execution_count": 13,
   "metadata": {},
   "outputs": [
    {
     "name": "stdout",
     "output_type": "stream",
     "text": [
      "Train on 6017985 samples, validate on 6009176 samples\n",
      "Epoch 1/2\n",
      "6017985/6017985 [==============================] - 224s 37us/sample - loss: 0.1317 - binary_crossentropy: 0.1316 - accuracy: 0.9644 - val_loss: 0.1300 - val_binary_crossentropy: 0.1299 - val_accuracy: 0.9648\n",
      "Epoch 2/2\n",
      "6017985/6017985 [==============================] - 199s 33us/sample - loss: 0.1264 - binary_crossentropy: 0.1263 - accuracy: 0.9654 - val_loss: 0.1275 - val_binary_crossentropy: 0.1274 - val_accuracy: 0.9650\n"
     ]
    }
   ],
   "source": [
    "model = xDeepFM(linear_feature_columns,dnn_feature_columns,task='binary')\n",
    "model.compile('adam','binary_crossentropy',metrics=['binary_crossentropy','accuracy'])\n",
    "\n",
    "history = model.fit(train_model_input,train[target].values,batch_size=4096,epochs=2,\n",
    "                    validation_data = (val_model_input,val[target].values))\n"
   ]
  },
  {
   "cell_type": "code",
   "execution_count": 14,
   "metadata": {},
   "outputs": [
    {
     "data": {
      "text/plain": [
       "0.7950158895811508"
      ]
     },
     "execution_count": 14,
     "metadata": {},
     "output_type": "execute_result"
    }
   ],
   "source": [
    "pred_ans = model.predict(val_model_input,batch_size=4096*2)\n",
    "roc_auc_score(val[target].values,pred_ans)"
   ]
  },
  {
   "cell_type": "code",
   "execution_count": 11,
   "metadata": {},
   "outputs": [
    {
     "name": "stdout",
     "output_type": "stream",
     "text": [
      "Train on 12027161 samples\n",
      "Epoch 1/2\n",
      "12027161/12027161 [==============================] - 288s 24us/sample - loss: 0.1285 - binary_crossentropy: 0.1284 - accuracy: 0.9650\n",
      "Epoch 2/2\n",
      "12027161/12027161 [==============================] - 257s 21us/sample - loss: 0.1265 - binary_crossentropy: 0.1263 - accuracy: 0.9653\n"
     ]
    }
   ],
   "source": [
    "# 第二次训练，验证集作为训练\n",
    "model = xDeepFM(linear_feature_columns,dnn_feature_columns,task='binary')\n",
    "model.compile('adam','binary_crossentropy',metrics=['binary_crossentropy','accuracy'])\n",
    "\n",
    "history = model.fit(train_model_input,train[target].values,batch_size=4096,epochs=2,)"
   ]
  },
  {
   "cell_type": "code",
   "execution_count": 25,
   "metadata": {},
   "outputs": [
    {
     "data": {
      "text/plain": [
       "0.7949279315859"
      ]
     },
     "execution_count": 25,
     "metadata": {},
     "output_type": "execute_result"
    }
   ],
   "source": [
    "pred_ans = model.predict(train_model_input,batch_size=4096*2)\n",
    "roc_auc_score(train[target].values,pred_ans)"
   ]
  },
  {
   "cell_type": "code",
   "execution_count": 13,
   "metadata": {},
   "outputs": [],
   "source": [
    "pred_ans = model.predict(test_model_input,batch_size=4096*4)"
   ]
  },
  {
   "cell_type": "code",
   "execution_count": 14,
   "metadata": {},
   "outputs": [
    {
     "data": {
      "text/plain": [
       "array([[0.01364288],\n",
       "       [0.10171694],\n",
       "       [0.3447391 ],\n",
       "       ...,\n",
       "       [0.02585912],\n",
       "       [0.01625967],\n",
       "       [0.01853165]], dtype=float32)"
      ]
     },
     "execution_count": 14,
     "metadata": {},
     "output_type": "execute_result"
    }
   ],
   "source": [
    "pred_ans"
   ]
  },
  {
   "cell_type": "code",
   "execution_count": 15,
   "metadata": {},
   "outputs": [],
   "source": [
    "submit = pd.DataFrame()\n",
    "submit['id'] = range(1,len(test)+1)\n",
    "submit['probability'] = pred_ans\n"
   ]
  },
  {
   "cell_type": "code",
   "execution_count": 30,
   "metadata": {},
   "outputs": [
    {
     "data": {
      "text/html": [
       "<div>\n",
       "<style scoped>\n",
       "    .dataframe tbody tr th:only-of-type {\n",
       "        vertical-align: middle;\n",
       "    }\n",
       "\n",
       "    .dataframe tbody tr th {\n",
       "        vertical-align: top;\n",
       "    }\n",
       "\n",
       "    .dataframe thead th {\n",
       "        text-align: right;\n",
       "    }\n",
       "</style>\n",
       "<table border=\"1\" class=\"dataframe\">\n",
       "  <thead>\n",
       "    <tr style=\"text-align: right;\">\n",
       "      <th></th>\n",
       "      <th>id</th>\n",
       "      <th>probability</th>\n",
       "    </tr>\n",
       "  </thead>\n",
       "  <tbody>\n",
       "    <tr>\n",
       "      <th>0</th>\n",
       "      <td>1</td>\n",
       "      <td>0.009380</td>\n",
       "    </tr>\n",
       "    <tr>\n",
       "      <th>1</th>\n",
       "      <td>2</td>\n",
       "      <td>0.059440</td>\n",
       "    </tr>\n",
       "    <tr>\n",
       "      <th>2</th>\n",
       "      <td>3</td>\n",
       "      <td>0.259231</td>\n",
       "    </tr>\n",
       "    <tr>\n",
       "      <th>3</th>\n",
       "      <td>4</td>\n",
       "      <td>0.018994</td>\n",
       "    </tr>\n",
       "    <tr>\n",
       "      <th>4</th>\n",
       "      <td>5</td>\n",
       "      <td>0.059031</td>\n",
       "    </tr>\n",
       "  </tbody>\n",
       "</table>\n",
       "</div>"
      ],
      "text/plain": [
       "   id  probability\n",
       "0   1     0.009380\n",
       "1   2     0.059440\n",
       "2   3     0.259231\n",
       "3   4     0.018994\n",
       "4   5     0.059031"
      ]
     },
     "execution_count": 30,
     "metadata": {},
     "output_type": "execute_result"
    }
   ],
   "source": [
    "submit.head()"
   ]
  },
  {
   "cell_type": "code",
   "execution_count": 16,
   "metadata": {},
   "outputs": [],
   "source": [
    "submit.to_csv('../submit/0907_3/submission.csv',index=False)"
   ]
  },
  {
   "cell_type": "code",
   "execution_count": 28,
   "metadata": {},
   "outputs": [
    {
     "data": {
      "text/html": [
       "<div>\n",
       "<style scoped>\n",
       "    .dataframe tbody tr th:only-of-type {\n",
       "        vertical-align: middle;\n",
       "    }\n",
       "\n",
       "    .dataframe tbody tr th {\n",
       "        vertical-align: top;\n",
       "    }\n",
       "\n",
       "    .dataframe thead th {\n",
       "        text-align: right;\n",
       "    }\n",
       "</style>\n",
       "<table border=\"1\" class=\"dataframe\">\n",
       "  <thead>\n",
       "    <tr style=\"text-align: right;\">\n",
       "      <th></th>\n",
       "      <th>id</th>\n",
       "      <th>probability</th>\n",
       "    </tr>\n",
       "  </thead>\n",
       "  <tbody>\n",
       "    <tr>\n",
       "      <th>0</th>\n",
       "      <td>1</td>\n",
       "      <td>0.011877</td>\n",
       "    </tr>\n",
       "    <tr>\n",
       "      <th>1</th>\n",
       "      <td>2</td>\n",
       "      <td>0.102997</td>\n",
       "    </tr>\n",
       "    <tr>\n",
       "      <th>2</th>\n",
       "      <td>3</td>\n",
       "      <td>0.282427</td>\n",
       "    </tr>\n",
       "    <tr>\n",
       "      <th>3</th>\n",
       "      <td>4</td>\n",
       "      <td>0.023081</td>\n",
       "    </tr>\n",
       "    <tr>\n",
       "      <th>4</th>\n",
       "      <td>5</td>\n",
       "      <td>0.074156</td>\n",
       "    </tr>\n",
       "  </tbody>\n",
       "</table>\n",
       "</div>"
      ],
      "text/plain": [
       "   id  probability\n",
       "0   1     0.011877\n",
       "1   2     0.102997\n",
       "2   3     0.282427\n",
       "3   4     0.023081\n",
       "4   5     0.074156"
      ]
     },
     "execution_count": 28,
     "metadata": {},
     "output_type": "execute_result"
    }
   ],
   "source": [
    "pd.read_csv('../submit/0907_1/submission.csv').head()"
   ]
  },
  {
   "cell_type": "code",
   "execution_count": 17,
   "metadata": {},
   "outputs": [],
   "source": [
    "# 用前一天预测效果最好"
   ]
  },
  {
   "cell_type": "code",
   "execution_count": null,
   "metadata": {},
   "outputs": [],
   "source": []
  },
  {
   "cell_type": "code",
   "execution_count": null,
   "metadata": {},
   "outputs": [],
   "source": []
  },
  {
   "cell_type": "code",
   "execution_count": null,
   "metadata": {},
   "outputs": [],
   "source": []
  },
  {
   "cell_type": "code",
   "execution_count": null,
   "metadata": {},
   "outputs": [],
   "source": []
  },
  {
   "cell_type": "code",
   "execution_count": null,
   "metadata": {},
   "outputs": [],
   "source": []
  },
  {
   "cell_type": "code",
   "execution_count": null,
   "metadata": {},
   "outputs": [],
   "source": []
  },
  {
   "cell_type": "code",
   "execution_count": null,
   "metadata": {},
   "outputs": [],
   "source": []
  },
  {
   "cell_type": "code",
   "execution_count": null,
   "metadata": {},
   "outputs": [],
   "source": []
  },
  {
   "cell_type": "code",
   "execution_count": null,
   "metadata": {},
   "outputs": [],
   "source": []
  },
  {
   "cell_type": "code",
   "execution_count": null,
   "metadata": {},
   "outputs": [],
   "source": []
  },
  {
   "cell_type": "code",
   "execution_count": null,
   "metadata": {},
   "outputs": [],
   "source": []
  },
  {
   "cell_type": "code",
   "execution_count": null,
   "metadata": {},
   "outputs": [],
   "source": []
  },
  {
   "cell_type": "code",
   "execution_count": null,
   "metadata": {},
   "outputs": [],
   "source": []
  },
  {
   "cell_type": "code",
   "execution_count": null,
   "metadata": {},
   "outputs": [],
   "source": []
  },
  {
   "cell_type": "code",
   "execution_count": null,
   "metadata": {},
   "outputs": [],
   "source": []
  },
  {
   "cell_type": "code",
   "execution_count": 17,
   "metadata": {},
   "outputs": [
    {
     "data": {
      "text/plain": [
       "array([0.01327293, 0.15979464, 0.23355472, ..., 0.15256163, 0.08342812,\n",
       "       0.07438161])"
      ]
     },
     "execution_count": 17,
     "metadata": {},
     "output_type": "execute_result"
    }
   ],
   "source": [
    "test_pred_prob"
   ]
  },
  {
   "cell_type": "code",
   "execution_count": 18,
   "metadata": {},
   "outputs": [],
   "source": [
    "submit = pd.DataFrame()\n",
    "submit['id'] = range(1,len(test)+1)\n",
    "submit['probability'] = test_pred_prob\n"
   ]
  },
  {
   "cell_type": "code",
   "execution_count": 20,
   "metadata": {},
   "outputs": [],
   "source": [
    "submit.to_csv('../submit/0903_2/submission.csv',index=False)"
   ]
  },
  {
   "cell_type": "code",
   "execution_count": 21,
   "metadata": {},
   "outputs": [
    {
     "data": {
      "text/plain": [
       "array([0.01163306, 0.06300333, 0.02498697, ..., 0.01603606, 0.01725756,\n",
       "       0.02520344])"
      ]
     },
     "execution_count": 21,
     "metadata": {},
     "output_type": "execute_result"
    }
   ],
   "source": [
    "prob_oof"
   ]
  },
  {
   "cell_type": "code",
   "execution_count": 18,
   "metadata": {},
   "outputs": [
    {
     "data": {
      "text/html": [
       "<div>\n",
       "<style scoped>\n",
       "    .dataframe tbody tr th:only-of-type {\n",
       "        vertical-align: middle;\n",
       "    }\n",
       "\n",
       "    .dataframe tbody tr th {\n",
       "        vertical-align: top;\n",
       "    }\n",
       "\n",
       "    .dataframe thead th {\n",
       "        text-align: right;\n",
       "    }\n",
       "</style>\n",
       "<table border=\"1\" class=\"dataframe\">\n",
       "  <thead>\n",
       "    <tr style=\"text-align: right;\">\n",
       "      <th></th>\n",
       "      <th>id</th>\n",
       "      <th>to</th>\n",
       "    </tr>\n",
       "  </thead>\n",
       "  <tbody>\n",
       "    <tr>\n",
       "      <th>0</th>\n",
       "      <td>1</td>\n",
       "      <td>2</td>\n",
       "    </tr>\n",
       "    <tr>\n",
       "      <th>1</th>\n",
       "      <td>2</td>\n",
       "      <td>3</td>\n",
       "    </tr>\n",
       "    <tr>\n",
       "      <th>2</th>\n",
       "      <td>3</td>\n",
       "      <td>4</td>\n",
       "    </tr>\n",
       "  </tbody>\n",
       "</table>\n",
       "</div>"
      ],
      "text/plain": [
       "   id  to\n",
       "0   1   2\n",
       "1   2   3\n",
       "2   3   4"
      ]
     },
     "execution_count": 18,
     "metadata": {},
     "output_type": "execute_result"
    }
   ],
   "source": [
    "t1 = pd.DataFrame({'id':[1,2,3],'to':[2,3,4],'label':[9,6,7]})\n",
    "t1"
   ]
  },
  {
   "cell_type": "code",
   "execution_count": 19,
   "metadata": {},
   "outputs": [
    {
     "data": {
      "text/html": [
       "<div>\n",
       "<style scoped>\n",
       "    .dataframe tbody tr th:only-of-type {\n",
       "        vertical-align: middle;\n",
       "    }\n",
       "\n",
       "    .dataframe tbody tr th {\n",
       "        vertical-align: top;\n",
       "    }\n",
       "\n",
       "    .dataframe thead th {\n",
       "        text-align: right;\n",
       "    }\n",
       "</style>\n",
       "<table border=\"1\" class=\"dataframe\">\n",
       "  <thead>\n",
       "    <tr style=\"text-align: right;\">\n",
       "      <th></th>\n",
       "      <th>ids</th>\n",
       "      <th>tos</th>\n",
       "    </tr>\n",
       "  </thead>\n",
       "  <tbody>\n",
       "    <tr>\n",
       "      <th>0</th>\n",
       "      <td>1</td>\n",
       "      <td>2</td>\n",
       "    </tr>\n",
       "    <tr>\n",
       "      <th>1</th>\n",
       "      <td>2</td>\n",
       "      <td>3</td>\n",
       "    </tr>\n",
       "    <tr>\n",
       "      <th>2</th>\n",
       "      <td>3</td>\n",
       "      <td>4</td>\n",
       "    </tr>\n",
       "  </tbody>\n",
       "</table>\n",
       "</div>"
      ],
      "text/plain": [
       "   ids  tos\n",
       "0    1    2\n",
       "1    2    3\n",
       "2    3    4"
      ]
     },
     "execution_count": 19,
     "metadata": {},
     "output_type": "execute_result"
    }
   ],
   "source": [
    "t2 = pd.DataFrame({'ids':[1,2,3],'tos':[2,3,4]})\n",
    "t2"
   ]
  },
  {
   "cell_type": "code",
   "execution_count": 20,
   "metadata": {},
   "outputs": [
    {
     "ename": "AttributeError",
     "evalue": "'DataFrame' object has no attribute 'map'",
     "output_type": "error",
     "traceback": [
      "\u001b[1;31m---------------------------------------------------------------------------\u001b[0m",
      "\u001b[1;31mAttributeError\u001b[0m                            Traceback (most recent call last)",
      "\u001b[1;32m<ipython-input-20-7eac2b2681eb>\u001b[0m in \u001b[0;36m<module>\u001b[1;34m\u001b[0m\n\u001b[1;32m----> 1\u001b[1;33m \u001b[0mt2\u001b[0m\u001b[1;33m[\u001b[0m\u001b[1;33m[\u001b[0m\u001b[1;34m'ids'\u001b[0m\u001b[1;33m,\u001b[0m\u001b[1;34m'tos'\u001b[0m\u001b[1;33m]\u001b[0m\u001b[1;33m]\u001b[0m\u001b[1;33m.\u001b[0m\u001b[0mmap\u001b[0m\u001b[1;33m(\u001b[0m\u001b[0mt1\u001b[0m\u001b[1;33m)\u001b[0m\u001b[1;33m\u001b[0m\u001b[1;33m\u001b[0m\u001b[0m\n\u001b[0m",
      "\u001b[1;32mD:\\anaconda3\\lib\\site-packages\\pandas\\core\\generic.py\u001b[0m in \u001b[0;36m__getattr__\u001b[1;34m(self, name)\u001b[0m\n\u001b[0;32m   5065\u001b[0m             \u001b[1;32mif\u001b[0m \u001b[0mself\u001b[0m\u001b[1;33m.\u001b[0m\u001b[0m_info_axis\u001b[0m\u001b[1;33m.\u001b[0m\u001b[0m_can_hold_identifiers_and_holds_name\u001b[0m\u001b[1;33m(\u001b[0m\u001b[0mname\u001b[0m\u001b[1;33m)\u001b[0m\u001b[1;33m:\u001b[0m\u001b[1;33m\u001b[0m\u001b[1;33m\u001b[0m\u001b[0m\n\u001b[0;32m   5066\u001b[0m                 \u001b[1;32mreturn\u001b[0m \u001b[0mself\u001b[0m\u001b[1;33m[\u001b[0m\u001b[0mname\u001b[0m\u001b[1;33m]\u001b[0m\u001b[1;33m\u001b[0m\u001b[1;33m\u001b[0m\u001b[0m\n\u001b[1;32m-> 5067\u001b[1;33m             \u001b[1;32mreturn\u001b[0m \u001b[0mobject\u001b[0m\u001b[1;33m.\u001b[0m\u001b[0m__getattribute__\u001b[0m\u001b[1;33m(\u001b[0m\u001b[0mself\u001b[0m\u001b[1;33m,\u001b[0m \u001b[0mname\u001b[0m\u001b[1;33m)\u001b[0m\u001b[1;33m\u001b[0m\u001b[1;33m\u001b[0m\u001b[0m\n\u001b[0m\u001b[0;32m   5068\u001b[0m \u001b[1;33m\u001b[0m\u001b[0m\n\u001b[0;32m   5069\u001b[0m     \u001b[1;32mdef\u001b[0m \u001b[0m__setattr__\u001b[0m\u001b[1;33m(\u001b[0m\u001b[0mself\u001b[0m\u001b[1;33m,\u001b[0m \u001b[0mname\u001b[0m\u001b[1;33m,\u001b[0m \u001b[0mvalue\u001b[0m\u001b[1;33m)\u001b[0m\u001b[1;33m:\u001b[0m\u001b[1;33m\u001b[0m\u001b[1;33m\u001b[0m\u001b[0m\n",
      "\u001b[1;31mAttributeError\u001b[0m: 'DataFrame' object has no attribute 'map'"
     ]
    }
   ],
   "source": [
    "t2[['ids','tos']].map(t1)"
   ]
  },
  {
   "cell_type": "code",
   "execution_count": null,
   "metadata": {},
   "outputs": [],
   "source": []
  }
 ],
 "metadata": {
  "kernelspec": {
   "display_name": "Python 3",
   "language": "python",
   "name": "python3"
  },
  "language_info": {
   "codemirror_mode": {
    "name": "ipython",
    "version": 3
   },
   "file_extension": ".py",
   "mimetype": "text/x-python",
   "name": "python",
   "nbconvert_exporter": "python",
   "pygments_lexer": "ipython3",
   "version": "3.7.6"
  }
 },
 "nbformat": 4,
 "nbformat_minor": 4
}
