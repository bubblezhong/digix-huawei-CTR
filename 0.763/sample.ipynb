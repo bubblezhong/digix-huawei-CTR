{
 "cells": [
  {
   "cell_type": "code",
   "execution_count": 17,
   "metadata": {},
   "outputs": [],
   "source": [
    "import pandas as pd\n",
    "import numpy as np\n",
    "from tqdm import tqdm"
   ]
  },
  {
   "cell_type": "code",
   "execution_count": 2,
   "metadata": {},
   "outputs": [],
   "source": [
    "chunksize = 10000000\n",
    "train = pd.read_csv('../data/train_data.csv',sep='|',chunksize=chunksize)   "
   ]
  },
  {
   "cell_type": "code",
   "execution_count": 3,
   "metadata": {},
   "outputs": [
    {
     "name": "stdout",
     "output_type": "stream",
     "text": [
      "len train_sample 0 0\n",
      "len train_sample 1113247 1113247\n",
      "len train_sample 1996339 3109586\n",
      "len train_sample 7010442 10120028\n",
      "len train_sample 1907133 12027161\n"
     ]
    }
   ],
   "source": [
    "train_sample = pd.DataFrame()\n",
    "for chunk in train:\n",
    "#     print('len chunk',len(chunk))\n",
    "    tmp = chunk[chunk['pt_d']>5]\n",
    "    train_sample = pd.concat([train_sample,tmp]).reset_index(drop=True)\n",
    "    print('len train_sample',len(tmp),len(train_sample))\n",
    "   "
   ]
  },
  {
   "cell_type": "code",
   "execution_count": 4,
   "metadata": {},
   "outputs": [],
   "source": [
    "# train_sample.info()"
   ]
  },
  {
   "cell_type": "code",
   "execution_count": 5,
   "metadata": {},
   "outputs": [
    {
     "name": "stdout",
     "output_type": "stream",
     "text": [
      "Wall time: 2.17 s\n"
     ]
    }
   ],
   "source": [
    "%time test = pd.read_csv('../data/test_data_B.csv',sep='|')\n"
   ]
  },
  {
   "cell_type": "code",
   "execution_count": 11,
   "metadata": {},
   "outputs": [
    {
     "data": {
      "text/plain": [
       "1000000"
      ]
     },
     "execution_count": 11,
     "metadata": {},
     "output_type": "execute_result"
    }
   ],
   "source": [
    "len(test)"
   ]
  },
  {
   "cell_type": "code",
   "execution_count": 6,
   "metadata": {},
   "outputs": [],
   "source": [
    "del test['id']"
   ]
  },
  {
   "cell_type": "code",
   "execution_count": 7,
   "metadata": {},
   "outputs": [],
   "source": [
    "# test.info()"
   ]
  },
  {
   "cell_type": "code",
   "execution_count": 9,
   "metadata": {},
   "outputs": [],
   "source": [
    "train_test_sample = pd.concat([train_sample,test],sort=False).reset_index(drop=True)\n"
   ]
  },
  {
   "cell_type": "code",
   "execution_count": 10,
   "metadata": {},
   "outputs": [
    {
     "data": {
      "text/plain": [
       "13027161"
      ]
     },
     "execution_count": 10,
     "metadata": {},
     "output_type": "execute_result"
    }
   ],
   "source": [
    "len(train_test_sample)"
   ]
  },
  {
   "cell_type": "code",
   "execution_count": 18,
   "metadata": {},
   "outputs": [],
   "source": [
    "# 内存压缩\n",
    "def data_compression(df):\n",
    "    \"\"\" iterate through all the columns of a dataframe and modify the data type\n",
    "        to reduce memory usage.        \n",
    "    \"\"\"\n",
    "    start_mem = df.memory_usage().sum() / 1024**2\n",
    "    print('Memory usage of dataframe is {:.2f} MB'.format(start_mem))\n",
    "    \n",
    "    for col in tqdm(df.columns):\n",
    "        col_type = df[col].dtype\n",
    "        \n",
    "        if col_type != object:\n",
    "            c_min = df[col].min()\n",
    "            c_max = df[col].max()\n",
    "            if str(col_type)[:3] == 'int':\n",
    "                if c_min > np.iinfo(np.int8).min and c_max < np.iinfo(np.int8).max:\n",
    "                    df[col] = df[col].astype(np.int8)\n",
    "                elif c_min > np.iinfo(np.int16).min and c_max < np.iinfo(np.int16).max:\n",
    "                    df[col] = df[col].astype(np.int16)\n",
    "                elif c_min > np.iinfo(np.int32).min and c_max < np.iinfo(np.int32).max:\n",
    "                    df[col] = df[col].astype(np.int32)\n",
    "                elif c_min > np.iinfo(np.int64).min and c_max < np.iinfo(np.int64).max:\n",
    "                    df[col] = df[col].astype(np.int64)  \n",
    "            else:\n",
    "                if c_min > np.finfo(np.float16).min and c_max < np.finfo(np.float16).max:\n",
    "                    df[col] = df[col].astype(np.float16)\n",
    "                elif c_min > np.finfo(np.float32).min and c_max < np.finfo(np.float32).max:\n",
    "                    df[col] = df[col].astype(np.float32)\n",
    "                else:\n",
    "                    df[col] = df[col].astype(np.float64)\n",
    "        else:\n",
    "            df[col] = df[col].astype('category')\n",
    "\n",
    "    end_mem = df.memory_usage().sum() / 1024**2\n",
    "    print('Memory usage after optimization is: {:.2f} MB'.format(end_mem))\n",
    "    print('Decreased by {:.1f}%'.format(100 * (start_mem - end_mem) / start_mem))\n",
    "    \n",
    "    return df"
   ]
  },
  {
   "cell_type": "code",
   "execution_count": 19,
   "metadata": {},
   "outputs": [
    {
     "name": "stderr",
     "output_type": "stream",
     "text": [
      "\r",
      "  0%|                                                                                           | 0/36 [00:00<?, ?it/s]"
     ]
    },
    {
     "name": "stdout",
     "output_type": "stream",
     "text": [
      "Memory usage of dataframe is 3578.02 MB\n"
     ]
    },
    {
     "name": "stderr",
     "output_type": "stream",
     "text": [
      "100%|██████████████████████████████████████████████████████████████████████████████████| 36/36 [00:29<00:00,  1.23it/s]\n"
     ]
    },
    {
     "name": "stdout",
     "output_type": "stream",
     "text": [
      "Memory usage after optimization is: 571.58 MB\n",
      "Decreased by 84.0%\n",
      "<class 'pandas.core.frame.DataFrame'>\n",
      "RangeIndex: 13027161 entries, 0 to 13027160\n",
      "Data columns (total 36 columns):\n",
      "label                          float16\n",
      "uid                            int32\n",
      "task_id                        int16\n",
      "adv_id                         int16\n",
      "creat_type_cd                  int8\n",
      "adv_prim_id                    int16\n",
      "dev_id                         int8\n",
      "inter_type_cd                  int8\n",
      "slot_id                        int8\n",
      "spread_app_id                  int8\n",
      "tags                           int8\n",
      "app_first_class                int8\n",
      "app_second_class               int8\n",
      "age                            int8\n",
      "city                           int16\n",
      "city_rank                      int8\n",
      "device_name                    int8\n",
      "device_size                    int16\n",
      "career                         int8\n",
      "gender                         int8\n",
      "net_type                       int8\n",
      "residence                      int8\n",
      "his_app_size                   int8\n",
      "his_on_shelf_time              int8\n",
      "app_score                      int8\n",
      "emui_dev                       int8\n",
      "list_time                      int8\n",
      "device_price                   int8\n",
      "up_life_duration               int8\n",
      "up_membership_grade            int8\n",
      "membership_life_duration       int8\n",
      "consume_purchase               int8\n",
      "communication_onlinerate       category\n",
      "communication_avgonline_30d    int8\n",
      "indu_name                      int8\n",
      "pt_d                           int8\n",
      "dtypes: category(1), float16(1), int16(5), int32(1), int8(28)\n",
      "memory usage: 571.6 MB\n"
     ]
    }
   ],
   "source": [
    "train_test_sample = data_compression(train_test_sample)\n",
    "train_test_sample.info()"
   ]
  },
  {
   "cell_type": "code",
   "execution_count": 20,
   "metadata": {},
   "outputs": [],
   "source": [
    "train_test_sample.to_pickle('../data/train67_test_B.pickle')"
   ]
  },
  {
   "cell_type": "code",
   "execution_count": 10,
   "metadata": {},
   "outputs": [
    {
     "data": {
      "text/html": [
       "<div>\n",
       "<style scoped>\n",
       "    .dataframe tbody tr th:only-of-type {\n",
       "        vertical-align: middle;\n",
       "    }\n",
       "\n",
       "    .dataframe tbody tr th {\n",
       "        vertical-align: top;\n",
       "    }\n",
       "\n",
       "    .dataframe thead th {\n",
       "        text-align: right;\n",
       "    }\n",
       "</style>\n",
       "<table border=\"1\" class=\"dataframe\">\n",
       "  <thead>\n",
       "    <tr style=\"text-align: right;\">\n",
       "      <th></th>\n",
       "      <th>label</th>\n",
       "      <th>uid</th>\n",
       "      <th>task_id</th>\n",
       "      <th>adv_id</th>\n",
       "      <th>creat_type_cd</th>\n",
       "      <th>adv_prim_id</th>\n",
       "      <th>dev_id</th>\n",
       "      <th>inter_type_cd</th>\n",
       "      <th>slot_id</th>\n",
       "      <th>spread_app_id</th>\n",
       "      <th>...</th>\n",
       "      <th>list_time</th>\n",
       "      <th>device_price</th>\n",
       "      <th>up_life_duration</th>\n",
       "      <th>up_membership_grade</th>\n",
       "      <th>membership_life_duration</th>\n",
       "      <th>consume_purchase</th>\n",
       "      <th>communication_onlinerate</th>\n",
       "      <th>communication_avgonline_30d</th>\n",
       "      <th>indu_name</th>\n",
       "      <th>pt_d</th>\n",
       "    </tr>\n",
       "  </thead>\n",
       "  <tbody>\n",
       "    <tr>\n",
       "      <th>0</th>\n",
       "      <td>0.0</td>\n",
       "      <td>2162947</td>\n",
       "      <td>5936</td>\n",
       "      <td>2934</td>\n",
       "      <td>6</td>\n",
       "      <td>126</td>\n",
       "      <td>19</td>\n",
       "      <td>5</td>\n",
       "      <td>18</td>\n",
       "      <td>57</td>\n",
       "      <td>...</td>\n",
       "      <td>10</td>\n",
       "      <td>2</td>\n",
       "      <td>20</td>\n",
       "      <td>1</td>\n",
       "      <td>-1</td>\n",
       "      <td>2</td>\n",
       "      <td>8^9^10^11^12^13^14^15^16^17^18^19^20^21^22^23</td>\n",
       "      <td>9</td>\n",
       "      <td>46</td>\n",
       "      <td>6</td>\n",
       "    </tr>\n",
       "    <tr>\n",
       "      <th>1</th>\n",
       "      <td>0.0</td>\n",
       "      <td>1802604</td>\n",
       "      <td>4189</td>\n",
       "      <td>6509</td>\n",
       "      <td>7</td>\n",
       "      <td>122</td>\n",
       "      <td>18</td>\n",
       "      <td>5</td>\n",
       "      <td>16</td>\n",
       "      <td>56</td>\n",
       "      <td>...</td>\n",
       "      <td>14</td>\n",
       "      <td>5</td>\n",
       "      <td>20</td>\n",
       "      <td>1</td>\n",
       "      <td>-1</td>\n",
       "      <td>2</td>\n",
       "      <td>2^3^4^5^6^7^8^9^10^11^12^13^14^15^16^17^18^19^...</td>\n",
       "      <td>13</td>\n",
       "      <td>14</td>\n",
       "      <td>6</td>\n",
       "    </tr>\n",
       "    <tr>\n",
       "      <th>2</th>\n",
       "      <td>0.0</td>\n",
       "      <td>2221433</td>\n",
       "      <td>1689</td>\n",
       "      <td>2069</td>\n",
       "      <td>3</td>\n",
       "      <td>142</td>\n",
       "      <td>36</td>\n",
       "      <td>5</td>\n",
       "      <td>12</td>\n",
       "      <td>80</td>\n",
       "      <td>...</td>\n",
       "      <td>15</td>\n",
       "      <td>4</td>\n",
       "      <td>18</td>\n",
       "      <td>-1</td>\n",
       "      <td>-1</td>\n",
       "      <td>2</td>\n",
       "      <td>11^12^13^14^15^16^17^18^19^20^21^22^23</td>\n",
       "      <td>7</td>\n",
       "      <td>42</td>\n",
       "      <td>6</td>\n",
       "    </tr>\n",
       "    <tr>\n",
       "      <th>3</th>\n",
       "      <td>1.0</td>\n",
       "      <td>2100689</td>\n",
       "      <td>2926</td>\n",
       "      <td>4168</td>\n",
       "      <td>3</td>\n",
       "      <td>142</td>\n",
       "      <td>36</td>\n",
       "      <td>5</td>\n",
       "      <td>12</td>\n",
       "      <td>80</td>\n",
       "      <td>...</td>\n",
       "      <td>13</td>\n",
       "      <td>2</td>\n",
       "      <td>18</td>\n",
       "      <td>-1</td>\n",
       "      <td>-1</td>\n",
       "      <td>5</td>\n",
       "      <td>0^1^2^3^4^5^6^7^8^9^10^11^12^13^14^15^16^17^18...</td>\n",
       "      <td>12</td>\n",
       "      <td>42</td>\n",
       "      <td>6</td>\n",
       "    </tr>\n",
       "    <tr>\n",
       "      <th>4</th>\n",
       "      <td>0.0</td>\n",
       "      <td>2101862</td>\n",
       "      <td>1086</td>\n",
       "      <td>1219</td>\n",
       "      <td>5</td>\n",
       "      <td>142</td>\n",
       "      <td>36</td>\n",
       "      <td>5</td>\n",
       "      <td>18</td>\n",
       "      <td>80</td>\n",
       "      <td>...</td>\n",
       "      <td>15</td>\n",
       "      <td>4</td>\n",
       "      <td>16</td>\n",
       "      <td>-1</td>\n",
       "      <td>-1</td>\n",
       "      <td>2</td>\n",
       "      <td>0^1^2^3^4^5^6^7^8^9^10^11^12^13^14^15^16^17^18...</td>\n",
       "      <td>13</td>\n",
       "      <td>42</td>\n",
       "      <td>6</td>\n",
       "    </tr>\n",
       "  </tbody>\n",
       "</table>\n",
       "<p>5 rows × 36 columns</p>\n",
       "</div>"
      ],
      "text/plain": [
       "   label      uid  task_id  adv_id  creat_type_cd  adv_prim_id  dev_id  \\\n",
       "0    0.0  2162947     5936    2934              6          126      19   \n",
       "1    0.0  1802604     4189    6509              7          122      18   \n",
       "2    0.0  2221433     1689    2069              3          142      36   \n",
       "3    1.0  2100689     2926    4168              3          142      36   \n",
       "4    0.0  2101862     1086    1219              5          142      36   \n",
       "\n",
       "   inter_type_cd  slot_id  spread_app_id  ...  list_time  device_price  \\\n",
       "0              5       18             57  ...         10             2   \n",
       "1              5       16             56  ...         14             5   \n",
       "2              5       12             80  ...         15             4   \n",
       "3              5       12             80  ...         13             2   \n",
       "4              5       18             80  ...         15             4   \n",
       "\n",
       "   up_life_duration  up_membership_grade  membership_life_duration  \\\n",
       "0                20                    1                        -1   \n",
       "1                20                    1                        -1   \n",
       "2                18                   -1                        -1   \n",
       "3                18                   -1                        -1   \n",
       "4                16                   -1                        -1   \n",
       "\n",
       "   consume_purchase                           communication_onlinerate  \\\n",
       "0                 2      8^9^10^11^12^13^14^15^16^17^18^19^20^21^22^23   \n",
       "1                 2  2^3^4^5^6^7^8^9^10^11^12^13^14^15^16^17^18^19^...   \n",
       "2                 2             11^12^13^14^15^16^17^18^19^20^21^22^23   \n",
       "3                 5  0^1^2^3^4^5^6^7^8^9^10^11^12^13^14^15^16^17^18...   \n",
       "4                 2  0^1^2^3^4^5^6^7^8^9^10^11^12^13^14^15^16^17^18...   \n",
       "\n",
       "   communication_avgonline_30d  indu_name  pt_d  \n",
       "0                            9         46     6  \n",
       "1                           13         14     6  \n",
       "2                            7         42     6  \n",
       "3                           12         42     6  \n",
       "4                           13         42     6  \n",
       "\n",
       "[5 rows x 36 columns]"
      ]
     },
     "execution_count": 10,
     "metadata": {},
     "output_type": "execute_result"
    }
   ],
   "source": [
    "train_test_sample.head(5)"
   ]
  },
  {
   "cell_type": "code",
   "execution_count": 11,
   "metadata": {},
   "outputs": [
    {
     "data": {
      "text/plain": [
       "<matplotlib.axes._subplots.AxesSubplot at 0x25dcf3fe488>"
      ]
     },
     "execution_count": 11,
     "metadata": {},
     "output_type": "execute_result"
    },
    {
     "data": {
      "image/png": "[encoded data removed]",
      "text/plain": [
       "<Figure size 432x288 with 1 Axes>"
      ]
     },
     "metadata": {
      "needs_background": "light"
     },
     "output_type": "display_data"
    }
   ],
   "source": [
    "train_test_sample['pt_d'].hist()"
   ]
  },
  {
   "cell_type": "code",
   "execution_count": 12,
   "metadata": {},
   "outputs": [],
   "source": []
  },
  {
   "cell_type": "code",
   "execution_count": null,
   "metadata": {},
   "outputs": [],
   "source": []
  }
 ],
 "metadata": {
  "kernelspec": {
   "display_name": "Python 3",
   "language": "python",
   "name": "python3"
  },
  "language_info": {
   "codemirror_mode": {
    "name": "ipython",
    "version": 3
   },
   "file_extension": ".py",
   "mimetype": "text/x-python",
   "name": "python",
   "nbconvert_exporter": "python",
   "pygments_lexer": "ipython3",
   "version": "3.7.6"
  }
 },
 "nbformat": 4,
 "nbformat_minor": 4
}
