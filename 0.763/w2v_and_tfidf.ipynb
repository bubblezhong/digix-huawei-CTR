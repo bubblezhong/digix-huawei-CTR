{
 "cells": [
  {
   "cell_type": "code",
   "execution_count": 1,
   "metadata": {},
   "outputs": [],
   "source": [
    "import pandas as pd\n",
    "import numpy as np\n",
    "from tqdm import tqdm\n",
    "from sklearn.preprocessing import LabelEncoder\n",
    "import seaborn as sns\n",
    "import matplotlib.pyplot as plt\n",
    "import lightgbm as lgb\n",
    "from sklearn.metrics import roc_auc_score\n",
    "from sklearn.model_selection import KFold\n",
    "from sklearn.model_selection import StratifiedKFold\n",
    "from datetime import timedelta\n",
    "import time as datetime\n",
    "from gensim.models import Word2Vec\n",
    "# from feature_selector import FeatureSelector\n",
    "from gensim.models import Word2Vec\n",
    "\n",
    "from sklearn.metrics import classification_report, f1_score\n",
    "from sklearn.model_selection import StratifiedKFold, KFold\n",
    "from sklearn.decomposition import TruncatedSVD\n",
    "from sklearn.feature_extraction.text import TfidfVectorizer,CountVectorizer\n",
    "\n",
    "\n",
    "from deepctr.models import xDeepFM\n",
    "from sklearn.preprocessing import LabelEncoder,MinMaxScaler\n",
    "from deepctr.feature_column import SparseFeat, DenseFeat, get_feature_names\n",
    "import warnings\n",
    "warnings.filterwarnings('ignore')\n",
    "\n",
    "import os\n",
    "os.environ['CUDA_VISIBLE_DEVICES'] = \"0\""
   ]
  },
  {
   "cell_type": "code",
   "execution_count": 2,
   "metadata": {},
   "outputs": [],
   "source": [
    "data =  pd.read_pickle('../data/train67_test.pickle')\n",
    "# data = pd.read_csv('../data/test_data_A.csv',sep='|')\n"
   ]
  },
  {
   "cell_type": "markdown",
   "metadata": {},
   "source": [
    "嵌入特征\n",
    "['uid', 'task_id'] ->[adv_id，slot_id,tags]\n",
    "逆向思维："
   ]
  },
  {
   "cell_type": "code",
   "execution_count": 7,
   "metadata": {},
   "outputs": [],
   "source": [
    "def w2v_id_feature(df,key1,key2,model='group',embedding_size=20,windows_size=20,workers=20,iter=10,min_count=0,use_cache=True):\n",
    "    df = df[[key1,key2]]\n",
    "    df[key2] =  df[key2].astype(str)\n",
    "    sentence = df.groupby([key1])[key2].agg(list).reset_index()\n",
    "    model_name = '../data/vector_1/{}_{}_{}.model'.format(key1,key2,embedding_size,windows_size)\n",
    "    if(os.path.exists(model_name)) & (use_cache):\n",
    "        model = Word2Vec.load(model_name)\n",
    "    else:\n",
    "        print('beging training')\n",
    "        model = Word2Vec(sentence[key2].values, size=embedding_size, window = windows_size, min_count = min_count,\\\n",
    "                         sg=1,seed=2020,iter=10,workers=workers)\n",
    "        model.save(model_name)\n",
    "        print('end training')\n",
    "#     df['w2v_{}_{}'.format(key1,key2)] = df.\n",
    "    \n",
    "    #返回均值，作为key1的代表向量\n",
    "    sentence[key2] = sentence[key2].apply(lambda x: pd.DataFrame([model[c] for c in x]))\n",
    "    \n",
    "#     print(sentence.head())\n",
    "#     print(sentence.info())\n",
    "    print('beging mean compute')\n",
    "    for m in range(embedding_size):\n",
    "        sentence['{}_w2v_mean_{}_by_{}'.format(key1,m,key2)] = sentence[key2].apply(lambda x:x[m].mean())\n",
    "        \n",
    "    del sentence[key2]\n",
    "    \n",
    "    print('compute id_embedding')\n",
    "    # 返回向量本身，作为key2的代表向量\n",
    "    id_vocab = model.wv.vocab.keys() \n",
    "    id_embedding_val = [model[i] for i in id_vocab]\n",
    "    id_embedding = pd.DataFrame(id_embedding_val)\n",
    "    id_embedding[key2] = id_vocab\n",
    "    id_embedding.columns = ['{}_w2v_{}_by_{}'.format(key2,m,key1) for m in range(embedding_size)]+[key2]\n",
    "#     print(id_embedding)\n",
    "    return sentence,id_embedding\n",
    "        "
   ]
  },
  {
   "cell_type": "code",
   "execution_count": null,
   "metadata": {},
   "outputs": [],
   "source": [
    "\n"
   ]
  },
  {
   "cell_type": "code",
   "execution_count": 4,
   "metadata": {
    "scrolled": true
   },
   "outputs": [],
   "source": [
    "# uid_mean_by_task_id, task_id_embendding_by_uid = w2v_id_feature(data.iloc[:10000],'uid','task_id')\n",
    "# pd.read_feather('../data/w2vres/uid_w2v_mean_by_adv_id.feather')"
   ]
  },
  {
   "cell_type": "code",
   "execution_count": 10,
   "metadata": {
    "scrolled": true
   },
   "outputs": [
    {
     "name": "stderr",
     "output_type": "stream",
     "text": [
      "\n",
      "\n",
      "  0%|                                                                                            | 0/4 [00:00<?, ?it/s]\u001b[A\u001b[A"
     ]
    },
    {
     "name": "stdout",
     "output_type": "stream",
     "text": [
      "beging training\n",
      "end training\n",
      "beging mean compute\n",
      "compute id_embedding\n"
     ]
    },
    {
     "name": "stderr",
     "output_type": "stream",
     "text": [
      "\n",
      "\n",
      " 25%|████████████████████▊                                                              | 1/4 [10:46<32:18, 646.09s/it]\u001b[A\u001b[A"
     ]
    },
    {
     "name": "stdout",
     "output_type": "stream",
     "text": [
      "beging training\n",
      "end training\n",
      "beging mean compute\n",
      "compute id_embedding\n"
     ]
    },
    {
     "name": "stderr",
     "output_type": "stream",
     "text": [
      "\n",
      "\n",
      " 50%|█████████████████████████████████████████▌                                         | 2/4 [21:26<21:28, 644.44s/it]\u001b[A\u001b[A"
     ]
    },
    {
     "name": "stdout",
     "output_type": "stream",
     "text": [
      "beging training\n",
      "end training\n",
      "beging mean compute\n",
      "compute id_embedding\n"
     ]
    },
    {
     "name": "stderr",
     "output_type": "stream",
     "text": [
      "\n",
      "\n",
      " 75%|██████████████████████████████████████████████████████████████▎                    | 3/4 [27:00<09:11, 551.25s/it]\u001b[A\u001b[A"
     ]
    },
    {
     "name": "stdout",
     "output_type": "stream",
     "text": [
      "beging training\n",
      "end training\n",
      "beging mean compute\n",
      "compute id_embedding\n"
     ]
    },
    {
     "name": "stderr",
     "output_type": "stream",
     "text": [
      "\n",
      "\n",
      "100%|███████████████████████████████████████████████████████████████████████████████████| 4/4 [32:17<00:00, 484.43s/it]\u001b[A\u001b[A\n"
     ]
    }
   ],
   "source": [
    "# '\n",
    "for i in tqdm(['adv_id','task_id','adv_prim_id','spread_app_id']):\n",
    "    mean_by_id,id_embendding_by_uid = w2v_id_feature(data,i,'uid')\n",
    "    path_name_1 = '../data/w2vres_1/uid_w2v_mean_by_{}.feather'.format(i)\n",
    "    mean_by_id.to_feather(path_name_1)\n",
    "    path_name_2 = '../data/w2vres_1/{}_w2v_by_uid.feather'.format(i)\n",
    "    id_embendding_by_uid.to_feather(path_name_2)"
   ]
  },
  {
   "cell_type": "code",
   "execution_count": 14,
   "metadata": {
    "scrolled": true
   },
   "outputs": [
    {
     "name": "stderr",
     "output_type": "stream",
     "text": [
      "\n",
      "\n",
      "\n",
      "  0%|                                                                                            | 0/3 [00:00<?, ?it/s]\u001b[A\u001b[A\u001b[A"
     ]
    },
    {
     "name": "stdout",
     "output_type": "stream",
     "text": [
      "beging training\n",
      "end training\n",
      "beging mean compute\n",
      "compute id_embedding\n"
     ]
    },
    {
     "name": "stderr",
     "output_type": "stream",
     "text": [
      "\n",
      "\n",
      "\n",
      " 33%|███████████████████████████▋                                                       | 1/3 [04:56<09:53, 296.54s/it]\u001b[A\u001b[A\u001b[A"
     ]
    },
    {
     "name": "stdout",
     "output_type": "stream",
     "text": [
      "beging training\n",
      "end training\n",
      "beging mean compute\n",
      "compute id_embedding\n"
     ]
    },
    {
     "name": "stderr",
     "output_type": "stream",
     "text": [
      "\n",
      "\n",
      "\n",
      " 67%|███████████████████████████████████████████████████████▎                           | 2/3 [09:43<04:53, 293.61s/it]\u001b[A\u001b[A\u001b[A"
     ]
    },
    {
     "name": "stdout",
     "output_type": "stream",
     "text": [
      "beging training\n",
      "end training\n",
      "beging mean compute\n",
      "compute id_embedding\n"
     ]
    },
    {
     "name": "stderr",
     "output_type": "stream",
     "text": [
      "\n",
      "\n",
      "\n",
      "100%|███████████████████████████████████████████████████████████████████████████████████| 3/3 [14:36<00:00, 292.26s/it]\u001b[A\u001b[A\u001b[A\n"
     ]
    }
   ],
   "source": [
    "# 'dev_id','slot_id','creat_type_cd','inter_typ_cd',\n",
    "for i in tqdm(['tags','app_first_class','app_second_class']):\n",
    "    mean_by_id,id_embendding_by_uid = w2v_id_feature(data,i,'uid')\n",
    "    path_name_1 = '../data/w2vres_1/uid_w2v_mean_by_{}.feather'.format(i)\n",
    "    mean_by_id.to_feather(path_name_1)\n",
    "    path_name_2 = '../data/w2vres_1/{}_w2v_by_uid.feather'.format(i)\n",
    "    id_embendding_by_uid.to_feather(path_name_2)"
   ]
  },
  {
   "cell_type": "code",
   "execution_count": 10,
   "metadata": {},
   "outputs": [],
   "source": [
    "def gen_user_tfidf_features(df, key, column, n_components=32):\n",
    "    df = df[[key, column]]\n",
    "    df[column] = df[column].astype(str)\n",
    "    df[column].fillna('000', inplace=True)\n",
    "    df[column] = df[column].replace('-1', '000')\n",
    "    group_df = df.groupby([key])[column].apply(lambda x: x.tolist()).reset_index()\n",
    "    group_df.columns = [key, 'list']\n",
    "    group_df['list'] = group_df['list'].apply(lambda x: 'n' + ',n'.join(x))\n",
    "    enc_vec = TfidfVectorizer()\n",
    "    tfidf_vec = enc_vec.fit_transform(group_df['list'])\n",
    "    # print(enc_vec.get_feature_names())\n",
    "    \n",
    "    nunq = df[column].nunique()\n",
    "    if nunq < n_components:\n",
    "        n_components = nunq\n",
    "        vec_svd = pd.DataFrame(tfidf_vec.toarray())\n",
    "        # print(df[column].unique(), vec_svd.shape)\n",
    "        vec_svd.columns = ['{}_tfidf_{}_{}'.format(key,column, i) for i in range(n_components)]\n",
    "        group_df = pd.concat([group_df, vec_svd], axis=1)\n",
    "    else: \n",
    "        svd_enc = TruncatedSVD(n_components=n_components, n_iter=10, random_state=2020)\n",
    "        vec_svd = svd_enc.fit_transform(tfidf_vec)\n",
    "        vec_svd = pd.DataFrame(vec_svd)\n",
    "        vec_svd.columns = ['{}_svd_tfidf_{}_{}'.format(key,column, i) for i in range(n_components)]\n",
    "        group_df = pd.concat([group_df, vec_svd], axis=1)\n",
    "    del group_df['list']\n",
    "    file_path = '../data/tfidfres/'+key+'_'+'tfidfsvd'+'_by_'+column+'.feather'\n",
    "    group_df.to_feather(file_path)\n",
    "#     return group_df"
   ]
  },
  {
   "cell_type": "code",
   "execution_count": 4,
   "metadata": {
    "scrolled": true
   },
   "outputs": [
    {
     "name": "stderr",
     "output_type": "stream",
     "text": [
      "\r",
      "  0%|                                                                                            | 0/3 [00:00<?, ?it/s]"
     ]
    },
    {
     "name": "stdout",
     "output_type": "stream",
     "text": [
      "begining svd\n"
     ]
    },
    {
     "name": "stderr",
     "output_type": "stream",
     "text": [
      "\r",
      " 33%|███████████████████████████▋                                                       | 1/3 [01:40<03:20, 100.42s/it]"
     ]
    },
    {
     "name": "stdout",
     "output_type": "stream",
     "text": [
      "begining svd\n"
     ]
    },
    {
     "name": "stderr",
     "output_type": "stream",
     "text": [
      "\r",
      " 67%|████████████████████████████████████████████████████████                            | 2/3 [03:02<01:34, 94.88s/it]"
     ]
    },
    {
     "name": "stdout",
     "output_type": "stream",
     "text": [
      "begining svd\n"
     ]
    },
    {
     "name": "stderr",
     "output_type": "stream",
     "text": [
      "100%|████████████████████████████████████████████████████████████████████████████████████| 3/3 [04:23<00:00, 87.91s/it]\n"
     ]
    }
   ],
   "source": [
    "cols2 = ['adv_prim_id', 'tags', 'app_first_class']\n",
    "for col in tqdm(cols2): \n",
    "    gen_user_tfidf_features(data[['uid',col]],'uid',col)"
   ]
  },
  {
   "cell_type": "code",
   "execution_count": 11,
   "metadata": {
    "scrolled": true
   },
   "outputs": [
    {
     "name": "stderr",
     "output_type": "stream",
     "text": [
      "\n",
      "\n",
      "\n",
      "  0%|                                                                                            | 0/6 [00:00<?, ?it/s]\u001b[A\u001b[A\u001b[A\n",
      "\n",
      "\n",
      " 17%|██████████████                                                                      | 1/6 [00:24<02:03, 24.68s/it]\u001b[A\u001b[A\u001b[A\n",
      "\n",
      "\n",
      " 33%|████████████████████████████                                                        | 2/6 [00:40<01:28, 22.08s/it]\u001b[A\u001b[A\u001b[A\n",
      "\n",
      "\n",
      " 50%|██████████████████████████████████████████                                          | 3/6 [00:57<01:01, 20.37s/it]\u001b[A\u001b[A\u001b[A\n",
      "\n",
      "\n",
      " 67%|████████████████████████████████████████████████████████                            | 4/6 [01:13<00:38, 19.06s/it]\u001b[A\u001b[A\u001b[A\n",
      "\n",
      "\n",
      " 83%|██████████████████████████████████████████████████████████████████████              | 5/6 [01:29<00:18, 18.28s/it]\u001b[A\u001b[A\u001b[A\n",
      "\n",
      "\n",
      "100%|████████████████████████████████████████████████████████████████████████████████████| 6/6 [01:46<00:00, 17.71s/it]\u001b[A\u001b[A\u001b[A\n"
     ]
    }
   ],
   "source": [
    "# 'tags', 'app_first_class', 'career', \n",
    "cols2 =  ['age', 'gender', 'device_price', 'creat_type_cd',  'slot_id', 'city_rank']\n",
    "for col in tqdm(cols2): \n",
    "    gen_user_tfidf_features(data[['adv_prim_id',col]],'adv_prim_id',col)"
   ]
  },
  {
   "cell_type": "code",
   "execution_count": 12,
   "metadata": {
    "scrolled": true
   },
   "outputs": [
    {
     "name": "stderr",
     "output_type": "stream",
     "text": [
      "\n",
      "\n",
      "\n",
      "  0%|                                                                                            | 0/6 [00:00<?, ?it/s]\u001b[A\u001b[A\u001b[A\n",
      "\n",
      "\n",
      " 17%|██████████████                                                                      | 1/6 [00:16<01:20, 16.13s/it]\u001b[A\u001b[A\u001b[A\n",
      "\n",
      "\n",
      " 33%|████████████████████████████                                                        | 2/6 [00:32<01:04, 16.08s/it]\u001b[A\u001b[A\u001b[A\n",
      "\n",
      "\n",
      " 50%|██████████████████████████████████████████                                          | 3/6 [00:47<00:47, 15.95s/it]\u001b[A\u001b[A\u001b[A\n",
      "\n",
      "\n",
      " 67%|████████████████████████████████████████████████████████                            | 4/6 [01:03<00:31, 15.87s/it]\u001b[A\u001b[A\u001b[A\n",
      "\n",
      "\n",
      " 83%|██████████████████████████████████████████████████████████████████████              | 5/6 [01:19<00:15, 15.89s/it]\u001b[A\u001b[A\u001b[A\n",
      "\n",
      "\n",
      "100%|████████████████████████████████████████████████████████████████████████████████████| 6/6 [01:35<00:00, 15.86s/it]\u001b[A\u001b[A\u001b[A\n"
     ]
    }
   ],
   "source": [
    "cols2 =  ['adv_prim_id', 'age', 'gender', 'career', 'slot_id', 'city_rank']\n",
    "for col in tqdm(cols2): \n",
    "    gen_user_tfidf_features(data[['spread_app_id',col]],'spread_app_id',col)"
   ]
  },
  {
   "cell_type": "code",
   "execution_count": 2,
   "metadata": {},
   "outputs": [],
   "source": [
    "# for i in tqdm(['adv_id','task_id','adv_prim_id','spread_app_id','dev_id','slot_id']):\n",
    "#     tmp = tfidf(data[['uid',i]],'uid',i,20,'uid_'+i)\n",
    "#     path_name_1 = '../data/tfidfres/uid_tfidf_by_{}.feather'.format(i)\n",
    "#     tmp.to_feather(path_name_1)"
   ]
  },
  {
   "cell_type": "markdown",
   "metadata": {},
   "source": [
    "# Target Encoder\n"
   ]
  },
  {
   "cell_type": "code",
   "execution_count": 4,
   "metadata": {},
   "outputs": [],
   "source": [
    "train = data[~data['label'].isna()]\n",
    "test = data[data['label'].isna()]"
   ]
  },
  {
   "cell_type": "code",
   "execution_count": 8,
   "metadata": {},
   "outputs": [],
   "source": [
    "#  对ID特征进行 Target Encoder\n",
    "def kfold_stats_feature(train,test,feats,k):\n",
    "    folds = StratifiedKFold(n_splits=k,shuffle=True,random_state=2020)\n",
    "    train['fold'] = None\n",
    "    for fold_,(trn_idx, val_idx) in enumerate(folds.split(train,train['label'])):\n",
    "        train.loc[val_idx,'fold'] = fold_\n",
    "        \n",
    "    kfold_features = []\n",
    "    for feat in tqdm(feats):\n",
    "        nums_columns = ['label']\n",
    "        for f in nums_columns:\n",
    "            colname = feat + '_' + f + '_kfold_mean'\n",
    "            kfold_features.append(colname)\n",
    "            train[colname] = None\n",
    "            for fold_,(trn_idx,val_idx) in enumerate(folds.split(train,train['label'])):\n",
    "                order_label = train.iloc[trn_idx].groupby([feat])[f].mean()\n",
    "                train.loc[train.fold == fold_, colname] = train.loc[train.fold == fold_, [feat]][feat].map(order_label)\n",
    "                \n",
    "                # fillna\n",
    "                global_mean = train[f].mean()\n",
    "                train.loc[train.fold == fold_, colname] = train.loc[train.fold == fold_, colname].fillna(global_mean)\n",
    "            train[colname] = train[colname].astype(float)\n",
    "            \n",
    "            \n",
    "        for f in nums_columns:\n",
    "            colname = feat + '_' + f + '_kfold_mean'\n",
    "            test[colname] = None\n",
    "            order_label = train.groupby([feat])[f].mean()\n",
    "            test[colname] = test[feat].map(order_label)\n",
    "            test[colname] = test[colname].astype(float)        \n",
    "    del train['fold']\n",
    "    return train,test"
   ]
  },
  {
   "cell_type": "code",
   "execution_count": 9,
   "metadata": {},
   "outputs": [
    {
     "name": "stderr",
     "output_type": "stream",
     "text": [
      "100%|██████████████████████████████████████████████████████████████████████████████████| 10/10 [02:03<00:00, 12.31s/it]\n"
     ]
    }
   ],
   "source": [
    "target_encode_cols = ['task_id', 'adv_id', 'creat_type_cd', 'adv_prim_id', \n",
    "                  \t  'dev_id', 'inter_type_cd', 'slot_id', 'spread_app_id', 'tags', 'app_first_class',]\n",
    "train,test =kfold_stats_feature(train,test,target_encode_cols,5)"
   ]
  },
  {
   "cell_type": "markdown",
   "metadata": {},
   "source": [
    "（1）组合点击率特征\n",
    "（2）slot_id的分布，\n",
    "（3）下一次点击网络变化\n",
    "df_feature['next_netmodel'] = df_feature.groupby(['deviceid'])[ 'netmodel'].shift(-1)\n",
    "（4） 对uid 进行分组，得到每个task_id对应的多个u_id，word2vec,得到每个广告的vec表示形式\n",
    "（5) 每个gender age  career  city city_rank device_name点击的广告行业的均值"
   ]
  },
  {
   "cell_type": "code",
   "execution_count": 3,
   "metadata": {},
   "outputs": [],
   "source": [
    "#  对ID特征进行 Target Encoder\n",
    "def mix_kfold_stats_feature(train,test,mix_1,mix_2,k):\n",
    "    folds = StratifiedKFold(n_splits=k,shuffle=True,random_state=2020)\n",
    "    train['fold'] = None\n",
    "    for fold_,(trn_idx, val_idx) in enumerate(folds.split(train,train['label'])):\n",
    "        train.loc[val_idx,'fold'] = fold_\n",
    "        \n",
    "    kfold_features = []\n",
    "    for feat_1 in tqdm(mix_1):\n",
    "        for feat_2 in mix_2:\n",
    "            nums_columns = ['label']\n",
    "            for f in nums_columns:\n",
    "                mix1_mix_2_col = feat_1 +'_'+ feat_2\n",
    "                colname = feat_1 +'_'+ feat_2 + '_' + f + '_kfold_mean'\n",
    "                kfold_features.append(colname)\n",
    "                train[colname] = None\n",
    "                train[mix1_mix_2_col] =  train[feat_1].astype(str) + '_'+ train[feat_2].astype(str)\n",
    "                test[mix1_mix_2_col] =  test[feat_1].astype(str) + '_'+ test[feat_2].astype(str)\n",
    "\n",
    "                for fold_,(trn_idx,val_idx) in enumerate(folds.split(train,train['label'])):\n",
    "                    order_label = train.iloc[trn_idx].groupby([mix1_mix_2_col])[f].mean()\n",
    "#                     print(order_label.reset_index())\n",
    "                    train.loc[train.fold == fold_, colname] =\\\n",
    "                            train.loc[train.fold == fold_, [mix1_mix_2_col]][mix1_mix_2_col].map(order_label)\n",
    "\n",
    "#                     # fillna\n",
    "                    global_mean = train[f].mean()\n",
    "                    train.loc[train.fold == fold_, colname] = train.loc[train.fold == fold_, colname].fillna(global_mean)\n",
    "                train[colname] = train[colname].astype(float)\n",
    "\n",
    "\n",
    "            for f in nums_columns:\n",
    "                colname = feat_1 +'_'+ feat_2 + '_' + f + '_kfold_mean'\n",
    "                test[colname] = None\n",
    "                order_label = train.groupby([mix1_mix_2_col])[f].mean()\n",
    "                test[colname] = test[mix1_mix_2_col].map(order_label)\n",
    "                test[colname] = test[colname].astype(float)\n",
    "            del train[mix1_mix_2_col]\n",
    "            del test[mix1_mix_2_col]\n",
    "    del train['fold']\n",
    "    return train,test"
   ]
  },
  {
   "cell_type": "code",
   "execution_count": 11,
   "metadata": {
    "scrolled": true
   },
   "outputs": [
    {
     "name": "stderr",
     "output_type": "stream",
     "text": [
      "100%|███████████████████████████████████████████████████████████████████████████████████| 8/8 [29:00<00:00, 217.59s/it]\n"
     ]
    }
   ],
   "source": [
    "# 组合交叉点击率\n",
    "# task_id(广告id) / ndu_name(广告行业) /adv_prim_id(广告主) 与gender age  career  city city_rank device_name\n",
    "mix_1_traget_encode_cols = ['task_id','adv_id','indu_name','adv_prim_id','spread_app_id','tags','app_first_class','app_second_class']\n",
    "mix_2_traget_encode_cols = ['age','gender','career','city','city_rank','device_name','device_size','residence','his_app_size']\n",
    "train,test = mix_kfold_stats_feature(train,test,mix_1_traget_encode_cols,mix_2_traget_encode_cols,5)\n"
   ]
  },
  {
   "cell_type": "markdown",
   "metadata": {},
   "source": [
    "## # 三阶交叉\n"
   ]
  },
  {
   "cell_type": "code",
   "execution_count": 19,
   "metadata": {},
   "outputs": [],
   "source": [
    "#  对ID特征进行 Target Encoder\n",
    "def mix_3_kfold_stats_feature(train,test,mix_1,mix_2,k):\n",
    "    folds = StratifiedKFold(n_splits=k,shuffle=True,random_state=2020)\n",
    "    train['fold'] = None\n",
    "    for fold_,(trn_idx, val_idx) in enumerate(folds.split(train,train['label'])):\n",
    "        train.loc[val_idx,'fold'] = fold_\n",
    "        \n",
    "    kfold_features = []\n",
    "    for feat_1 in tqdm(mix_1):\n",
    "        for i,feat_2 in enumerate(mix_2[:-1]):\n",
    "            \n",
    "            mix_3 = mix_2[i+1:]\n",
    "            for feat_3 in mix_3:\n",
    "                nums_columns = ['label']\n",
    "                for f in nums_columns:\n",
    "                    mix2_mix_3_col =  feat_1 +'_'+feat_2 +'_'+ feat_3\n",
    "                    colname = feat_1 +'_'+ feat_2 + feat_3 + '_' + f + '_kfold_mean'\n",
    "                    kfold_features.append(colname)\n",
    "                    train[colname] = None\n",
    "                    train[mix2_mix_3_col] = train[feat_1].astype(str) + '_'+ train[feat_2].astype(str) + '_'+ train[feat_3].astype(str)\n",
    "                    test[mix2_mix_3_col] =  test[feat_1].astype(str) + '_'+ test[feat_2].astype(str) + '_'+ test[feat_3].astype(str)\n",
    "\n",
    "                    for fold_,(trn_idx,val_idx) in enumerate(folds.split(train,train['label'])):\n",
    "                        order_label = train[[mix2_mix_3_col,f]].iloc[trn_idx].groupby([mix2_mix_3_col])[f].mean()\n",
    "    #                     print(order_label.reset_index())\n",
    "                        train.loc[train.fold == fold_, colname] =\\\n",
    "                                train.loc[train.fold == fold_, [mix2_mix_3_col]][mix2_mix_3_col].map(order_label)\n",
    "\n",
    "    #                     # fillna\n",
    "                        global_mean = train[f].mean()\n",
    "                        train.loc[train.fold == fold_, colname] = train.loc[train.fold == fold_, colname].fillna(global_mean)\n",
    "                    train[colname] = train[colname].astype(float)\n",
    "\n",
    "\n",
    "                for f in nums_columns:\n",
    "                    colname = feat_1 +'_'+ feat_2 + feat_3 + '_' + f + '_kfold_mean'\n",
    "                    test[colname] = None\n",
    "                    order_label = train[[mix2_mix_3_col,f]].groupby([mix2_mix_3_col])[f].mean()\n",
    "                    test[colname] = test[mix2_mix_3_col].map(order_label)\n",
    "                    test[colname] = test[colname].astype(float)\n",
    "                del train[mix2_mix_3_col]\n",
    "                del test[mix2_mix_3_col]\n",
    "    del train['fold']\n",
    "    return train,test"
   ]
  },
  {
   "cell_type": "code",
   "execution_count": 20,
   "metadata": {},
   "outputs": [
    {
     "name": "stderr",
     "output_type": "stream",
     "text": [
      "100%|███████████████████████████████████████████████████████████████████████████████████| 3/3 [21:36<00:00, 432.22s/it]\n"
     ]
    }
   ],
   "source": [
    "# 组合交叉点击率,用户画像交叉与广告属性的labelEncoding\n",
    "# task_id(广告id) / ndu_name(广告行业) /adv_prim_id(广告主) 与gender age  career  city city_rank device_name\n",
    "# ,'adv_id','indu_name','adv_prim_id','spread_app_id','tags','app_first_class','app_second_class'\n",
    "mix_1_traget_encode_cols = ['task_id','indu_name','adv_prim_id']\n",
    "mix_2_traget_encode_cols = ['age','gender','career','city_rank','residence']\n",
    "# 'city','device_name','device_size',,'his_app_size'\n",
    "train,test = mix_3_kfold_stats_feature(train,test,mix_1_traget_encode_cols,mix_2_traget_encode_cols,5)\n"
   ]
  },
  {
   "cell_type": "code",
   "execution_count": 32,
   "metadata": {},
   "outputs": [
    {
     "data": {
      "text/plain": [
       "Index(['task_id_agegender_label_kfold_mean',\n",
       "       'task_id_agecareer_label_kfold_mean',\n",
       "       'task_id_agecity_rank_label_kfold_mean',\n",
       "       'task_id_ageresidence_label_kfold_mean',\n",
       "       'task_id_gendercareer_label_kfold_mean',\n",
       "       'task_id_gendercity_rank_label_kfold_mean',\n",
       "       'task_id_genderresidence_label_kfold_mean',\n",
       "       'task_id_careercity_rank_label_kfold_mean',\n",
       "       'task_id_careerresidence_label_kfold_mean',\n",
       "       'task_id_city_rankresidence_label_kfold_mean',\n",
       "       'indu_name_agegender_label_kfold_mean',\n",
       "       'indu_name_agecareer_label_kfold_mean',\n",
       "       'indu_name_agecity_rank_label_kfold_mean',\n",
       "       'indu_name_ageresidence_label_kfold_mean',\n",
       "       'indu_name_gendercareer_label_kfold_mean',\n",
       "       'indu_name_gendercity_rank_label_kfold_mean',\n",
       "       'indu_name_genderresidence_label_kfold_mean',\n",
       "       'indu_name_careercity_rank_label_kfold_mean',\n",
       "       'indu_name_careerresidence_label_kfold_mean',\n",
       "       'indu_name_city_rankresidence_label_kfold_mean',\n",
       "       'adv_prim_id_agegender_label_kfold_mean',\n",
       "       'adv_prim_id_agecareer_label_kfold_mean',\n",
       "       'adv_prim_id_agecity_rank_label_kfold_mean',\n",
       "       'adv_prim_id_ageresidence_label_kfold_mean',\n",
       "       'adv_prim_id_gendercareer_label_kfold_mean',\n",
       "       'adv_prim_id_gendercity_rank_label_kfold_mean',\n",
       "       'adv_prim_id_genderresidence_label_kfold_mean',\n",
       "       'adv_prim_id_careercity_rank_label_kfold_mean',\n",
       "       'adv_prim_id_careerresidence_label_kfold_mean',\n",
       "       'adv_prim_id_city_rankresidence_label_kfold_mean'],\n",
       "      dtype='object')"
      ]
     },
     "execution_count": 32,
     "metadata": {},
     "output_type": "execute_result"
    }
   ],
   "source": [
    "train.shape"
   ]
  },
  {
   "cell_type": "code",
   "execution_count": 37,
   "metadata": {},
   "outputs": [],
   "source": [
    "\n",
    "data = pd.concat([train,test],sort=False).reset_index(drop=True)"
   ]
  },
  {
   "cell_type": "code",
   "execution_count": 38,
   "metadata": {
    "scrolled": true
   },
   "outputs": [
    {
     "name": "stderr",
     "output_type": "stream",
     "text": [
      "\r",
      "  0%|                                                                                           | 0/66 [00:00<?, ?it/s]"
     ]
    },
    {
     "name": "stdout",
     "output_type": "stream",
     "text": [
      "Memory usage of dataframe is 6559.70 MB\n"
     ]
    },
    {
     "name": "stderr",
     "output_type": "stream",
     "text": [
      "100%|██████████████████████████████████████████████████████████████████████████████████| 66/66 [00:56<00:00,  1.18it/s]"
     ]
    },
    {
     "name": "stdout",
     "output_type": "stream",
     "text": [
      "Memory usage after optimization is: 1317.00 MB\n",
      "Decreased by 79.9%\n"
     ]
    },
    {
     "name": "stderr",
     "output_type": "stream",
     "text": [
      "\n"
     ]
    }
   ],
   "source": [
    "data = data_compression(data)"
   ]
  },
  {
   "cell_type": "code",
   "execution_count": 40,
   "metadata": {},
   "outputs": [],
   "source": [
    "data.to_feather('../data/763/add_3_fold.feather')"
   ]
  },
  {
   "cell_type": "code",
   "execution_count": 41,
   "metadata": {},
   "outputs": [],
   "source": [
    "data = data[data.columns[36:]]"
   ]
  },
  {
   "cell_type": "code",
   "execution_count": 43,
   "metadata": {},
   "outputs": [],
   "source": [
    "data = data.fillna(0)"
   ]
  },
  {
   "cell_type": "code",
   "execution_count": 47,
   "metadata": {},
   "outputs": [
    {
     "data": {
      "text/html": [
       "<div>\n",
       "<style scoped>\n",
       "    .dataframe tbody tr th:only-of-type {\n",
       "        vertical-align: middle;\n",
       "    }\n",
       "\n",
       "    .dataframe tbody tr th {\n",
       "        vertical-align: top;\n",
       "    }\n",
       "\n",
       "    .dataframe thead th {\n",
       "        text-align: right;\n",
       "    }\n",
       "</style>\n",
       "<table border=\"1\" class=\"dataframe\">\n",
       "  <thead>\n",
       "    <tr style=\"text-align: right;\">\n",
       "      <th></th>\n",
       "    </tr>\n",
       "  </thead>\n",
       "  <tbody>\n",
       "    <tr>\n",
       "      <th>0</th>\n",
       "    </tr>\n",
       "    <tr>\n",
       "      <th>1</th>\n",
       "    </tr>\n",
       "    <tr>\n",
       "      <th>2</th>\n",
       "    </tr>\n",
       "    <tr>\n",
       "      <th>3</th>\n",
       "    </tr>\n",
       "    <tr>\n",
       "      <th>4</th>\n",
       "    </tr>\n",
       "  </tbody>\n",
       "</table>\n",
       "</div>"
      ],
      "text/plain": [
       "Empty DataFrame\n",
       "Columns: []\n",
       "Index: [0, 1, 2, 3, 4]"
      ]
     },
     "execution_count": 47,
     "metadata": {},
     "output_type": "execute_result"
    }
   ],
   "source": [
    "data.head()"
   ]
  },
  {
   "cell_type": "code",
   "execution_count": 46,
   "metadata": {},
   "outputs": [
    {
     "name": "stderr",
     "output_type": "stream",
     "text": [
      "100%|██████████████████████████████████████████████████████████████████████████████████| 29/29 [00:16<00:00,  1.80it/s]\n"
     ]
    }
   ],
   "source": [
    "import gc\n",
    "tmp_feat = pd.DataFrame()\n",
    "for feat in tqdm(data.columns):\n",
    "    tmp_feat[feat] = MinMaxScaler(feature_range=(0,1)).fit_transform(data[[feat]]).astype(np.float16)[:,0]\n",
    "    del data[feat]\n",
    "    gc.collect()"
   ]
  },
  {
   "cell_type": "code",
   "execution_count": 49,
   "metadata": {},
   "outputs": [],
   "source": [
    "tmp_feat.to_feather('../data/763/add_3_fold_scale.feather')"
   ]
  },
  {
   "cell_type": "markdown",
   "metadata": {},
   "source": [
    "#  Count Encoder"
   ]
  },
  {
   "cell_type": "code",
   "execution_count": 13,
   "metadata": {
    "scrolled": true
   },
   "outputs": [
    {
     "name": "stderr",
     "output_type": "stream",
     "text": [
      "100%|██████████████████████████████████████████████████████████████████████████████████| 33/33 [01:09<00:00,  2.11s/it]\n"
     ]
    }
   ],
   "source": [
    "# Count Encoder\n",
    "to_count = [['task_id'], ['adv_id'], ['creat_type_cd'], ['adv_prim_id'], \n",
    "            ['dev_id'], ['inter_type_cd'], ['slot_id'], ['spread_app_id'], ['tags'], ['app_first_class'],\n",
    "            ['app_second_class'], ['age'], ['city'], ['city_rank'], ['device_name'], ['device_size'],\n",
    "            ['career'], ['gender'], ['net_type'], ['residence'], ['his_app_size'], ['his_on_shelf_time'],\n",
    "            ['app_score'], ['emui_dev'], ['list_time'], ['device_price'], ['up_life_duration'], ['up_membership_grade'],\n",
    "            ['membership_life_duration'], ['consume_purchase'], ['communication_onlinerate'], ['communication_avgonline_30d'],\n",
    "            ['indu_name']]\n",
    "\n",
    "for i in tqdm(to_count):\n",
    "    data['{}_count'.format('_'.join(i))] = data[i].groupby(i)[i].transform('count')\n",
    "    "
   ]
  },
  {
   "cell_type": "code",
   "execution_count": 14,
   "metadata": {},
   "outputs": [],
   "source": [
    "# data.isna().sum()"
   ]
  },
  {
   "cell_type": "code",
   "execution_count": 15,
   "metadata": {},
   "outputs": [],
   "source": [
    "# task_id分组（交叉） Count Encoder\n",
    "to_count_1 = ['adv_id','creat_type_cd','adv_prim_id','dev_id','spread_app_id','tags','app_first_class','app_second_class','indu_name','inter_type_cd']\n",
    "for col in to_count_1:\n",
    "    data[\"{}_count\".format(\"_\".join(i))] = data[['task_id',col]].groupby(['task_id'])[col].transform('count')\n"
   ]
  },
  {
   "cell_type": "code",
   "execution_count": 16,
   "metadata": {},
   "outputs": [],
   "source": [
    "# u_id 分组（交叉） Count Encoder\n",
    "# 同一个广告推荐给用户的次数\n",
    "data['uid_adv_id_cnt'] = data[['uid','adv_id']].groupby(['uid','adv_id'])['adv_id'].transform('count')"
   ]
  },
  {
   "cell_type": "code",
   "execution_count": 17,
   "metadata": {},
   "outputs": [],
   "source": [
    "# 每个广告在不同地区，age的推荐次数\n",
    "mix_1_count_cols = ['task_id','adv_id','indu_name','adv_prim_id','spread_app_id','tags','app_first_class','app_second_class']\n",
    "mix_2_count_cols = ['age','gender','career','city','city_rank','device_name','device_size','residence','his_app_size']\n",
    "for i in mix_1_count_cols:\n",
    "    for j in mix_2_count_cols:\n",
    "         data[i+'_'+j+'_'+'cnt'] = data[[i,j]].groupby([i,j])[j].transform('count')"
   ]
  },
  {
   "cell_type": "markdown",
   "metadata": {},
   "source": [
    "# Nunique Encoder"
   ]
  },
  {
   "cell_type": "code",
   "execution_count": 18,
   "metadata": {},
   "outputs": [
    {
     "name": "stderr",
     "output_type": "stream",
     "text": [
      "100%|██████████████████████████████████████████████████████████████████████████████████| 12/12 [09:46<00:00, 48.91s/it]\n"
     ]
    }
   ],
   "source": [
    "# Count Encoder\n",
    "to_group = [\n",
    "    ['uid','task_id'], ['uid','adv_id'], ['uid','adv_prim_id'], ['uid','dev_id'], ['uid','slot_id'],\n",
    "    ['uid','spread_app_id'], ['uid','app_first_class'], ['uid','city'], ['uid','device_name'], ['uid', 'net_type'],\n",
    "    ['uid','communication_onlinerate'], ['uid','list_time']\n",
    "]\n",
    "\n",
    "feature = pd.DataFrame()\n",
    "for i in tqdm(to_group):\n",
    "    data[\"STAT_{}_nunique_1\".format(\"_\".join(i))] = data[i].groupby(i[1])[i[0]].transform('nunique')\n",
    "    data[\"STAT_{}_nunique_2\".format(\"_\".join(i))] = data[i].groupby(i[0])[i[1]].transform('nunique')\n",
    "    data[\"COUNT-2order_{}\".format(\"_\".join(i))] = data[i].groupby(i)[i[0]].transform(\"count\")"
   ]
  },
  {
   "cell_type": "code",
   "execution_count": 23,
   "metadata": {},
   "outputs": [
    {
     "data": {
      "text/plain": [
       "Index(['label', 'uid', 'task_id', 'adv_id', 'creat_type_cd', 'adv_prim_id',\n",
       "       'dev_id', 'inter_type_cd', 'slot_id', 'spread_app_id',\n",
       "       ...\n",
       "       'COUNT-2order_uid_device_name', 'STAT_uid_net_type_nunique_1',\n",
       "       'STAT_uid_net_type_nunique_2', 'COUNT-2order_uid_net_type',\n",
       "       'STAT_uid_communication_onlinerate_nunique_1',\n",
       "       'STAT_uid_communication_onlinerate_nunique_2',\n",
       "       'COUNT-2order_uid_communication_onlinerate',\n",
       "       'STAT_uid_list_time_nunique_1', 'STAT_uid_list_time_nunique_2',\n",
       "       'COUNT-2order_uid_list_time'],\n",
       "      dtype='object', length=260)"
      ]
     },
     "execution_count": 23,
     "metadata": {},
     "output_type": "execute_result"
    }
   ],
   "source": [
    "data.columns"
   ]
  },
  {
   "cell_type": "code",
   "execution_count": null,
   "metadata": {},
   "outputs": [],
   "source": [
    "\n",
    "\n"
   ]
  },
  {
   "cell_type": "code",
   "execution_count": null,
   "metadata": {},
   "outputs": [],
   "source": []
  },
  {
   "cell_type": "code",
   "execution_count": 23,
   "metadata": {},
   "outputs": [],
   "source": [
    "# 内存压缩\n",
    "def data_compression(df):\n",
    "    \"\"\" iterate through all the columns of a dataframe and modify the data type\n",
    "        to reduce memory usage.        \n",
    "    \"\"\"\n",
    "    start_mem = df.memory_usage().sum() / 1024**2\n",
    "    print('Memory usage of dataframe is {:.2f} MB'.format(start_mem))\n",
    "    \n",
    "    for col in tqdm(df.columns):\n",
    "        col_type = df[col].dtype\n",
    "        \n",
    "        if col_type != object:\n",
    "            c_min = df[col].min()\n",
    "            c_max = df[col].max()\n",
    "            if str(col_type)[:3] == 'int':\n",
    "                if c_min > np.iinfo(np.int8).min and c_max < np.iinfo(np.int8).max:\n",
    "                    df[col] = df[col].astype(np.int8)\n",
    "                elif c_min > np.iinfo(np.int16).min and c_max < np.iinfo(np.int16).max:\n",
    "                    df[col] = df[col].astype(np.int16)\n",
    "                elif c_min > np.iinfo(np.int32).min and c_max < np.iinfo(np.int32).max:\n",
    "                    df[col] = df[col].astype(np.int32)\n",
    "                elif c_min > np.iinfo(np.int64).min and c_max < np.iinfo(np.int64).max:\n",
    "                    df[col] = df[col].astype(np.int64)  \n",
    "            else:\n",
    "                if c_min > np.finfo(np.float16).min and c_max < np.finfo(np.float16).max:\n",
    "                    df[col] = df[col].astype(np.float16)\n",
    "                elif c_min > np.finfo(np.float32).min and c_max < np.finfo(np.float32).max:\n",
    "                    df[col] = df[col].astype(np.float32)\n",
    "                else:\n",
    "                    df[col] = df[col].astype(np.float64)\n",
    "        else:\n",
    "            df[col] = df[col].astype('category')\n",
    "\n",
    "    end_mem = df.memory_usage().sum() / 1024**2\n",
    "    print('Memory usage after optimization is: {:.2f} MB'.format(end_mem))\n",
    "    print('Decreased by {:.1f}%'.format(100 * (start_mem - end_mem) / start_mem))\n",
    "    \n",
    "    return df"
   ]
  },
  {
   "cell_type": "code",
   "execution_count": 6,
   "metadata": {},
   "outputs": [
    {
     "data": {
      "text/plain": [
       "74"
      ]
     },
     "execution_count": 6,
     "metadata": {},
     "output_type": "execute_result"
    }
   ],
   "source": []
  },
  {
   "cell_type": "markdown",
   "metadata": {},
   "source": [
    "# 统计特征"
   ]
  },
  {
   "cell_type": "code",
   "execution_count": 7,
   "metadata": {
    "scrolled": true
   },
   "outputs": [
    {
     "name": "stderr",
     "output_type": "stream",
     "text": [
      "100%|███████████████████████████████████████████████████████████████████████████████████| 8/8 [58:58<00:00, 442.29s/it]\n"
     ]
    }
   ],
   "source": [
    "to_group = [['task_id'], ['dev_id'], ['adv_prim_id'], ['adv_id'], ['inter_type_cd'], ['slot_id'], ['tags'], ['app_first_class']]\n",
    "to_inter =  [ 'age', 'city_rank', 'career', 'his_app_size', 'his_on_shelf_time', 'app_score', 'emui_dev', 'device_price', 'up_life_duration', 'communication_avgonline_30d']\n",
    "# to_calc = ['std','mean','min','max',lambda x:np.std(np.fft.fft(x))]\n",
    "to_calc = ['std','mean','min','max']\n",
    "\n",
    "for i in tqdm(to_group):\n",
    "    for j in to_inter:\n",
    "        for k in to_calc:\n",
    "            data['STAT_{}_{}_{}'.format('_'.join(i),j,k)] = data[i + [j]].groupby(i)[j].transform(k)\n",
    "\n"
   ]
  },
  {
   "cell_type": "code",
   "execution_count": 6,
   "metadata": {},
   "outputs": [
    {
     "name": "stdout",
     "output_type": "stream",
     "text": [
      "Memory usage of dataframe is 13993.34 MB\n",
      "Memory usage after optimization is: 7044.81 MB\n",
      "Decreased by 49.7%\n"
     ]
    }
   ],
   "source": [
    "# 压缩\n",
    "data = data_compression(data)"
   ]
  },
  {
   "cell_type": "code",
   "execution_count": 7,
   "metadata": {},
   "outputs": [
    {
     "data": {
      "text/plain": [
       "27"
      ]
     },
     "execution_count": 7,
     "metadata": {},
     "output_type": "execute_result"
    }
   ],
   "source": [
    "import gc\n",
    "gc.collect()"
   ]
  },
  {
   "cell_type": "code",
   "execution_count": 24,
   "metadata": {},
   "outputs": [
    {
     "name": "stdout",
     "output_type": "stream",
     "text": [
      "<class 'pandas.core.frame.DataFrame'>\n",
      "RangeIndex: 6302870 entries, 0 to 6302869\n",
      "Columns: 580 entries, label to STAT_app_first_class_communication_avgonline_30d_max\n",
      "dtypes: category(1), float16(241), int16(20), int32(110), int8(208)\n",
      "memory usage: 6.9 GB\n"
     ]
    }
   ],
   "source": [
    "data.info()"
   ]
  },
  {
   "cell_type": "code",
   "execution_count": 25,
   "metadata": {},
   "outputs": [
    {
     "name": "stderr",
     "output_type": "stream",
     "text": [
      "\n",
      "  0%|                                                                                          | 0/577 [00:00<?, ?it/s]\u001b[A\n",
      "  0%|▏                                                                                 | 1/577 [00:00<01:06,  8.68it/s]\u001b[A\n",
      "  0%|▎                                                                                 | 2/577 [00:00<01:06,  8.69it/s]\u001b[A\n",
      "  1%|▌                                                                                 | 4/577 [00:00<00:59,  9.56it/s]\u001b[A\n",
      "  1%|▊                                                                                 | 6/577 [00:00<00:57,  9.97it/s]\u001b[A\n",
      "  1%|█▏                                                                                | 8/577 [00:00<00:53, 10.60it/s]\u001b[A\n",
      "  2%|█▍                                                                               | 10/577 [00:00<00:50, 11.14it/s]\u001b[A\n",
      "  2%|█▋                                                                               | 12/577 [00:01<00:49, 11.44it/s]\u001b[A\n",
      "  2%|█▉                                                                               | 14/577 [00:01<00:48, 11.69it/s]\u001b[A\n",
      "  3%|██▏                                                                              | 16/577 [00:01<00:47, 11.91it/s]\u001b[A\n",
      "  3%|██▌                                                                              | 18/577 [00:01<00:46, 12.00it/s]\u001b[A\n",
      "  3%|██▊                                                                              | 20/577 [00:01<00:45, 12.11it/s]\u001b[A\n",
      "  4%|███                                                                              | 22/577 [00:01<00:45, 12.15it/s]\u001b[A\n",
      "  4%|███▎                                                                             | 24/577 [00:02<00:44, 12.31it/s]\u001b[A\n",
      "  5%|███▋                                                                             | 26/577 [00:02<00:44, 12.35it/s]\u001b[A\n",
      "  5%|███▉                                                                             | 28/577 [00:02<00:44, 12.45it/s]\u001b[A\n",
      "  5%|████▏                                                                            | 30/577 [00:02<00:43, 12.48it/s]\u001b[A\n",
      "  6%|████▍                                                                            | 32/577 [00:02<00:41, 13.20it/s]\u001b[A\n",
      "  6%|████▊                                                                            | 34/577 [00:02<00:50, 10.81it/s]\u001b[A\n",
      "  6%|█████                                                                            | 36/577 [00:03<00:57,  9.41it/s]\u001b[A\n",
      "  7%|█████▎                                                                           | 38/577 [00:03<00:57,  9.41it/s]\u001b[A\n",
      "  7%|█████▌                                                                           | 40/577 [00:03<00:55,  9.66it/s]\u001b[A\n",
      "  7%|█████▉                                                                           | 42/577 [00:03<00:54,  9.74it/s]\u001b[A\n",
      "  8%|██████▏                                                                          | 44/577 [00:04<01:04,  8.25it/s]\u001b[A\n",
      "  8%|██████▎                                                                          | 45/577 [00:04<01:24,  6.30it/s]\u001b[A\n",
      "  8%|██████▍                                                                          | 46/577 [00:04<01:40,  5.28it/s]\u001b[A\n",
      "  8%|██████▌                                                                          | 47/577 [00:04<01:46,  4.96it/s]\u001b[A\n",
      "  8%|██████▋                                                                          | 48/577 [00:05<01:51,  4.76it/s]\u001b[A\n",
      "  8%|██████▉                                                                          | 49/577 [00:05<01:58,  4.46it/s]\u001b[A\n",
      "  9%|███████                                                                          | 50/577 [00:05<02:01,  4.33it/s]\u001b[A\n",
      "  9%|███████▏                                                                         | 51/577 [00:05<02:05,  4.20it/s]\u001b[A\n",
      "  9%|███████▎                                                                         | 52/577 [00:06<01:57,  4.46it/s]\u001b[A\n",
      "  9%|███████▍                                                                         | 53/577 [00:06<02:00,  4.35it/s]\u001b[A\n",
      "  9%|███████▌                                                                         | 54/577 [00:06<01:57,  4.46it/s]\u001b[A\n",
      " 10%|███████▋                                                                         | 55/577 [00:06<01:58,  4.41it/s]\u001b[A\n",
      " 10%|███████▊                                                                         | 56/577 [00:06<01:59,  4.37it/s]\u001b[A\n",
      " 10%|████████                                                                         | 57/577 [00:07<01:58,  4.39it/s]\u001b[A\n",
      " 10%|████████▏                                                                        | 58/577 [00:07<02:03,  4.19it/s]\u001b[A\n",
      " 10%|████████▎                                                                        | 59/577 [00:07<02:02,  4.21it/s]\u001b[A\n",
      " 10%|████████▍                                                                        | 60/577 [00:07<02:06,  4.09it/s]\u001b[A\n",
      " 11%|████████▌                                                                        | 61/577 [00:08<01:56,  4.43it/s]\u001b[A\n",
      " 11%|████████▋                                                                        | 62/577 [00:08<01:39,  5.17it/s]\u001b[A\n",
      " 11%|████████▊                                                                        | 63/577 [00:08<01:26,  5.91it/s]\u001b[A\n",
      " 11%|████████▉                                                                        | 64/577 [00:08<01:19,  6.46it/s]\u001b[A\n",
      " 11%|█████████                                                                        | 65/577 [00:08<01:26,  5.90it/s]\u001b[A\n",
      " 11%|█████████▎                                                                       | 66/577 [00:08<01:16,  6.65it/s]\u001b[A\n",
      " 12%|█████████▍                                                                       | 67/577 [00:08<01:22,  6.18it/s]\u001b[A\n",
      " 12%|█████████▌                                                                       | 68/577 [00:09<01:15,  6.70it/s]\u001b[A\n",
      " 12%|█████████▋                                                                       | 69/577 [00:09<01:15,  6.74it/s]\u001b[A\n",
      " 12%|█████████▊                                                                       | 70/577 [00:09<01:08,  7.37it/s]\u001b[A\n",
      " 12%|█████████▉                                                                       | 71/577 [00:09<01:10,  7.17it/s]\u001b[A\n",
      " 12%|██████████                                                                       | 72/577 [00:09<01:06,  7.59it/s]\u001b[A\n",
      " 13%|██████████▏                                                                      | 73/577 [00:09<01:06,  7.52it/s]\u001b[A\n",
      " 13%|██████████▍                                                                      | 74/577 [00:09<01:24,  5.96it/s]\u001b[A\n",
      " 13%|██████████▌                                                                      | 75/577 [00:10<01:16,  6.54it/s]\u001b[A\n",
      " 13%|██████████▋                                                                      | 76/577 [00:10<01:27,  5.73it/s]\u001b[A\n",
      " 13%|██████████▊                                                                      | 77/577 [00:10<01:24,  5.91it/s]\u001b[A\n",
      " 14%|██████████▉                                                                      | 78/577 [00:10<01:29,  5.60it/s]\u001b[A\n",
      " 14%|███████████                                                                      | 79/577 [00:10<01:18,  6.36it/s]\u001b[A\n",
      " 14%|███████████▏                                                                     | 80/577 [00:10<01:13,  6.77it/s]\u001b[A\n",
      " 14%|███████████▎                                                                     | 81/577 [00:11<01:07,  7.33it/s]\u001b[A\n",
      " 14%|███████████▌                                                                     | 82/577 [00:11<01:05,  7.54it/s]\u001b[A\n",
      " 14%|███████████▋                                                                     | 83/577 [00:11<01:21,  6.04it/s]\u001b[A\n",
      " 15%|███████████▊                                                                     | 84/577 [00:11<01:13,  6.67it/s]\u001b[A\n",
      " 15%|███████████▉                                                                     | 85/577 [00:11<01:21,  6.01it/s]\u001b[A\n",
      " 15%|████████████                                                                     | 86/577 [00:11<01:17,  6.35it/s]\u001b[A\n",
      " 15%|████████████▏                                                                    | 87/577 [00:12<01:22,  5.95it/s]\u001b[A\n",
      " 15%|████████████▎                                                                    | 88/577 [00:12<01:13,  6.66it/s]\u001b[A\n",
      " 15%|████████████▍                                                                    | 89/577 [00:12<01:07,  7.26it/s]\u001b[A\n",
      " 16%|████████████▋                                                                    | 90/577 [00:12<01:02,  7.84it/s]\u001b[A\n",
      " 16%|████████████▊                                                                    | 91/577 [00:12<00:59,  8.20it/s]\u001b[A\n",
      " 16%|████████████▉                                                                    | 92/577 [00:12<01:09,  7.00it/s]\u001b[A\n",
      " 16%|█████████████                                                                    | 93/577 [00:12<01:03,  7.58it/s]\u001b[A\n",
      " 16%|█████████████▏                                                                   | 94/577 [00:12<01:07,  7.18it/s]\u001b[A\n",
      " 16%|█████████████▎                                                                   | 95/577 [00:13<01:03,  7.58it/s]\u001b[A\n",
      " 17%|█████████████▍                                                                   | 96/577 [00:13<01:03,  7.57it/s]\u001b[A\n",
      " 17%|█████████████▌                                                                   | 97/577 [00:13<00:59,  8.02it/s]\u001b[A\n",
      " 17%|█████████████▉                                                                   | 99/577 [00:13<00:55,  8.61it/s]\u001b[A\n",
      " 18%|██████████████                                                                  | 101/577 [00:13<00:54,  8.70it/s]\u001b[A\n",
      " 18%|██████████████▎                                                                 | 103/577 [00:13<00:52,  8.97it/s]\u001b[A\n",
      " 18%|██████████████▌                                                                 | 105/577 [00:14<00:51,  9.19it/s]\u001b[A\n",
      " 18%|██████████████▋                                                                 | 106/577 [00:14<00:50,  9.37it/s]\u001b[A\n",
      " 19%|██████████████▊                                                                 | 107/577 [00:14<00:50,  9.32it/s]\u001b[A\n",
      " 19%|██████████████▉                                                                 | 108/577 [00:14<00:50,  9.33it/s]\u001b[A\n",
      " 19%|███████████████                                                                 | 109/577 [00:14<00:50,  9.20it/s]\u001b[A\n",
      " 19%|███████████████▎                                                                | 110/577 [00:14<01:01,  7.57it/s]\u001b[A\n",
      " 19%|███████████████▍                                                                | 111/577 [00:14<00:58,  7.98it/s]\u001b[A\n",
      " 19%|███████████████▌                                                                | 112/577 [00:14<01:02,  7.43it/s]\u001b[A\n",
      " 20%|███████████████▋                                                                | 113/577 [00:15<01:01,  7.60it/s]\u001b[A\n",
      " 20%|███████████████▊                                                                | 114/577 [00:15<01:01,  7.56it/s]\u001b[A\n",
      " 20%|███████████████▉                                                                | 115/577 [00:15<00:58,  7.88it/s]\u001b[A\n",
      " 20%|████████████████                                                                | 116/577 [00:15<00:56,  8.11it/s]\u001b[A\n",
      " 20%|████████████████▏                                                               | 117/577 [00:15<00:54,  8.43it/s]\u001b[A\n",
      " 21%|████████████████▍                                                               | 119/577 [00:15<00:49,  9.30it/s]\u001b[A\n",
      " 21%|████████████████▊                                                               | 121/577 [00:15<00:45, 10.06it/s]\u001b[A\n",
      " 21%|█████████████████                                                               | 123/577 [00:16<00:43, 10.40it/s]\u001b[A\n",
      " 22%|█████████████████▎                                                              | 125/577 [00:16<00:43, 10.46it/s]\u001b[A\n",
      " 22%|█████████████████▌                                                              | 127/577 [00:16<00:41, 10.73it/s]\u001b[A\n",
      " 22%|█████████████████▉                                                              | 129/577 [00:16<00:41, 10.81it/s]\u001b[A\n",
      " 23%|██████████████████▏                                                             | 131/577 [00:16<00:40, 11.00it/s]\u001b[A\n",
      " 23%|██████████████████▍                                                             | 133/577 [00:16<00:39, 11.34it/s]\u001b[A\n",
      " 23%|██████████████████▋                                                             | 135/577 [00:17<00:38, 11.53it/s]\u001b[A\n",
      " 24%|██████████████████▉                                                             | 137/577 [00:17<00:37, 11.77it/s]\u001b[A\n",
      " 24%|███████████████████▎                                                            | 139/577 [00:17<00:36, 11.89it/s]\u001b[A\n",
      " 24%|███████████████████▌                                                            | 141/577 [00:17<00:36, 12.03it/s]\u001b[A\n",
      " 25%|███████████████████▊                                                            | 143/577 [00:17<00:35, 12.18it/s]\u001b[A\n",
      " 25%|████████████████████                                                            | 145/577 [00:17<00:35, 12.30it/s]\u001b[A\n",
      " 25%|████████████████████▍                                                           | 147/577 [00:18<00:34, 12.37it/s]\u001b[A\n",
      " 26%|████████████████████▋                                                           | 149/577 [00:18<00:35, 11.93it/s]\u001b[A\n",
      " 26%|████████████████████▉                                                           | 151/577 [00:18<00:40, 10.46it/s]\u001b[A\n",
      " 27%|█████████████████████▏                                                          | 153/577 [00:18<00:43,  9.70it/s]\u001b[A\n",
      " 27%|█████████████████████▍                                                          | 155/577 [00:19<00:46,  9.03it/s]\u001b[A\n",
      " 27%|█████████████████████▋                                                          | 156/577 [00:19<00:48,  8.61it/s]\u001b[A\n",
      " 27%|█████████████████████▊                                                          | 157/577 [00:19<00:51,  8.16it/s]\u001b[A\n",
      " 27%|█████████████████████▉                                                          | 158/577 [00:19<00:50,  8.28it/s]\u001b[A\n",
      " 28%|██████████████████████                                                          | 159/577 [00:19<00:53,  7.85it/s]\u001b[A\n",
      " 28%|██████████████████████▏                                                         | 160/577 [00:19<00:51,  8.07it/s]\u001b[A\n",
      " 28%|██████████████████████▎                                                         | 161/577 [00:19<00:52,  7.96it/s]\u001b[A\n",
      " 28%|██████████████████████▍                                                         | 162/577 [00:19<00:50,  8.28it/s]\u001b[A\n",
      " 28%|██████████████████████▌                                                         | 163/577 [00:20<00:50,  8.22it/s]\u001b[A\n",
      " 28%|██████████████████████▋                                                         | 164/577 [00:20<00:52,  7.89it/s]\u001b[A\n",
      " 29%|██████████████████████▉                                                         | 165/577 [00:20<00:52,  7.80it/s]\u001b[A\n",
      " 29%|███████████████████████                                                         | 166/577 [00:20<00:54,  7.56it/s]\u001b[A\n",
      " 29%|███████████████████████▏                                                        | 167/577 [00:20<00:51,  8.03it/s]\u001b[A\n",
      " 29%|███████████████████████▍                                                        | 169/577 [00:20<00:45,  8.91it/s]\u001b[A\n",
      " 30%|███████████████████████▋                                                        | 171/577 [00:20<00:44,  9.11it/s]\u001b[A\n",
      " 30%|███████████████████████▉                                                        | 173/577 [00:21<00:42,  9.54it/s]\u001b[A\n",
      " 30%|████████████████████████▎                                                       | 175/577 [00:21<00:40,  9.97it/s]\u001b[A\n",
      " 31%|████████████████████████▌                                                       | 177/577 [00:21<00:39, 10.20it/s]\u001b[A\n",
      " 31%|████████████████████████▊                                                       | 179/577 [00:21<00:38, 10.46it/s]\u001b[A\n",
      " 31%|█████████████████████████                                                       | 181/577 [00:21<00:40,  9.84it/s]\u001b[A\n",
      " 32%|█████████████████████████▎                                                      | 183/577 [00:22<00:42,  9.20it/s]\u001b[A\n"
     ]
    },
    {
     "name": "stderr",
     "output_type": "stream",
     "text": [
      " 32%|█████████████████████████▌                                                      | 184/577 [00:22<00:44,  8.79it/s]\u001b[A\n",
      " 32%|█████████████████████████▊                                                      | 186/577 [00:22<00:41,  9.34it/s]\u001b[A\n",
      " 33%|██████████████████████████                                                      | 188/577 [00:22<00:41,  9.37it/s]\u001b[A\n",
      " 33%|██████████████████████████▏                                                     | 189/577 [00:22<00:46,  8.42it/s]\u001b[A\n",
      " 33%|██████████████████████████▍                                                     | 191/577 [00:23<00:44,  8.74it/s]\u001b[A\n",
      " 33%|██████████████████████████▊                                                     | 193/577 [00:23<00:42,  9.10it/s]\u001b[A\n",
      " 34%|███████████████████████████                                                     | 195/577 [00:23<00:38,  9.83it/s]\u001b[A\n",
      " 34%|███████████████████████████▎                                                    | 197/577 [00:23<00:36, 10.36it/s]\u001b[A\n",
      " 34%|███████████████████████████▌                                                    | 199/577 [00:23<00:37, 10.14it/s]\u001b[A\n",
      " 35%|███████████████████████████▊                                                    | 201/577 [00:23<00:36, 10.37it/s]\u001b[A\n",
      " 35%|████████████████████████████▏                                                   | 203/577 [00:24<00:34, 10.74it/s]\u001b[A\n",
      " 36%|████████████████████████████▍                                                   | 205/577 [00:24<00:33, 11.22it/s]\u001b[A\n",
      " 36%|████████████████████████████▋                                                   | 207/577 [00:24<00:32, 11.31it/s]\u001b[A\n",
      " 36%|████████████████████████████▉                                                   | 209/577 [00:24<00:32, 11.43it/s]\u001b[A\n",
      " 37%|█████████████████████████████▎                                                  | 211/577 [00:24<00:31, 11.66it/s]\u001b[A\n",
      " 37%|█████████████████████████████▌                                                  | 213/577 [00:24<00:30, 11.85it/s]\u001b[A\n",
      " 37%|█████████████████████████████▊                                                  | 215/577 [00:25<00:30, 11.89it/s]\u001b[A\n",
      " 38%|██████████████████████████████                                                  | 217/577 [00:25<00:32, 10.97it/s]\u001b[A\n",
      " 38%|██████████████████████████████▎                                                 | 219/577 [00:25<00:32, 10.97it/s]\u001b[A\n",
      " 38%|██████████████████████████████▋                                                 | 221/577 [00:25<00:31, 11.20it/s]\u001b[A\n",
      " 39%|██████████████████████████████▉                                                 | 223/577 [00:25<00:31, 11.08it/s]\u001b[A\n",
      " 39%|███████████████████████████████▏                                                | 225/577 [00:26<00:31, 11.01it/s]\u001b[A\n",
      " 39%|███████████████████████████████▍                                                | 227/577 [00:26<00:30, 11.39it/s]\u001b[A\n",
      " 40%|███████████████████████████████▊                                                | 229/577 [00:26<00:29, 11.63it/s]\u001b[A\n",
      " 40%|████████████████████████████████                                                | 231/577 [00:26<00:29, 11.80it/s]\u001b[A\n",
      " 40%|████████████████████████████████▎                                               | 233/577 [00:26<00:28, 11.99it/s]\u001b[A\n",
      " 41%|████████████████████████████████▌                                               | 235/577 [00:26<00:28, 12.08it/s]\u001b[A\n",
      " 41%|████████████████████████████████▊                                               | 237/577 [00:27<00:28, 12.10it/s]\u001b[A\n",
      " 41%|█████████████████████████████████▏                                              | 239/577 [00:27<00:27, 12.23it/s]\u001b[A\n",
      " 42%|█████████████████████████████████▍                                              | 241/577 [00:27<00:27, 12.03it/s]\u001b[A\n",
      " 42%|█████████████████████████████████▋                                              | 243/577 [00:27<00:28, 11.92it/s]\u001b[A\n",
      " 42%|█████████████████████████████████▉                                              | 245/577 [00:27<00:27, 12.03it/s]\u001b[A\n",
      " 43%|██████████████████████████████████▏                                             | 247/577 [00:27<00:27, 12.15it/s]\u001b[A\n",
      " 43%|██████████████████████████████████▌                                             | 249/577 [00:28<00:27, 12.11it/s]\u001b[A\n",
      " 44%|██████████████████████████████████▊                                             | 251/577 [00:28<00:26, 12.19it/s]\u001b[A\n",
      " 44%|███████████████████████████████████                                             | 253/577 [00:28<00:26, 12.25it/s]\u001b[A\n",
      " 44%|███████████████████████████████████▎                                            | 255/577 [00:28<00:26, 12.06it/s]\u001b[A\n",
      " 45%|███████████████████████████████████▋                                            | 257/577 [00:28<00:26, 12.03it/s]\u001b[A\n",
      " 45%|███████████████████████████████████▉                                            | 259/577 [00:28<00:29, 10.81it/s]\u001b[A\n",
      " 45%|████████████████████████████████████▏                                           | 261/577 [00:29<00:27, 11.30it/s]\u001b[A\n",
      " 46%|████████████████████████████████████▍                                           | 263/577 [00:29<00:29, 10.52it/s]\u001b[A\n",
      " 46%|████████████████████████████████████▋                                           | 265/577 [00:29<00:28, 11.01it/s]\u001b[A\n",
      " 46%|█████████████████████████████████████                                           | 267/577 [00:29<00:30, 10.33it/s]\u001b[A\n",
      " 47%|█████████████████████████████████████▎                                          | 269/577 [00:29<00:28, 10.96it/s]\u001b[A\n",
      " 47%|█████████████████████████████████████▌                                          | 271/577 [00:30<00:28, 10.63it/s]\u001b[A\n",
      " 47%|█████████████████████████████████████▊                                          | 273/577 [00:30<00:27, 11.01it/s]\u001b[A\n",
      " 48%|██████████████████████████████████████▏                                         | 275/577 [00:30<00:27, 10.87it/s]\u001b[A\n",
      " 48%|██████████████████████████████████████▍                                         | 277/577 [00:30<00:26, 11.30it/s]\u001b[A\n",
      " 48%|██████████████████████████████████████▋                                         | 279/577 [00:30<00:27, 11.03it/s]\u001b[A\n",
      " 49%|██████████████████████████████████████▉                                         | 281/577 [00:30<00:25, 11.50it/s]\u001b[A\n",
      " 49%|███████████████████████████████████████▏                                        | 283/577 [00:31<00:27, 10.75it/s]\u001b[A\n",
      " 49%|███████████████████████████████████████▌                                        | 285/577 [00:31<00:25, 11.29it/s]\u001b[A\n",
      " 50%|███████████████████████████████████████▊                                        | 287/577 [00:31<00:27, 10.40it/s]\u001b[A\n",
      " 50%|████████████████████████████████████████                                        | 289/577 [00:31<00:26, 11.00it/s]\u001b[A\n",
      " 50%|████████████████████████████████████████▎                                       | 291/577 [00:31<00:27, 10.28it/s]\u001b[A\n",
      " 51%|████████████████████████████████████████▌                                       | 293/577 [00:32<00:26, 10.90it/s]\u001b[A\n",
      " 51%|████████████████████████████████████████▉                                       | 295/577 [00:32<00:27, 10.36it/s]\u001b[A\n",
      " 51%|█████████████████████████████████████████▏                                      | 297/577 [00:32<00:25, 11.00it/s]\u001b[A\n",
      " 52%|█████████████████████████████████████████▍                                      | 299/577 [00:32<00:25, 10.88it/s]\u001b[A\n",
      " 52%|█████████████████████████████████████████▋                                      | 301/577 [00:32<00:24, 11.39it/s]\u001b[A\n",
      " 53%|██████████████████████████████████████████                                      | 303/577 [00:32<00:24, 11.14it/s]\u001b[A\n",
      " 53%|██████████████████████████████████████████▎                                     | 305/577 [00:33<00:23, 11.61it/s]\u001b[A\n",
      " 53%|██████████████████████████████████████████▌                                     | 307/577 [00:33<00:23, 11.29it/s]\u001b[A\n",
      " 54%|██████████████████████████████████████████▊                                     | 309/577 [00:33<00:22, 11.72it/s]\u001b[A\n",
      " 54%|███████████████████████████████████████████                                     | 311/577 [00:33<00:25, 10.47it/s]\u001b[A\n",
      " 54%|███████████████████████████████████████████▍                                    | 313/577 [00:33<00:24, 10.99it/s]\u001b[A\n",
      " 55%|███████████████████████████████████████████▋                                    | 315/577 [00:34<00:24, 10.89it/s]\u001b[A\n",
      " 55%|███████████████████████████████████████████▉                                    | 317/577 [00:34<00:22, 11.34it/s]\u001b[A\n",
      " 55%|████████████████████████████████████████████▏                                   | 319/577 [00:34<00:22, 11.65it/s]\u001b[A\n",
      " 56%|████████████████████████████████████████████▌                                   | 321/577 [00:34<00:21, 11.86it/s]\u001b[A\n",
      " 56%|████████████████████████████████████████████▊                                   | 323/577 [00:34<00:22, 11.47it/s]\u001b[A\n",
      " 56%|█████████████████████████████████████████████                                   | 325/577 [00:34<00:21, 11.84it/s]\u001b[A\n",
      " 57%|█████████████████████████████████████████████▎                                  | 327/577 [00:35<00:21, 11.40it/s]\u001b[A\n",
      " 57%|█████████████████████████████████████████████▌                                  | 329/577 [00:35<00:21, 11.80it/s]\u001b[A\n",
      " 57%|█████████████████████████████████████████████▉                                  | 331/577 [00:35<00:21, 11.44it/s]\u001b[A\n",
      " 58%|██████████████████████████████████████████████▏                                 | 333/577 [00:35<00:20, 11.72it/s]\u001b[A\n",
      " 58%|██████████████████████████████████████████████▍                                 | 335/577 [00:35<00:21, 11.37it/s]\u001b[A\n",
      " 58%|██████████████████████████████████████████████▋                                 | 337/577 [00:35<00:20, 11.73it/s]\u001b[A\n",
      " 59%|███████████████████████████████████████████████                                 | 339/577 [00:36<00:21, 11.16it/s]\u001b[A\n",
      " 59%|███████████████████████████████████████████████▎                                | 341/577 [00:36<00:20, 11.56it/s]\u001b[A\n",
      " 59%|███████████████████████████████████████████████▌                                | 343/577 [00:36<00:21, 11.05it/s]\u001b[A\n",
      " 60%|███████████████████████████████████████████████▊                                | 345/577 [00:36<00:20, 11.52it/s]\u001b[A\n",
      " 60%|████████████████████████████████████████████████                                | 347/577 [00:36<00:20, 11.06it/s]\u001b[A\n",
      " 60%|████████████████████████████████████████████████▍                               | 349/577 [00:36<00:19, 11.51it/s]\u001b[A\n",
      " 61%|████████████████████████████████████████████████▋                               | 351/577 [00:37<00:21, 10.40it/s]\u001b[A\n",
      " 61%|████████████████████████████████████████████████▉                               | 353/577 [00:37<00:20, 11.01it/s]\u001b[A\n",
      " 62%|█████████████████████████████████████████████████▏                              | 355/577 [00:37<00:21, 10.12it/s]\u001b[A\n",
      " 62%|█████████████████████████████████████████████████▍                              | 357/577 [00:37<00:20, 10.77it/s]\u001b[A\n",
      " 62%|█████████████████████████████████████████████████▊                              | 359/577 [00:37<00:21, 10.11it/s]\u001b[A\n",
      " 63%|██████████████████████████████████████████████████                              | 361/577 [00:38<00:20, 10.76it/s]\u001b[A\n",
      " 63%|██████████████████████████████████████████████████▎                             | 363/577 [00:38<00:20, 10.42it/s]\u001b[A\n",
      " 63%|██████████████████████████████████████████████████▌                             | 365/577 [00:38<00:19, 10.83it/s]\u001b[A\n",
      " 64%|██████████████████████████████████████████████████▉                             | 367/577 [00:38<00:20, 10.49it/s]\u001b[A\n",
      " 64%|███████████████████████████████████████████████████▏                            | 369/577 [00:38<00:18, 11.09it/s]\u001b[A\n",
      " 64%|███████████████████████████████████████████████████▍                            | 371/577 [00:39<00:19, 10.75it/s]\u001b[A\n",
      " 65%|███████████████████████████████████████████████████▋                            | 373/577 [00:39<00:18, 11.30it/s]\u001b[A\n",
      " 65%|███████████████████████████████████████████████████▉                            | 375/577 [00:39<00:18, 10.99it/s]\u001b[A\n",
      " 65%|████████████████████████████████████████████████████▎                           | 377/577 [00:39<00:17, 11.46it/s]\u001b[A\n",
      " 66%|████████████████████████████████████████████████████▌                           | 379/577 [00:39<00:18, 10.62it/s]\u001b[A\n",
      " 66%|████████████████████████████████████████████████████▊                           | 381/577 [00:39<00:17, 11.23it/s]\u001b[A\n",
      " 66%|█████████████████████████████████████████████████████                           | 383/577 [00:40<00:18, 10.58it/s]\u001b[A\n",
      " 67%|█████████████████████████████████████████████████████▍                          | 385/577 [00:40<00:17, 11.15it/s]\u001b[A\n",
      " 67%|█████████████████████████████████████████████████████▋                          | 387/577 [00:40<00:18, 10.50it/s]\u001b[A\n",
      " 67%|█████████████████████████████████████████████████████▉                          | 389/577 [00:40<00:16, 11.13it/s]\u001b[A\n",
      " 68%|██████████████████████████████████████████████████████▏                         | 391/577 [00:40<00:17, 10.72it/s]\u001b[A\n",
      " 68%|██████████████████████████████████████████████████████▍                         | 393/577 [00:41<00:16, 11.27it/s]\u001b[A\n",
      " 68%|██████████████████████████████████████████████████████▊                         | 395/577 [00:41<00:16, 11.02it/s]\u001b[A\n",
      " 69%|███████████████████████████████████████████████████████                         | 397/577 [00:41<00:15, 11.52it/s]\u001b[A\n",
      " 69%|███████████████████████████████████████████████████████▎                        | 399/577 [00:41<00:16, 11.12it/s]\u001b[A\n",
      " 69%|███████████████████████████████████████████████████████▌                        | 401/577 [00:41<00:15, 11.57it/s]\u001b[A\n",
      " 70%|███████████████████████████████████████████████████████▉                        | 403/577 [00:41<00:16, 10.77it/s]\u001b[A\n",
      " 70%|████████████████████████████████████████████████████████▏                       | 405/577 [00:42<00:15, 11.34it/s]\u001b[A\n",
      " 71%|████████████████████████████████████████████████████████▍                       | 407/577 [00:42<00:16, 10.40it/s]\u001b[A\n",
      " 71%|████████████████████████████████████████████████████████▋                       | 409/577 [00:42<00:15, 10.86it/s]\u001b[A\n",
      " 71%|████████████████████████████████████████████████████████▉                       | 411/577 [00:42<00:16, 10.19it/s]\u001b[A\n",
      " 72%|█████████████████████████████████████████████████████████▎                      | 413/577 [00:42<00:15, 10.81it/s]\u001b[A\n",
      " 72%|█████████████████████████████████████████████████████████▌                      | 415/577 [00:43<00:15, 10.32it/s]\u001b[A\n",
      " 72%|█████████████████████████████████████████████████████████▊                      | 417/577 [00:43<00:14, 10.93it/s]\u001b[A\n",
      " 73%|██████████████████████████████████████████████████████████                      | 419/577 [00:43<00:14, 10.80it/s]\u001b[A\n",
      " 73%|██████████████████████████████████████████████████████████▎                     | 421/577 [00:43<00:13, 11.26it/s]\u001b[A\n",
      " 73%|██████████████████████████████████████████████████████████▋                     | 423/577 [00:43<00:13, 11.06it/s]\u001b[A\n",
      " 74%|██████████████████████████████████████████████████████████▉                     | 425/577 [00:43<00:13, 11.44it/s]\u001b[A\n",
      " 74%|███████████████████████████████████████████████████████████▏                    | 427/577 [00:44<00:13, 11.25it/s]\u001b[A\n",
      " 74%|███████████████████████████████████████████████████████████▍                    | 429/577 [00:44<00:12, 11.63it/s]\u001b[A\n",
      " 75%|███████████████████████████████████████████████████████████▊                    | 431/577 [00:44<00:13, 11.12it/s]\u001b[A\n",
      " 75%|████████████████████████████████████████████████████████████                    | 433/577 [00:44<00:12, 11.55it/s]\u001b[A\n",
      " 75%|████████████████████████████████████████████████████████████▎                   | 435/577 [00:44<00:12, 11.08it/s]\u001b[A\n",
      " 76%|████████████████████████████████████████████████████████████▌                   | 437/577 [00:45<00:12, 11.57it/s]\u001b[A\n",
      " 76%|████████████████████████████████████████████████████████████▊                   | 439/577 [00:45<00:12, 11.17it/s]\u001b[A\n",
      " 76%|█████████████████████████████████████████████████████████████▏                  | 441/577 [00:45<00:11, 11.57it/s]\u001b[A\n",
      " 77%|█████████████████████████████████████████████████████████████▍                  | 443/577 [00:45<00:11, 11.23it/s]\u001b[A\n",
      " 77%|█████████████████████████████████████████████████████████████▋                  | 445/577 [00:45<00:11, 11.63it/s]\u001b[A\n"
     ]
    },
    {
     "name": "stderr",
     "output_type": "stream",
     "text": [
      " 77%|█████████████████████████████████████████████████████████████▉                  | 447/577 [00:45<00:11, 11.32it/s]\u001b[A\n",
      " 78%|██████████████████████████████████████████████████████████████▎                 | 449/577 [00:46<00:10, 11.65it/s]\u001b[A\n",
      " 78%|██████████████████████████████████████████████████████████████▌                 | 451/577 [00:46<00:11, 11.43it/s]\u001b[A\n",
      " 79%|██████████████████████████████████████████████████████████████▊                 | 453/577 [00:46<00:10, 11.83it/s]\u001b[A\n",
      " 79%|███████████████████████████████████████████████████████████████                 | 455/577 [00:46<00:10, 11.39it/s]\u001b[A\n",
      " 79%|███████████████████████████████████████████████████████████████▎                | 457/577 [00:46<00:10, 11.78it/s]\u001b[A\n",
      " 80%|███████████████████████████████████████████████████████████████▋                | 459/577 [00:46<00:10, 11.36it/s]\u001b[A\n",
      " 80%|███████████████████████████████████████████████████████████████▉                | 461/577 [00:47<00:09, 11.67it/s]\u001b[A\n",
      " 80%|████████████████████████████████████████████████████████████████▏               | 463/577 [00:47<00:09, 11.41it/s]\u001b[A\n",
      " 81%|████████████████████████████████████████████████████████████████▍               | 465/577 [00:47<00:09, 11.81it/s]\u001b[A\n",
      " 81%|████████████████████████████████████████████████████████████████▋               | 467/577 [00:47<00:09, 11.36it/s]\u001b[A\n",
      " 81%|█████████████████████████████████████████████████████████████████               | 469/577 [00:47<00:09, 11.75it/s]\u001b[A\n",
      " 82%|█████████████████████████████████████████████████████████████████▎              | 471/577 [00:47<00:09, 11.42it/s]\u001b[A\n",
      " 82%|█████████████████████████████████████████████████████████████████▌              | 473/577 [00:48<00:08, 11.82it/s]\u001b[A\n",
      " 82%|█████████████████████████████████████████████████████████████████▊              | 475/577 [00:48<00:08, 11.41it/s]\u001b[A\n",
      " 83%|██████████████████████████████████████████████████████████████████▏             | 477/577 [00:48<00:08, 11.77it/s]\u001b[A\n",
      " 83%|██████████████████████████████████████████████████████████████████▍             | 479/577 [00:48<00:08, 11.43it/s]\u001b[A\n",
      " 83%|██████████████████████████████████████████████████████████████████▋             | 481/577 [00:48<00:08, 11.77it/s]\u001b[A\n",
      " 84%|██████████████████████████████████████████████████████████████████▉             | 483/577 [00:49<00:08, 11.32it/s]\u001b[A\n",
      " 84%|███████████████████████████████████████████████████████████████████▏            | 485/577 [00:49<00:07, 11.72it/s]\u001b[A\n",
      " 84%|███████████████████████████████████████████████████████████████████▌            | 487/577 [00:49<00:07, 11.38it/s]\u001b[A\n",
      " 85%|███████████████████████████████████████████████████████████████████▊            | 489/577 [00:49<00:07, 11.66it/s]\u001b[A\n",
      " 85%|████████████████████████████████████████████████████████████████████            | 491/577 [00:49<00:07, 11.31it/s]\u001b[A\n",
      " 85%|████████████████████████████████████████████████████████████████████▎           | 493/577 [00:49<00:07, 11.67it/s]\u001b[A\n",
      " 86%|████████████████████████████████████████████████████████████████████▋           | 495/577 [00:50<00:07, 11.27it/s]\u001b[A\n",
      " 86%|████████████████████████████████████████████████████████████████████▉           | 497/577 [00:50<00:06, 11.73it/s]\u001b[A\n",
      " 86%|█████████████████████████████████████████████████████████████████████▏          | 499/577 [00:50<00:06, 11.43it/s]\u001b[A\n",
      " 87%|█████████████████████████████████████████████████████████████████████▍          | 501/577 [00:50<00:06, 11.78it/s]\u001b[A\n",
      " 87%|█████████████████████████████████████████████████████████████████████▋          | 503/577 [00:50<00:06, 11.48it/s]\u001b[A\n",
      " 88%|██████████████████████████████████████████████████████████████████████          | 505/577 [00:50<00:06, 11.86it/s]\u001b[A\n",
      " 88%|██████████████████████████████████████████████████████████████████████▎         | 507/577 [00:51<00:06, 11.44it/s]\u001b[A\n",
      " 88%|██████████████████████████████████████████████████████████████████████▌         | 509/577 [00:51<00:05, 11.77it/s]\u001b[A\n",
      " 89%|██████████████████████████████████████████████████████████████████████▊         | 511/577 [00:51<00:05, 11.41it/s]\u001b[A\n",
      " 89%|███████████████████████████████████████████████████████████████████████▏        | 513/577 [00:51<00:05, 11.63it/s]\u001b[A\n",
      " 89%|███████████████████████████████████████████████████████████████████████▍        | 515/577 [00:51<00:05, 11.26it/s]\u001b[A\n",
      " 90%|███████████████████████████████████████████████████████████████████████▋        | 517/577 [00:51<00:05, 11.70it/s]\u001b[A\n",
      " 90%|███████████████████████████████████████████████████████████████████████▉        | 519/577 [00:52<00:05, 11.35it/s]\u001b[A\n",
      " 90%|████████████████████████████████████████████████████████████████████████▏       | 521/577 [00:52<00:04, 11.78it/s]\u001b[A\n",
      " 91%|████████████████████████████████████████████████████████████████████████▌       | 523/577 [00:52<00:04, 11.46it/s]\u001b[A\n",
      " 91%|████████████████████████████████████████████████████████████████████████▊       | 525/577 [00:52<00:04, 11.83it/s]\u001b[A\n",
      " 91%|█████████████████████████████████████████████████████████████████████████       | 527/577 [00:52<00:04, 11.51it/s]\u001b[A\n",
      " 92%|█████████████████████████████████████████████████████████████████████████▎      | 529/577 [00:52<00:04, 11.86it/s]\u001b[A\n",
      " 92%|█████████████████████████████████████████████████████████████████████████▌      | 531/577 [00:53<00:03, 11.54it/s]\u001b[A\n",
      " 92%|█████████████████████████████████████████████████████████████████████████▉      | 533/577 [00:53<00:03, 11.90it/s]\u001b[A\n",
      " 93%|██████████████████████████████████████████████████████████████████████████▏     | 535/577 [00:53<00:03, 11.54it/s]\u001b[A\n",
      " 93%|██████████████████████████████████████████████████████████████████████████▍     | 537/577 [00:53<00:03, 11.95it/s]\u001b[A\n",
      " 93%|██████████████████████████████████████████████████████████████████████████▋     | 539/577 [00:53<00:03, 11.62it/s]\u001b[A\n",
      " 94%|███████████████████████████████████████████████████████████████████████████     | 541/577 [00:53<00:03, 11.97it/s]\u001b[A\n",
      " 94%|███████████████████████████████████████████████████████████████████████████▎    | 543/577 [00:54<00:02, 11.65it/s]\u001b[A\n",
      " 94%|███████████████████████████████████████████████████████████████████████████▌    | 545/577 [00:54<00:02, 12.01it/s]\u001b[A\n",
      " 95%|███████████████████████████████████████████████████████████████████████████▊    | 547/577 [00:54<00:02, 11.55it/s]\u001b[A\n",
      " 95%|████████████████████████████████████████████████████████████████████████████    | 549/577 [00:54<00:02, 11.93it/s]\u001b[A\n",
      " 95%|████████████████████████████████████████████████████████████████████████████▍   | 551/577 [00:54<00:02, 11.33it/s]\u001b[A\n",
      " 96%|████████████████████████████████████████████████████████████████████████████▋   | 553/577 [00:55<00:02, 11.73it/s]\u001b[A\n",
      " 96%|████████████████████████████████████████████████████████████████████████████▉   | 555/577 [00:55<00:01, 11.20it/s]\u001b[A\n",
      " 97%|█████████████████████████████████████████████████████████████████████████████▏  | 557/577 [00:55<00:01, 11.65it/s]\u001b[A\n",
      " 97%|█████████████████████████████████████████████████████████████████████████████▌  | 559/577 [00:55<00:01, 11.35it/s]\u001b[A\n",
      " 97%|█████████████████████████████████████████████████████████████████████████████▊  | 561/577 [00:55<00:01, 11.79it/s]\u001b[A\n",
      " 98%|██████████████████████████████████████████████████████████████████████████████  | 563/577 [00:55<00:01, 11.51it/s]\u001b[A\n",
      " 98%|██████████████████████████████████████████████████████████████████████████████▎ | 565/577 [00:56<00:01, 11.90it/s]\u001b[A\n",
      " 98%|██████████████████████████████████████████████████████████████████████████████▌ | 567/577 [00:56<00:00, 11.60it/s]\u001b[A\n",
      " 99%|██████████████████████████████████████████████████████████████████████████████▉ | 569/577 [00:56<00:00, 11.97it/s]\u001b[A\n",
      " 99%|███████████████████████████████████████████████████████████████████████████████▏| 571/577 [00:56<00:00, 11.63it/s]\u001b[A\n",
      " 99%|███████████████████████████████████████████████████████████████████████████████▍| 573/577 [00:56<00:00, 11.99it/s]\u001b[A\n",
      "100%|███████████████████████████████████████████████████████████████████████████████▋| 575/577 [00:56<00:00, 11.66it/s]\u001b[A\n",
      "100%|████████████████████████████████████████████████████████████████████████████████| 577/577 [00:57<00:00, 10.11it/s]\u001b[A\n"
     ]
    }
   ],
   "source": [
    "# 特征选择\n",
    "drop_feat = ['label','id','uid','pt_d']\n",
    "feature_name = [i for i in data.columns if i not in drop_feat]\n",
    "useless_col = []\n",
    "for col in tqdm(feature_name):\n",
    "    if (data[col].value_counts().iloc[0] / data_len) > 0.95:\n",
    "        useless_col.append(col)"
   ]
  },
  {
   "cell_type": "code",
   "execution_count": 31,
   "metadata": {},
   "outputs": [
    {
     "data": {
      "text/plain": [
       "['membership_life_duration',\n",
       " 'membership_life_duration_count',\n",
       " 'STAT_uid_city_nunique_2',\n",
       " 'STAT_uid_device_name_nunique_2',\n",
       " 'STAT_uid_list_time_nunique_2',\n",
       " 'STAT_task_id_age_max',\n",
       " 'STAT_task_id_city_rank_min',\n",
       " 'STAT_task_id_city_rank_max',\n",
       " 'STAT_task_id_career_min',\n",
       " 'STAT_task_id_his_app_size_std',\n",
       " 'STAT_task_id_his_on_shelf_time_std',\n",
       " 'STAT_task_id_app_score_std',\n",
       " 'STAT_task_id_up_life_duration_min',\n",
       " 'STAT_task_id_up_life_duration_max',\n",
       " 'STAT_task_id_communication_avgonline_30d_min',\n",
       " 'STAT_task_id_communication_avgonline_30d_max',\n",
       " 'STAT_dev_id_age_min',\n",
       " 'STAT_dev_id_age_max',\n",
       " 'STAT_dev_id_city_rank_min',\n",
       " 'STAT_dev_id_city_rank_max',\n",
       " 'STAT_dev_id_career_min',\n",
       " 'STAT_dev_id_career_max',\n",
       " 'STAT_dev_id_his_on_shelf_time_std',\n",
       " 'STAT_dev_id_app_score_std',\n",
       " 'STAT_dev_id_emui_dev_min',\n",
       " 'STAT_dev_id_emui_dev_max',\n",
       " 'STAT_dev_id_device_price_min',\n",
       " 'STAT_dev_id_device_price_max',\n",
       " 'STAT_dev_id_up_life_duration_min',\n",
       " 'STAT_dev_id_up_life_duration_max',\n",
       " 'STAT_dev_id_communication_avgonline_30d_min',\n",
       " 'STAT_dev_id_communication_avgonline_30d_max',\n",
       " 'STAT_adv_prim_id_age_min',\n",
       " 'STAT_adv_prim_id_age_max',\n",
       " 'STAT_adv_prim_id_city_rank_min',\n",
       " 'STAT_adv_prim_id_city_rank_max',\n",
       " 'STAT_adv_prim_id_career_min',\n",
       " 'STAT_adv_prim_id_career_max',\n",
       " 'STAT_adv_prim_id_emui_dev_max',\n",
       " 'STAT_adv_prim_id_device_price_min',\n",
       " 'STAT_adv_prim_id_up_life_duration_min',\n",
       " 'STAT_adv_prim_id_up_life_duration_max',\n",
       " 'STAT_adv_prim_id_communication_avgonline_30d_min',\n",
       " 'STAT_adv_prim_id_communication_avgonline_30d_max',\n",
       " 'STAT_adv_id_age_max',\n",
       " 'STAT_adv_id_city_rank_min',\n",
       " 'STAT_adv_id_city_rank_max',\n",
       " 'STAT_adv_id_career_min',\n",
       " 'STAT_adv_id_his_app_size_std',\n",
       " 'STAT_adv_id_his_on_shelf_time_std',\n",
       " 'STAT_adv_id_app_score_std',\n",
       " 'STAT_adv_id_up_life_duration_min',\n",
       " 'STAT_adv_id_up_life_duration_max',\n",
       " 'STAT_adv_id_communication_avgonline_30d_min',\n",
       " 'STAT_adv_id_communication_avgonline_30d_max',\n",
       " 'STAT_inter_type_cd_age_min',\n",
       " 'STAT_inter_type_cd_age_max',\n",
       " 'STAT_inter_type_cd_city_rank_min',\n",
       " 'STAT_inter_type_cd_city_rank_max',\n",
       " 'STAT_inter_type_cd_career_min',\n",
       " 'STAT_inter_type_cd_career_max',\n",
       " 'STAT_inter_type_cd_his_app_size_min',\n",
       " 'STAT_inter_type_cd_his_on_shelf_time_min',\n",
       " 'STAT_inter_type_cd_app_score_min',\n",
       " 'STAT_inter_type_cd_emui_dev_min',\n",
       " 'STAT_inter_type_cd_emui_dev_max',\n",
       " 'STAT_inter_type_cd_device_price_min',\n",
       " 'STAT_inter_type_cd_device_price_max',\n",
       " 'STAT_inter_type_cd_up_life_duration_min',\n",
       " 'STAT_inter_type_cd_up_life_duration_max',\n",
       " 'STAT_inter_type_cd_communication_avgonline_30d_min',\n",
       " 'STAT_inter_type_cd_communication_avgonline_30d_max',\n",
       " 'STAT_slot_id_age_min',\n",
       " 'STAT_slot_id_age_max',\n",
       " 'STAT_slot_id_city_rank_min',\n",
       " 'STAT_slot_id_city_rank_max',\n",
       " 'STAT_slot_id_career_min',\n",
       " 'STAT_slot_id_career_max',\n",
       " 'STAT_slot_id_his_app_size_min',\n",
       " 'STAT_slot_id_his_app_size_max',\n",
       " 'STAT_slot_id_his_on_shelf_time_min',\n",
       " 'STAT_slot_id_his_on_shelf_time_max',\n",
       " 'STAT_slot_id_app_score_min',\n",
       " 'STAT_slot_id_app_score_max',\n",
       " 'STAT_slot_id_emui_dev_min',\n",
       " 'STAT_slot_id_device_price_min',\n",
       " 'STAT_slot_id_device_price_max',\n",
       " 'STAT_slot_id_up_life_duration_min',\n",
       " 'STAT_slot_id_up_life_duration_max',\n",
       " 'STAT_slot_id_communication_avgonline_30d_min',\n",
       " 'STAT_slot_id_communication_avgonline_30d_max',\n",
       " 'STAT_tags_age_min',\n",
       " 'STAT_tags_age_max',\n",
       " 'STAT_tags_city_rank_min',\n",
       " 'STAT_tags_city_rank_max',\n",
       " 'STAT_tags_career_min',\n",
       " 'STAT_tags_career_max',\n",
       " 'STAT_tags_his_app_size_min',\n",
       " 'STAT_tags_his_on_shelf_time_min',\n",
       " 'STAT_tags_his_on_shelf_time_max',\n",
       " 'STAT_tags_app_score_min',\n",
       " 'STAT_tags_app_score_max',\n",
       " 'STAT_tags_emui_dev_min',\n",
       " 'STAT_tags_emui_dev_max',\n",
       " 'STAT_tags_device_price_min',\n",
       " 'STAT_tags_device_price_max',\n",
       " 'STAT_tags_up_life_duration_min',\n",
       " 'STAT_tags_up_life_duration_max',\n",
       " 'STAT_tags_communication_avgonline_30d_min',\n",
       " 'STAT_tags_communication_avgonline_30d_max',\n",
       " 'STAT_app_first_class_age_min',\n",
       " 'STAT_app_first_class_age_max',\n",
       " 'STAT_app_first_class_city_rank_min',\n",
       " 'STAT_app_first_class_city_rank_max',\n",
       " 'STAT_app_first_class_career_min',\n",
       " 'STAT_app_first_class_career_max',\n",
       " 'STAT_app_first_class_app_score_std',\n",
       " 'STAT_app_first_class_emui_dev_min',\n",
       " 'STAT_app_first_class_emui_dev_max',\n",
       " 'STAT_app_first_class_device_price_min',\n",
       " 'STAT_app_first_class_device_price_max',\n",
       " 'STAT_app_first_class_up_life_duration_min',\n",
       " 'STAT_app_first_class_up_life_duration_max',\n",
       " 'STAT_app_first_class_communication_avgonline_30d_min',\n",
       " 'STAT_app_first_class_communication_avgonline_30d_max']"
      ]
     },
     "execution_count": 31,
     "metadata": {},
     "output_type": "execute_result"
    }
   ],
   "source": [
    "useless_col"
   ]
  },
  {
   "cell_type": "code",
   "execution_count": 3,
   "metadata": {},
   "outputs": [],
   "source": [
    "# 回调 随机游走\n"
   ]
  },
  {
   "cell_type": "markdown",
   "metadata": {},
   "source": []
  },
  {
   "cell_type": "code",
   "execution_count": null,
   "metadata": {},
   "outputs": [],
   "source": []
  },
  {
   "cell_type": "code",
   "execution_count": 33,
   "metadata": {},
   "outputs": [],
   "source": [
    "data.drop(columns=useless_col,inplace=True)"
   ]
  },
  {
   "cell_type": "code",
   "execution_count": 35,
   "metadata": {},
   "outputs": [],
   "source": [
    "data.to_feather('../data/data_feat_all_reduce.feather')"
   ]
  },
  {
   "cell_type": "code",
   "execution_count": 34,
   "metadata": {},
   "outputs": [
    {
     "name": "stdout",
     "output_type": "stream",
     "text": [
      "<class 'pandas.core.frame.DataFrame'>\n",
      "RangeIndex: 6302870 entries, 0 to 6302869\n",
      "Columns: 455 entries, label to STAT_app_first_class_communication_avgonline_30d_mean\n",
      "dtypes: category(1), float16(233), int16(20), int32(109), int8(92)\n",
      "memory usage: 6.1 GB\n"
     ]
    }
   ],
   "source": [
    "data.info()"
   ]
  },
  {
   "cell_type": "markdown",
   "metadata": {},
   "source": [
    "# train and test"
   ]
  },
  {
   "cell_type": "code",
   "execution_count": 1,
   "metadata": {},
   "outputs": [],
   "source": [
    "import pandas as pd\n",
    "import numpy as np\n",
    "from tqdm import tqdm\n",
    "from sklearn.preprocessing import LabelEncoder\n",
    "import seaborn as sns\n",
    "import matplotlib.pyplot as plt\n",
    "import lightgbm as lgb\n",
    "from sklearn.metrics import roc_auc_score\n",
    "from sklearn.model_selection import KFold\n",
    "from sklearn.model_selection import StratifiedKFold\n",
    "from datetime import timedelta\n",
    "import time as datetime\n",
    "from gensim.models import Word2Vec\n",
    "# from feature_selector import FeatureSelector\n",
    "from gensim.models import Word2Vec\n",
    "\n",
    "from sklearn.metrics import classification_report, f1_score\n",
    "from sklearn.model_selection import StratifiedKFold, KFold\n",
    "from sklearn.decomposition import TruncatedSVD\n",
    "from sklearn.feature_extraction.text import TfidfVectorizer,CountVectorizer\n",
    "\n",
    "\n",
    "from deepctr.models import xDeepFM\n",
    "from sklearn.preprocessing import LabelEncoder,MinMaxScaler\n",
    "from deepctr.feature_column import SparseFeat, DenseFeat, get_feature_names\n",
    "import warnings\n",
    "warnings.filterwarnings('ignore')\n",
    "\n",
    "import os\n",
    "os.environ['CUDA_VISIBLE_DEVICES'] = \"0\""
   ]
  },
  {
   "cell_type": "code",
   "execution_count": null,
   "metadata": {},
   "outputs": [
    {
     "name": "stdout",
     "output_type": "stream",
     "text": [
      "Wall time: 935 ms\n"
     ]
    }
   ],
   "source": [
    "i_sparse_features = ['uid','task_id', 'adv_id', 'creat_type_cd', 'adv_prim_id',\n",
    "                   'dev_id', 'inter_type_cd', 'slot_id', 'spread_app_id', 'tags',\n",
    "                   'app_first_class', 'app_second_class','city', 'city_rank',\n",
    "                   'device_name','career', 'gender', 'net_type', 'residence', \n",
    "                   'consume_purchase','indu_name','label']\n",
    "%time sparse_data = pd.read_feather('../data/data_feat_all_reduce.feather',columns = i_sparse_features)\n",
    "%time dense_feature_scaler = pd.read_feather('../data/dense_feature_scaler.feather')\n",
    "pt_d  = pd.read_feather('../data/data_feat_all_reduce.feather',columns = ['pt_d'])\n",
    "\n"
   ]
  },
  {
   "cell_type": "code",
   "execution_count": null,
   "metadata": {},
   "outputs": [],
   "source": []
  },
  {
   "cell_type": "code",
   "execution_count": null,
   "metadata": {},
   "outputs": [],
   "source": []
  },
  {
   "cell_type": "code",
   "execution_count": 3,
   "metadata": {},
   "outputs": [],
   "source": [
    "sparse_features = ['task_id', 'adv_id', 'creat_type_cd', 'adv_prim_id',\n",
    "                   'dev_id', 'inter_type_cd', 'slot_id', 'spread_app_id', 'tags',\n",
    "                   'app_first_class', 'app_second_class','city', 'city_rank',\n",
    "                   'device_name','career', 'gender', 'net_type', 'residence', \n",
    "                   'consume_purchase','indu_name',]\n",
    "sparse_data[sparse_features] = sparse_data[sparse_features].fillna('-1', )\n",
    "types_map = sparse_data.dtypes\n",
    "for feat in sparse_features:\n",
    "    sparse_data[feat] = LabelEncoder().fit_transform(sparse_data[feat]).astype(types_map[feat])"
   ]
  },
  {
   "cell_type": "code",
   "execution_count": 4,
   "metadata": {},
   "outputs": [],
   "source": [
    "data = pd.concat([sparse_data,dense_feature_scaler],axis=1)\n",
    "data = pd.concat([data,pt_d],axis=1)"
   ]
  },
  {
   "cell_type": "code",
   "execution_count": null,
   "metadata": {},
   "outputs": [],
   "source": []
  },
  {
   "cell_type": "code",
   "execution_count": 5,
   "metadata": {},
   "outputs": [
    {
     "name": "stdout",
     "output_type": "stream",
     "text": [
      "<class 'pandas.core.frame.DataFrame'>\n",
      "RangeIndex: 6302870 entries, 0 to 6302869\n",
      "Columns: 454 entries, uid to pt_d\n",
      "dtypes: float16(432), int16(4), int32(1), int8(17)\n",
      "memory usage: 5.2 GB\n"
     ]
    }
   ],
   "source": [
    "data.info()"
   ]
  },
  {
   "cell_type": "code",
   "execution_count": 6,
   "metadata": {},
   "outputs": [],
   "source": [
    "drop_feat = ['label','id','uid','pt_d','communication_onlinerate']\n",
    "feature_name = [i for i in data.columns if i not in drop_feat]"
   ]
  },
  {
   "cell_type": "code",
   "execution_count": 7,
   "metadata": {},
   "outputs": [],
   "source": [
    "\n",
    "# membership_life_duration communication_onlinerate\n",
    "sparse_features = ['task_id', 'adv_id', 'creat_type_cd', 'adv_prim_id',\n",
    "                   'dev_id', 'inter_type_cd', 'slot_id', 'spread_app_id', 'tags',\n",
    "                   'app_first_class', 'app_second_class','city', 'city_rank',\n",
    "                   'device_name','career', 'gender', 'net_type', 'residence', \n",
    "                   'consume_purchase','indu_name',]\n",
    "dense_features_1 = ['age', 'device_size',  'his_app_size', 'his_on_shelf_time', 'app_score',\n",
    "                   'emui_dev', 'list_time', 'device_price', 'up_life_duration',\n",
    "                  'communication_avgonline_30d']\n",
    "dense_features_2 = [i for i in feature_name if i not in (sparse_features+dense_features_1)]\n",
    "dense_features = dense_features_2 + dense_features_1\n",
    "target = ['label']\n"
   ]
  },
  {
   "cell_type": "code",
   "execution_count": 8,
   "metadata": {},
   "outputs": [],
   "source": [
    "print('begin fillna....')\n",
    "data[sparse_features] = data[sparse_features].fillna('-1', )\n",
    "data[dense_features] = data[dense_features].fillna(0,)\n",
    "\n",
    "types_map = data.dtypes\n",
    "for feat in sparse_features:\n",
    "    data[feat] = LabelEncoder().fit_transform(data[feat]).astype(types_map[feat])\n",
    "    \n",
    "print('begin minmaxScaler')  \n",
    "for feat in tqdm(dense_features):\n",
    "    data[[feat]] = MinMaxScaler(feature_range=(0,1)).fit_transform(data[[feat]]).astype(np.float16)"
   ]
  },
  {
   "cell_type": "code",
   "execution_count": null,
   "metadata": {},
   "outputs": [],
   "source": []
  },
  {
   "cell_type": "code",
   "execution_count": null,
   "metadata": {
    "scrolled": false
   },
   "outputs": [],
   "source": []
  },
  {
   "cell_type": "code",
   "execution_count": 9,
   "metadata": {},
   "outputs": [],
   "source": [
    "fixlen_feature_columns  = [SparseFeat(feat,vocabulary_size=data[feat].nunique(),embedding_dim=4) for feat in sparse_features]\\\n",
    "            + [DenseFeat(feat,1,) for feat in dense_features]"
   ]
  },
  {
   "cell_type": "code",
   "execution_count": 3,
   "metadata": {},
   "outputs": [
    {
     "ename": "NameError",
     "evalue": "name 'fixlen_feature_columns' is not defined",
     "output_type": "error",
     "traceback": [
      "\u001b[1;31m---------------------------------------------------------------------------\u001b[0m",
      "\u001b[1;31mNameError\u001b[0m                                 Traceback (most recent call last)",
      "\u001b[1;32m<ipython-input-3-5274311f74dd>\u001b[0m in \u001b[0;36m<module>\u001b[1;34m\u001b[0m\n\u001b[0;32m      1\u001b[0m \u001b[1;31m# 生成特征列\u001b[0m\u001b[1;33m\u001b[0m\u001b[1;33m\u001b[0m\u001b[1;33m\u001b[0m\u001b[0m\n\u001b[1;32m----> 2\u001b[1;33m \u001b[0mdnn_feature_columns\u001b[0m \u001b[1;33m=\u001b[0m \u001b[0mfixlen_feature_columns\u001b[0m\u001b[1;33m\u001b[0m\u001b[1;33m\u001b[0m\u001b[0m\n\u001b[0m\u001b[0;32m      3\u001b[0m \u001b[0mlinear_feature_columns\u001b[0m \u001b[1;33m=\u001b[0m \u001b[0mfixlen_feature_columns\u001b[0m\u001b[1;33m\u001b[0m\u001b[1;33m\u001b[0m\u001b[0m\n\u001b[0;32m      4\u001b[0m \u001b[0mfeature_names\u001b[0m \u001b[1;33m=\u001b[0m \u001b[0mget_feature_names\u001b[0m\u001b[1;33m(\u001b[0m\u001b[0mlinear_feature_columns\u001b[0m \u001b[1;33m+\u001b[0m \u001b[0mdnn_feature_columns\u001b[0m\u001b[1;33m)\u001b[0m\u001b[1;33m\u001b[0m\u001b[1;33m\u001b[0m\u001b[0m\n",
      "\u001b[1;31mNameError\u001b[0m: name 'fixlen_feature_columns' is not defined"
     ]
    }
   ],
   "source": [
    "# 生成特征列\n",
    "dnn_feature_columns = fixlen_feature_columns\n",
    "linear_feature_columns = fixlen_feature_columns\n",
    "feature_names = get_feature_names(linear_feature_columns + dnn_feature_columns)"
   ]
  },
  {
   "cell_type": "code",
   "execution_count": null,
   "metadata": {},
   "outputs": [],
   "source": []
  },
  {
   "cell_type": "code",
   "execution_count": 11,
   "metadata": {},
   "outputs": [],
   "source": [
    "# train = data[data['pt_d'] == 6].reset_index(drop=True)\n",
    "# val = data[data['pt_d'] == 7].reset_index(drop=True)\n",
    "\n",
    "test = data[data['pt_d'] == 8].reset_index(drop=True)"
   ]
  },
  {
   "cell_type": "code",
   "execution_count": 12,
   "metadata": {},
   "outputs": [
    {
     "data": {
      "text/plain": [
       "47"
      ]
     },
     "execution_count": 12,
     "metadata": {},
     "output_type": "execute_result"
    }
   ],
   "source": [
    "del data \n",
    "import gc\n",
    "gc.collect()"
   ]
  },
  {
   "cell_type": "code",
   "execution_count": 13,
   "metadata": {},
   "outputs": [],
   "source": [
    "train_model_input = {name: train[name].values for name in feature_names}\n",
    "val_model_input = {name: val[name].values for name in feature_names}\n",
    "test_model_input = {name: test[name].values for name in feature_names}"
   ]
  },
  {
   "cell_type": "code",
   "execution_count": null,
   "metadata": {},
   "outputs": [],
   "source": []
  },
  {
   "cell_type": "code",
   "execution_count": 15,
   "metadata": {},
   "outputs": [
    {
     "name": "stdout",
     "output_type": "stream",
     "text": [
      "Train on 2630371 samples, validate on 2672499 samples\n",
      "Epoch 1/2\n",
      "2630371/2630371 [==============================] - 103s 39us/sample - loss: 0.2283 - binary_crossentropy: 0.2282 - accuracy: 0.9240 - val_loss: 0.2161 - val_binary_crossentropy: 0.2160 - val_accuracy: 0.9282\n",
      "Epoch 2/2\n",
      "2630371/2630371 [==============================] - 92s 35us/sample - loss: 0.2147 - binary_crossentropy: 0.2146 - accuracy: 0.9286 - val_loss: 0.2191 - val_binary_crossentropy: 0.2190 - val_accuracy: 0.9277\n"
     ]
    }
   ],
   "source": [
    "model = xDeepFM(linear_feature_columns,dnn_feature_columns,task='binary')\n",
    "model.compile('adam','binary_crossentropy',metrics=['binary_crossentropy','accuracy'])\n",
    "\n",
    "history = model.fit(train_model_input,train[target].values,batch_size=4096,epochs=2,\n",
    "                    validation_data = (val_model_input,val[target].values))\n"
   ]
  },
  {
   "cell_type": "code",
   "execution_count": 17,
   "metadata": {},
   "outputs": [
    {
     "data": {
      "text/plain": [
       "0.8117351026636368"
      ]
     },
     "execution_count": 17,
     "metadata": {},
     "output_type": "execute_result"
    }
   ],
   "source": [
    "pred_ans = model.predict(val_model_input,batch_size=4096*2)\n",
    "roc_auc_score(val[target].values,pred_ans)"
   ]
  },
  {
   "cell_type": "code",
   "execution_count": 2,
   "metadata": {},
   "outputs": [
    {
     "ename": "NameError",
     "evalue": "name 'linear_feature_columns' is not defined",
     "output_type": "error",
     "traceback": [
      "\u001b[1;31m---------------------------------------------------------------------------\u001b[0m",
      "\u001b[1;31mNameError\u001b[0m                                 Traceback (most recent call last)",
      "\u001b[1;32m<ipython-input-2-e1f54c1add51>\u001b[0m in \u001b[0;36m<module>\u001b[1;34m\u001b[0m\n\u001b[0;32m      1\u001b[0m \u001b[1;31m# 第二次训练，验证集作为训练\u001b[0m\u001b[1;33m\u001b[0m\u001b[1;33m\u001b[0m\u001b[1;33m\u001b[0m\u001b[0m\n\u001b[1;32m----> 2\u001b[1;33m \u001b[0mmodel\u001b[0m \u001b[1;33m=\u001b[0m \u001b[0mxDeepFM\u001b[0m\u001b[1;33m(\u001b[0m\u001b[0mlinear_feature_columns\u001b[0m\u001b[1;33m,\u001b[0m\u001b[0mdnn_feature_columns\u001b[0m\u001b[1;33m,\u001b[0m\u001b[0mtask\u001b[0m\u001b[1;33m=\u001b[0m\u001b[1;34m'binary'\u001b[0m\u001b[1;33m)\u001b[0m\u001b[1;33m\u001b[0m\u001b[1;33m\u001b[0m\u001b[0m\n\u001b[0m\u001b[0;32m      3\u001b[0m \u001b[0mmodel\u001b[0m\u001b[1;33m.\u001b[0m\u001b[0mcompile\u001b[0m\u001b[1;33m(\u001b[0m\u001b[1;34m'adam'\u001b[0m\u001b[1;33m,\u001b[0m\u001b[1;34m'binary_crossentropy'\u001b[0m\u001b[1;33m,\u001b[0m\u001b[0mmetrics\u001b[0m\u001b[1;33m=\u001b[0m\u001b[1;33m[\u001b[0m\u001b[1;34m'binary_crossentropy'\u001b[0m\u001b[1;33m,\u001b[0m\u001b[1;34m'accuracy'\u001b[0m\u001b[1;33m]\u001b[0m\u001b[1;33m)\u001b[0m\u001b[1;33m\u001b[0m\u001b[1;33m\u001b[0m\u001b[0m\n\u001b[0;32m      4\u001b[0m \u001b[1;33m\u001b[0m\u001b[0m\n\u001b[0;32m      5\u001b[0m \u001b[0mhistory\u001b[0m \u001b[1;33m=\u001b[0m \u001b[0mmodel\u001b[0m\u001b[1;33m.\u001b[0m\u001b[0mfit\u001b[0m\u001b[1;33m(\u001b[0m\u001b[0mval_model_input\u001b[0m\u001b[1;33m,\u001b[0m\u001b[0mval\u001b[0m\u001b[1;33m[\u001b[0m\u001b[0mtarget\u001b[0m\u001b[1;33m]\u001b[0m\u001b[1;33m.\u001b[0m\u001b[0mvalues\u001b[0m\u001b[1;33m,\u001b[0m\u001b[0mbatch_size\u001b[0m\u001b[1;33m=\u001b[0m\u001b[1;36m4096\u001b[0m\u001b[1;33m,\u001b[0m\u001b[0mepochs\u001b[0m\u001b[1;33m=\u001b[0m\u001b[1;36m2\u001b[0m\u001b[1;33m,\u001b[0m\u001b[1;33m)\u001b[0m\u001b[1;33m\u001b[0m\u001b[1;33m\u001b[0m\u001b[0m\n",
      "\u001b[1;31mNameError\u001b[0m: name 'linear_feature_columns' is not defined"
     ]
    }
   ],
   "source": [
    "# 第二次训练，验证集作为训练\n",
    "\n",
    "history = model.fit(val_model_input,val[target].values,batch_size=4096,epochs=2,)"
   ]
  },
  {
   "cell_type": "code",
   "execution_count": 19,
   "metadata": {},
   "outputs": [
    {
     "data": {
      "text/plain": [
       "0.818748929995436"
      ]
     },
     "execution_count": 19,
     "metadata": {},
     "output_type": "execute_result"
    }
   ],
   "source": [
    "pred_ans = model.predict(val_model_input,batch_size=4096*2)\n",
    "roc_auc_score(val[target].values,pred_ans)"
   ]
  },
  {
   "cell_type": "code",
   "execution_count": 20,
   "metadata": {},
   "outputs": [],
   "source": [
    "pred_ans = model.predict(test_model_input,batch_size=4096*4)"
   ]
  },
  {
   "cell_type": "code",
   "execution_count": 23,
   "metadata": {},
   "outputs": [],
   "source": [
    "submit = pd.DataFrame()\n",
    "submit['id'] = range(1,len(test)+1)\n",
    "submit['probability'] = pred_ans\n"
   ]
  },
  {
   "cell_type": "code",
   "execution_count": 24,
   "metadata": {},
   "outputs": [
    {
     "data": {
      "text/html": [
       "<div>\n",
       "<style scoped>\n",
       "    .dataframe tbody tr th:only-of-type {\n",
       "        vertical-align: middle;\n",
       "    }\n",
       "\n",
       "    .dataframe tbody tr th {\n",
       "        vertical-align: top;\n",
       "    }\n",
       "\n",
       "    .dataframe thead th {\n",
       "        text-align: right;\n",
       "    }\n",
       "</style>\n",
       "<table border=\"1\" class=\"dataframe\">\n",
       "  <thead>\n",
       "    <tr style=\"text-align: right;\">\n",
       "      <th></th>\n",
       "      <th>id</th>\n",
       "      <th>probability</th>\n",
       "    </tr>\n",
       "  </thead>\n",
       "  <tbody>\n",
       "    <tr>\n",
       "      <th>0</th>\n",
       "      <td>1</td>\n",
       "      <td>0.017800</td>\n",
       "    </tr>\n",
       "    <tr>\n",
       "      <th>1</th>\n",
       "      <td>2</td>\n",
       "      <td>0.356191</td>\n",
       "    </tr>\n",
       "    <tr>\n",
       "      <th>2</th>\n",
       "      <td>3</td>\n",
       "      <td>0.505414</td>\n",
       "    </tr>\n",
       "    <tr>\n",
       "      <th>3</th>\n",
       "      <td>4</td>\n",
       "      <td>0.040682</td>\n",
       "    </tr>\n",
       "    <tr>\n",
       "      <th>4</th>\n",
       "      <td>5</td>\n",
       "      <td>0.123632</td>\n",
       "    </tr>\n",
       "  </tbody>\n",
       "</table>\n",
       "</div>"
      ],
      "text/plain": [
       "   id  probability\n",
       "0   1     0.017800\n",
       "1   2     0.356191\n",
       "2   3     0.505414\n",
       "3   4     0.040682\n",
       "4   5     0.123632"
      ]
     },
     "execution_count": 24,
     "metadata": {},
     "output_type": "execute_result"
    }
   ],
   "source": [
    "submit.head()"
   ]
  },
  {
   "cell_type": "code",
   "execution_count": 25,
   "metadata": {},
   "outputs": [],
   "source": [
    "submit.to_csv('../submit/0906_1/submission.csv',index=False)"
   ]
  },
  {
   "cell_type": "code",
   "execution_count": null,
   "metadata": {},
   "outputs": [],
   "source": []
  },
  {
   "cell_type": "code",
   "execution_count": null,
   "metadata": {},
   "outputs": [],
   "source": []
  },
  {
   "cell_type": "code",
   "execution_count": null,
   "metadata": {},
   "outputs": [],
   "source": []
  },
  {
   "cell_type": "code",
   "execution_count": null,
   "metadata": {},
   "outputs": [],
   "source": []
  },
  {
   "cell_type": "code",
   "execution_count": null,
   "metadata": {},
   "outputs": [],
   "source": []
  },
  {
   "cell_type": "code",
   "execution_count": null,
   "metadata": {},
   "outputs": [],
   "source": []
  },
  {
   "cell_type": "code",
   "execution_count": null,
   "metadata": {},
   "outputs": [],
   "source": []
  },
  {
   "cell_type": "code",
   "execution_count": null,
   "metadata": {},
   "outputs": [],
   "source": []
  },
  {
   "cell_type": "code",
   "execution_count": null,
   "metadata": {},
   "outputs": [],
   "source": []
  },
  {
   "cell_type": "code",
   "execution_count": null,
   "metadata": {},
   "outputs": [],
   "source": []
  },
  {
   "cell_type": "code",
   "execution_count": null,
   "metadata": {},
   "outputs": [],
   "source": []
  },
  {
   "cell_type": "code",
   "execution_count": null,
   "metadata": {},
   "outputs": [],
   "source": []
  },
  {
   "cell_type": "code",
   "execution_count": null,
   "metadata": {},
   "outputs": [],
   "source": []
  },
  {
   "cell_type": "code",
   "execution_count": null,
   "metadata": {},
   "outputs": [],
   "source": []
  },
  {
   "cell_type": "code",
   "execution_count": null,
   "metadata": {},
   "outputs": [],
   "source": []
  },
  {
   "cell_type": "code",
   "execution_count": null,
   "metadata": {},
   "outputs": [],
   "source": []
  },
  {
   "cell_type": "code",
   "execution_count": null,
   "metadata": {},
   "outputs": [],
   "source": []
  },
  {
   "cell_type": "code",
   "execution_count": 17,
   "metadata": {},
   "outputs": [
    {
     "data": {
      "text/plain": [
       "array([0.01327293, 0.15979464, 0.23355472, ..., 0.15256163, 0.08342812,\n",
       "       0.07438161])"
      ]
     },
     "execution_count": 17,
     "metadata": {},
     "output_type": "execute_result"
    }
   ],
   "source": [
    "test_pred_prob"
   ]
  },
  {
   "cell_type": "code",
   "execution_count": 18,
   "metadata": {},
   "outputs": [],
   "source": [
    "submit = pd.DataFrame()\n",
    "submit['id'] = range(1,len(test)+1)\n",
    "submit['probability'] = test_pred_prob\n"
   ]
  },
  {
   "cell_type": "code",
   "execution_count": 20,
   "metadata": {},
   "outputs": [],
   "source": [
    "submit.to_csv('../submit/0903_2/submission.csv',index=False)"
   ]
  },
  {
   "cell_type": "code",
   "execution_count": 21,
   "metadata": {},
   "outputs": [
    {
     "data": {
      "text/plain": [
       "array([0.01163306, 0.06300333, 0.02498697, ..., 0.01603606, 0.01725756,\n",
       "       0.02520344])"
      ]
     },
     "execution_count": 21,
     "metadata": {},
     "output_type": "execute_result"
    }
   ],
   "source": [
    "prob_oof"
   ]
  },
  {
   "cell_type": "code",
   "execution_count": 18,
   "metadata": {},
   "outputs": [
    {
     "data": {
      "text/html": [
       "<div>\n",
       "<style scoped>\n",
       "    .dataframe tbody tr th:only-of-type {\n",
       "        vertical-align: middle;\n",
       "    }\n",
       "\n",
       "    .dataframe tbody tr th {\n",
       "        vertical-align: top;\n",
       "    }\n",
       "\n",
       "    .dataframe thead th {\n",
       "        text-align: right;\n",
       "    }\n",
       "</style>\n",
       "<table border=\"1\" class=\"dataframe\">\n",
       "  <thead>\n",
       "    <tr style=\"text-align: right;\">\n",
       "      <th></th>\n",
       "      <th>id</th>\n",
       "      <th>to</th>\n",
       "    </tr>\n",
       "  </thead>\n",
       "  <tbody>\n",
       "    <tr>\n",
       "      <th>0</th>\n",
       "      <td>1</td>\n",
       "      <td>2</td>\n",
       "    </tr>\n",
       "    <tr>\n",
       "      <th>1</th>\n",
       "      <td>2</td>\n",
       "      <td>3</td>\n",
       "    </tr>\n",
       "    <tr>\n",
       "      <th>2</th>\n",
       "      <td>3</td>\n",
       "      <td>4</td>\n",
       "    </tr>\n",
       "  </tbody>\n",
       "</table>\n",
       "</div>"
      ],
      "text/plain": [
       "   id  to\n",
       "0   1   2\n",
       "1   2   3\n",
       "2   3   4"
      ]
     },
     "execution_count": 18,
     "metadata": {},
     "output_type": "execute_result"
    }
   ],
   "source": [
    "t1 = pd.DataFrame({'id':[1,2,3],'to':[2,3,4],'label':[9,6,7]})\n",
    "t1"
   ]
  },
  {
   "cell_type": "code",
   "execution_count": 19,
   "metadata": {},
   "outputs": [
    {
     "data": {
      "text/html": [
       "<div>\n",
       "<style scoped>\n",
       "    .dataframe tbody tr th:only-of-type {\n",
       "        vertical-align: middle;\n",
       "    }\n",
       "\n",
       "    .dataframe tbody tr th {\n",
       "        vertical-align: top;\n",
       "    }\n",
       "\n",
       "    .dataframe thead th {\n",
       "        text-align: right;\n",
       "    }\n",
       "</style>\n",
       "<table border=\"1\" class=\"dataframe\">\n",
       "  <thead>\n",
       "    <tr style=\"text-align: right;\">\n",
       "      <th></th>\n",
       "      <th>ids</th>\n",
       "      <th>tos</th>\n",
       "    </tr>\n",
       "  </thead>\n",
       "  <tbody>\n",
       "    <tr>\n",
       "      <th>0</th>\n",
       "      <td>1</td>\n",
       "      <td>2</td>\n",
       "    </tr>\n",
       "    <tr>\n",
       "      <th>1</th>\n",
       "      <td>2</td>\n",
       "      <td>3</td>\n",
       "    </tr>\n",
       "    <tr>\n",
       "      <th>2</th>\n",
       "      <td>3</td>\n",
       "      <td>4</td>\n",
       "    </tr>\n",
       "  </tbody>\n",
       "</table>\n",
       "</div>"
      ],
      "text/plain": [
       "   ids  tos\n",
       "0    1    2\n",
       "1    2    3\n",
       "2    3    4"
      ]
     },
     "execution_count": 19,
     "metadata": {},
     "output_type": "execute_result"
    }
   ],
   "source": [
    "t2 = pd.DataFrame({'ids':[1,2,3],'tos':[2,3,4]})\n",
    "t2"
   ]
  },
  {
   "cell_type": "code",
   "execution_count": 20,
   "metadata": {},
   "outputs": [
    {
     "ename": "AttributeError",
     "evalue": "'DataFrame' object has no attribute 'map'",
     "output_type": "error",
     "traceback": [
      "\u001b[1;31m---------------------------------------------------------------------------\u001b[0m",
      "\u001b[1;31mAttributeError\u001b[0m                            Traceback (most recent call last)",
      "\u001b[1;32m<ipython-input-20-7eac2b2681eb>\u001b[0m in \u001b[0;36m<module>\u001b[1;34m\u001b[0m\n\u001b[1;32m----> 1\u001b[1;33m \u001b[0mt2\u001b[0m\u001b[1;33m[\u001b[0m\u001b[1;33m[\u001b[0m\u001b[1;34m'ids'\u001b[0m\u001b[1;33m,\u001b[0m\u001b[1;34m'tos'\u001b[0m\u001b[1;33m]\u001b[0m\u001b[1;33m]\u001b[0m\u001b[1;33m.\u001b[0m\u001b[0mmap\u001b[0m\u001b[1;33m(\u001b[0m\u001b[0mt1\u001b[0m\u001b[1;33m)\u001b[0m\u001b[1;33m\u001b[0m\u001b[1;33m\u001b[0m\u001b[0m\n\u001b[0m",
      "\u001b[1;32mD:\\anaconda3\\lib\\site-packages\\pandas\\core\\generic.py\u001b[0m in \u001b[0;36m__getattr__\u001b[1;34m(self, name)\u001b[0m\n\u001b[0;32m   5065\u001b[0m             \u001b[1;32mif\u001b[0m \u001b[0mself\u001b[0m\u001b[1;33m.\u001b[0m\u001b[0m_info_axis\u001b[0m\u001b[1;33m.\u001b[0m\u001b[0m_can_hold_identifiers_and_holds_name\u001b[0m\u001b[1;33m(\u001b[0m\u001b[0mname\u001b[0m\u001b[1;33m)\u001b[0m\u001b[1;33m:\u001b[0m\u001b[1;33m\u001b[0m\u001b[1;33m\u001b[0m\u001b[0m\n\u001b[0;32m   5066\u001b[0m                 \u001b[1;32mreturn\u001b[0m \u001b[0mself\u001b[0m\u001b[1;33m[\u001b[0m\u001b[0mname\u001b[0m\u001b[1;33m]\u001b[0m\u001b[1;33m\u001b[0m\u001b[1;33m\u001b[0m\u001b[0m\n\u001b[1;32m-> 5067\u001b[1;33m             \u001b[1;32mreturn\u001b[0m \u001b[0mobject\u001b[0m\u001b[1;33m.\u001b[0m\u001b[0m__getattribute__\u001b[0m\u001b[1;33m(\u001b[0m\u001b[0mself\u001b[0m\u001b[1;33m,\u001b[0m \u001b[0mname\u001b[0m\u001b[1;33m)\u001b[0m\u001b[1;33m\u001b[0m\u001b[1;33m\u001b[0m\u001b[0m\n\u001b[0m\u001b[0;32m   5068\u001b[0m \u001b[1;33m\u001b[0m\u001b[0m\n\u001b[0;32m   5069\u001b[0m     \u001b[1;32mdef\u001b[0m \u001b[0m__setattr__\u001b[0m\u001b[1;33m(\u001b[0m\u001b[0mself\u001b[0m\u001b[1;33m,\u001b[0m \u001b[0mname\u001b[0m\u001b[1;33m,\u001b[0m \u001b[0mvalue\u001b[0m\u001b[1;33m)\u001b[0m\u001b[1;33m:\u001b[0m\u001b[1;33m\u001b[0m\u001b[1;33m\u001b[0m\u001b[0m\n",
      "\u001b[1;31mAttributeError\u001b[0m: 'DataFrame' object has no attribute 'map'"
     ]
    }
   ],
   "source": [
    "t2[['ids','tos']].map(t1)"
   ]
  },
  {
   "cell_type": "code",
   "execution_count": null,
   "metadata": {},
   "outputs": [],
   "source": []
  }
 ],
 "metadata": {
  "kernelspec": {
   "display_name": "Python 3",
   "language": "python",
   "name": "python3"
  },
  "language_info": {
   "codemirror_mode": {
    "name": "ipython",
    "version": 3
   },
   "file_extension": ".py",
   "mimetype": "text/x-python",
   "name": "python",
   "nbconvert_exporter": "python",
   "pygments_lexer": "ipython3",
   "version": "3.7.6"
  }
 },
 "nbformat": 4,
 "nbformat_minor": 4
}
